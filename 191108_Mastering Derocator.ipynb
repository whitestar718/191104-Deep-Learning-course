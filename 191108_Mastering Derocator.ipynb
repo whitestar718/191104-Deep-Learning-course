{
 "cells": [
  {
   "cell_type": "markdown",
   "metadata": {},
   "source": [
    "# Beginning"
   ]
  },
  {
   "cell_type": "code",
   "execution_count": 1,
   "metadata": {},
   "outputs": [
    {
     "name": "stdout",
     "output_type": "stream",
     "text": [
      "foo!\n"
     ]
    }
   ],
   "source": [
    "def foo():\n",
    "    print('foo!')\n",
    "    \n",
    "foo()"
   ]
  },
  {
   "cell_type": "markdown",
   "metadata": {},
   "source": [
    "# functions in python are first-class\n",
    "\n",
    "Unlike languages such as Java, Python treats functions as first-class citizens.\n",
    "That means that the language treats functions and data in the same way. Like\n",
    "data, functions can be assigned to variables, copied, and used as return values. They can also be passed into other functions as parameters. Here’s an example: \n",
    "\n",
    "퍼스트 클래스 함수란, 함수를 데이터처럼 다루는 것을 말함."
   ]
  },
  {
   "cell_type": "code",
   "execution_count": 2,
   "metadata": {},
   "outputs": [
    {
     "name": "stdout",
     "output_type": "stream",
     "text": [
      "foo!\n"
     ]
    }
   ],
   "source": [
    "def foo():\n",
    "    print('foo!')\n",
    "    \n",
    "def bar(fn):\n",
    "    fn()\n",
    "    \n",
    "bar(foo)"
   ]
  },
  {
   "cell_type": "markdown",
   "metadata": {},
   "source": [
    "# Functions can be defined inside other functions\n",
    "\n",
    "It is also possible to define functions inside other functions. In the following examples, bar is defined inside foo."
   ]
  },
  {
   "cell_type": "code",
   "execution_count": 4,
   "metadata": {},
   "outputs": [
    {
     "name": "stdout",
     "output_type": "stream",
     "text": [
      "bar!\n"
     ]
    }
   ],
   "source": [
    "def foo():\n",
    "    def bar():\n",
    "        print('bar!')\n",
    "    bar()\n",
    "    \n",
    "foo()"
   ]
  },
  {
   "cell_type": "markdown",
   "metadata": {},
   "source": [
    "When foo is called, the first thing it does is define bar, then it calls the newly defined bar function.\n",
    "\n",
    " An important point to note is that while foo is defined in global scope, bar is defined in the local scope of foo. What this means from a practical perspectives is that while foo can be called from anywhere in the program, bar can only called from inside foo."
   ]
  },
  {
   "cell_type": "code",
   "execution_count": 5,
   "metadata": {},
   "outputs": [
    {
     "name": "stdout",
     "output_type": "stream",
     "text": [
      "bar!\n"
     ]
    }
   ],
   "source": [
    "foo()"
   ]
  },
  {
   "cell_type": "code",
   "execution_count": 6,
   "metadata": {
    "collapsed": true
   },
   "outputs": [
    {
     "ename": "TypeError",
     "evalue": "bar() missing 1 required positional argument: 'fn'",
     "output_type": "error",
     "traceback": [
      "\u001b[1;31m---------------------------------------------------------------------------\u001b[0m",
      "\u001b[1;31mTypeError\u001b[0m                                 Traceback (most recent call last)",
      "\u001b[1;32m<ipython-input-6-226d01f48125>\u001b[0m in \u001b[0;36m<module>\u001b[1;34m\u001b[0m\n\u001b[1;32m----> 1\u001b[1;33m \u001b[0mbar\u001b[0m\u001b[1;33m(\u001b[0m\u001b[1;33m)\u001b[0m\u001b[1;33m\u001b[0m\u001b[1;33m\u001b[0m\u001b[0m\n\u001b[0m",
      "\u001b[1;31mTypeError\u001b[0m: bar() missing 1 required positional argument: 'fn'"
     ]
    }
   ],
   "source": [
    "bar()"
   ]
  },
  {
   "cell_type": "markdown",
   "metadata": {},
   "source": [
    "There is a lot going on here, but taking the new elements one by one everything will become clear."
   ]
  },
  {
   "cell_type": "markdown",
   "metadata": {},
   "source": [
    "# The @ syntax\n",
    "\n",
    "The first thing to note is that special @ syntax. In this cass, it is used to specify that the function bar should be wrapped or decorated by foo. It may look odd at first, but it is just a form of syntatic sugar. The following statement is exactly equivalent to using @.\n",
    "\n",
    "그러니까 아래 구문을 @ 다음의 함수로 밀어 넣으라는 뜻이군."
   ]
  },
  {
   "cell_type": "code",
   "execution_count": 9,
   "metadata": {},
   "outputs": [
    {
     "data": {
      "text/plain": [
       "<function __main__.foo.<locals>.foo2()>"
      ]
     },
     "execution_count": 9,
     "metadata": {},
     "output_type": "execute_result"
    }
   ],
   "source": [
    "def foo(func):\n",
    "    def foo2():\n",
    "        func()\n",
    "    return foo2\n",
    "\n",
    "bar = foo(bar)\n",
    "bar"
   ]
  },
  {
   "cell_type": "markdown",
   "metadata": {},
   "source": [
    "Let's think about that for a minute. How exactly would bar = foo(bar) work?"
   ]
  },
  {
   "cell_type": "markdown",
   "metadata": {},
   "source": [
    "# The decorator execution process\n",
    "\n",
    " - A function called __var__ is defined. Its purpose is to print a message.\n",
    " - A function called __foo__ is also defined.\n",
    " - __foo__ takes one parameter, which is itself a function.\n",
    " - Inside __foo__, another function called inner is defined. Because of the way scope works in Python, __inner__ has access to the parameters passed into its parent function __foo__.\n",
    " - __inner__ does three things: first, it prints a message saying that it is about to call another function; second, it actually calls the function passed into __foo__ as an argument; third, it prints a message saying that it is finished called the function.\n",
    " - When __foo__ is called with __bar__ as an argument, __foo__ defines its __inner__ function and immediatly returns it\n",
    " - the return value from foo - the inner function - is assigned to bar, with the result that any time bar is called from this point on, it is actually __inner__ that is executed.\n",
    " \n",
    "Here is the result of running the decorated var function:\n",
    "\n",
    "bar()\n",
    "\n",
    "About to call function. <br>\n",
    "Calling function bar. <br>\n",
    "Finished calling function.\n"
   ]
  },
  {
   "cell_type": "markdown",
   "metadata": {},
   "source": [
    "# Preserving function metadata \n",
    "\n"
   ]
  }
 ],
 "metadata": {
  "kernelspec": {
   "display_name": "Tensorflow2.0-GPU",
   "language": "python",
   "name": "tf2.0-gpu"
  },
  "language_info": {
   "codemirror_mode": {
    "name": "ipython",
    "version": 3
   },
   "file_extension": ".py",
   "mimetype": "text/x-python",
   "name": "python",
   "nbconvert_exporter": "python",
   "pygments_lexer": "ipython3",
   "version": "3.7.5"
  }
 },
 "nbformat": 4,
 "nbformat_minor": 2
}
