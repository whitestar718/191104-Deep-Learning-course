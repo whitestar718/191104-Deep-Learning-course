{
 "cells": [
  {
   "cell_type": "markdown",
   "metadata": {},
   "source": [
    "https://www.tensorflow.org/tutorials/load_data/images\n",
    "\n",
    "텐서로 이미지를 무식하게 불러오는 방법은 텐서로 관리할 수 있고, 속도가 빠르다. 보통은 데이터 불러오는 건 딱 한번 만들지만, 만들기가 어렵다. 현재 우리는 가지고 있는 데이터만 처리한다고 생각하는데, 나중에 들어오는 데이터도 생각해야 한다. image data generator는 축복이다. 이 비슷한게 파이토치에도 있고, 다른데도 있는데 정말 좋다. 그래서 케라스하고 파이토치하고 서로 배껴가기도 한다. \n",
    "\n",
    "이미지 데이터를 불러오고 -> 모델을 구성한다 (케라스, 텐서플로 2가지 방법)\n",
    "\n",
    " - 텐서플로 이용: 생으로 하는게 너무 귀찮으니, 에스티메이터라는 것을 지원했다. 그런데 이건 케라스로 대신할 수 있다. 홈페이지에서 에스티메이터 보다는 케라스로 하는 것을 추천한다. 에스티메이터는 말은 쉽지 아주 복잡한 구조다. 더이상 안쓰니.. 에스티메이터는 버려라.\n",
    " - 케라스 이용: 쉽고 편~~~~~~~하다 ^^\n",
    " \n",
    "텐서플로 2.0은 비정형데이터에 최적화 되어있다. 근데 1.0대에서는 정형데이터에 쓰는 예시들이 별로 없다. 판다스하고 텐서플로를 연동할 수 있는데, 이렇게 하면 파이프라인을 구성해서 전처리같은것을 한번에 할 수 있다. 그런데 이걸 시용하면 판다스하고 바로 붙어버려서, 아주 효울적으로 쓸 수 있다."
   ]
  },
  {
   "cell_type": "markdown",
   "metadata": {},
   "source": [
    "# 사이킷 DNN\n",
    "\n",
    "옵션을 엄청 많이 넣을 수 있다. 그래서 에스티메이터 쓰느니, 이걸 많이 썼다고 한다. 그래서 에스티메이터가 뭐냐? 자주 만드는 애들을 추상화 시켜서, 하이레벨 기법으로 만드는 애를 에스티메이터라고 한다. fit 대신 train을 넣고, 데이터를 바로 넣는 대신 데이터 인풋 함수를 넣는다. "
   ]
  },
  {
   "cell_type": "code",
   "execution_count": 1,
   "metadata": {},
   "outputs": [
    {
     "data": {
      "text/plain": [
       "MLPClassifier(activation='relu', alpha=0.0001, batch_size='auto', beta_1=0.9,\n",
       "              beta_2=0.999, early_stopping=False, epsilon=1e-08,\n",
       "              hidden_layer_sizes=(100,), learning_rate='constant',\n",
       "              learning_rate_init=0.001, max_iter=200, momentum=0.9,\n",
       "              n_iter_no_change=10, nesterovs_momentum=True, power_t=0.5,\n",
       "              random_state=None, shuffle=True, solver='adam', tol=0.0001,\n",
       "              validation_fraction=0.1, verbose=False, warm_start=False)"
      ]
     },
     "execution_count": 1,
     "metadata": {},
     "output_type": "execute_result"
    }
   ],
   "source": [
    "from sklearn.neural_network import MLPClassifier\n",
    "\n",
    "MLPClassifier() # shitf tab"
   ]
  },
  {
   "cell_type": "markdown",
   "metadata": {},
   "source": [
    "케라스로 딥러닝 모델 짜는 방법\n",
    "\n",
    " - sequencial\n",
    " - Model 이용\n",
    " - Model을 이용한 상속\n",
    " \n",
    "그런데 sequencial을 이용한 것은 멀티 인풋, 멀티 아웃풋이 안된다. 그래서 RNN같은 경우는 sequencial로 만들 수 없는 것이다.\n",
    "\n",
    "eager tensor라는 것을 써서, 바로바로 결과값을 확인할 수 있다.\n",
    "\n",
    "뉴럴네트워크는 Gradient descent를 써서 학습한다. 러닝 레이트를 어떻게 하는가, 그레디언트를 어떻게 하는가에 따라서 학습이 달라진다. 학습을 시키는데 fit에 에폭도 넣고, 밸리데이션도 넣을 수 있다. callback도 있고 등 많은 옵션이 있는데, 알렉스넷의 경우 젤 처음에 몇번 에폭 돌다가 러닝레이트를 바꿀 수 있다. 그런데 이건 우린 못한다. 단계마다 하이퍼파라미터를 조절 못하는 것이다. 이걸 할 수 있는게 train_on_batch이다.\n",
    "\n",
    "이 학습시키는 방법도 오버피팅에 관련된 것이기 때문에 잘 배워야 하는데, 에폭을 많이 돌릴 수록 오버피팅이 발생시키기 때문이다. 그래서 단계별로 학습시키는 기법이 필요하다. \n",
    "\n",
    "### 백프로파게이션의 미분\n",
    "\n",
    "컴퓨터는 미분을 할 때, 리미트 0으로 수렴하는 것을 아주 작은 값으로 표현한다. 이것을 computational differenciation이라고 한다. 텐서플로에도 당연히 있다. \n",
    "\n",
    "autograd라고도 한다. 이 개념만 잘 알고 있으면, 파이토치에도 적용할 수 있다. "
   ]
  },
  {
   "cell_type": "markdown",
   "metadata": {},
   "source": [
    "# 그래디언트 테이프\n",
    "\n",
    "https://www.tensorflow.org/tutorials/customization/autodiff\n",
    "\n",
    "자동미분이라는 것은 벡터값 중에 0이 되는 값을 찾는 것이다. 로스 펑션이 만들어졌다는 가정 하에, n 차원 벡터에서 미분을 계산한다. 자동미분을 해두면 지가 알아서 다 계산해준다. 쓰기는 쉬운데 복잡하다.\n",
    "\n",
    "다시 말하지만, loss function이 있다는 가정 하에 최적화하는 것이다. 텐서프로 2.0에서는 백프로파게이션 하면서 각 노드마다 미분값을 저장해둔다. 그 구하는 각각을 저장해둔 공간을 그레디언트 테이프라고 생각하면 된다. ★★★ 카세트 테이프라는 것이 있는데, 여기에도 데이터를 저장해둘 수 있었지? 그거 생각하면 된다. 그래디언트를 기록해두는 저장매체라고 이해하면 된다."
   ]
  },
  {
   "cell_type": "markdown",
   "metadata": {},
   "source": [
    "<img src = 'data:image/jpeg;base64,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'>"
   ]
  },
  {
   "cell_type": "markdown",
   "metadata": {},
   "source": [
    "컴퓨터만의 미분 방식\n",
    "\n",
    " - 후진 방식: 이 중 하나가 back propagation이다. \n",
    " - 전진 방식\n",
    " \n",
    "ndarray로 미분값 계산하는게 바로 후진방식 자동미분이다. 백프로파게이션처럼 뒤에서 계산해준다."
   ]
  },
  {
   "cell_type": "code",
   "execution_count": 1,
   "metadata": {},
   "outputs": [],
   "source": [
    "import tensorflow as tf\n",
    "import numpy as np\n",
    "import matplotlib.pyplot as plt"
   ]
  },
  {
   "cell_type": "code",
   "execution_count": 21,
   "metadata": {},
   "outputs": [],
   "source": [
    "x = tf.ones((2, 2))\n",
    "\n",
    "# with는 context mamager라고도 한다.\n",
    "# loss function을 넣어줘야 한다. with 안에\n",
    "# with 벗어나도 값 안없어진다.\n",
    "with tf.GradientTape() as t:\n",
    "    t.watch(x) # x를 변수처럼 여긴다. 이걸 안하면 결과값이 None이 된다.\n",
    "    y = tf.reduce_sum(x) # loss function\n",
    "    z = tf.multiply(y, y)# 최종 loss function"
   ]
  },
  {
   "cell_type": "code",
   "execution_count": 8,
   "metadata": {},
   "outputs": [
    {
     "name": "stdout",
     "output_type": "stream",
     "text": [
      "    def __exit__(self, exc_type, exc_value, exc_tb):\n",
      "        self.__fallback()\n",
      "\n"
     ]
    }
   ],
   "source": [
    "import inspect\n",
    "\n",
    "print(inspect.getsource(plt.xkcd().__exit__))"
   ]
  },
  {
   "cell_type": "markdown",
   "metadata": {},
   "source": [
    "fallback은 앞부분 실행되기 이전 상태로 돌아가라는 뜻이다. 항상 close가 아니다. 항상 with 구문이 나오면, close인지 아닌지 inspect로 알아봐야 한다.\n",
    "\n",
    "gradient tape에 로스 펑션을 집어넣는게 핵심이다. ★★★"
   ]
  },
  {
   "cell_type": "code",
   "execution_count": 23,
   "metadata": {
    "scrolled": false
   },
   "outputs": [],
   "source": [
    "# 입력 텐서 x에 대한 z의 도함수\n",
    "dz_dx = t.gradient(z, x) # z함수를 x에 관해서 미분해라라는 뜻\n",
    "# 각각이 다 0이 안나왔는지 확인하는 구문. 결국엔 8.0인지를 체크한다.\n",
    "for i in [0, 1]:\n",
    "    for j in [0, 1]:\n",
    "        assert dz_dx[i][j].numpy() == 8.0"
   ]
  },
  {
   "cell_type": "markdown",
   "metadata": {},
   "source": [
    "또한 tf.GradientTape 컨텍스트 안에서 계산된 중간값에 대한 그래디언트도 구할 수 있습니다. (eager tensor)"
   ]
  },
  {
   "cell_type": "code",
   "execution_count": 24,
   "metadata": {},
   "outputs": [],
   "source": [
    "# with 없이 gradient tape 돌리는 실험.\n",
    "x = tf.Variable((2, 2)) # 상수가 아니면 될까? -> 안됨.\n",
    "t = tf.GradientTape()\n",
    "# t.watch(x)\n",
    "y = tf.reduce_sum(x)\n",
    "z = tf.multiply(y, y)"
   ]
  },
  {
   "cell_type": "code",
   "execution_count": 12,
   "metadata": {
    "scrolled": true
   },
   "outputs": [
    {
     "ename": "RuntimeError",
     "evalue": "GradientTape.gradient can only be called once on non-persistent tapes.",
     "output_type": "error",
     "traceback": [
      "\u001b[1;31m---------------------------------------------------------------------------\u001b[0m",
      "\u001b[1;31mRuntimeError\u001b[0m                              Traceback (most recent call last)",
      "\u001b[1;32m<ipython-input-12-9fc5b10137c4>\u001b[0m in \u001b[0;36m<module>\u001b[1;34m\u001b[0m\n\u001b[1;32m----> 1\u001b[1;33m \u001b[0mdz_dx\u001b[0m \u001b[1;33m=\u001b[0m \u001b[0mt\u001b[0m\u001b[1;33m.\u001b[0m\u001b[0mgradient\u001b[0m\u001b[1;33m(\u001b[0m\u001b[0mz\u001b[0m\u001b[1;33m,\u001b[0m \u001b[0mx\u001b[0m\u001b[1;33m)\u001b[0m\u001b[1;33m\u001b[0m\u001b[1;33m\u001b[0m\u001b[0m\n\u001b[0m",
      "\u001b[1;32m~\\Anaconda3\\envs\\tf2.0-gpu\\lib\\site-packages\\tensorflow_core\\python\\eager\\backprop.py\u001b[0m in \u001b[0;36mgradient\u001b[1;34m(self, target, sources, output_gradients, unconnected_gradients)\u001b[0m\n\u001b[0;32m    963\u001b[0m     \"\"\"\n\u001b[0;32m    964\u001b[0m     \u001b[1;32mif\u001b[0m \u001b[0mself\u001b[0m\u001b[1;33m.\u001b[0m\u001b[0m_tape\u001b[0m \u001b[1;32mis\u001b[0m \u001b[1;32mNone\u001b[0m\u001b[1;33m:\u001b[0m\u001b[1;33m\u001b[0m\u001b[1;33m\u001b[0m\u001b[0m\n\u001b[1;32m--> 965\u001b[1;33m       raise RuntimeError(\"GradientTape.gradient can only be called once on \"\n\u001b[0m\u001b[0;32m    966\u001b[0m                          \"non-persistent tapes.\")\n\u001b[0;32m    967\u001b[0m     \u001b[1;32mif\u001b[0m \u001b[0mself\u001b[0m\u001b[1;33m.\u001b[0m\u001b[0m_recording\u001b[0m\u001b[1;33m:\u001b[0m\u001b[1;33m\u001b[0m\u001b[1;33m\u001b[0m\u001b[0m\n",
      "\u001b[1;31mRuntimeError\u001b[0m: GradientTape.gradient can only be called once on non-persistent tapes."
     ]
    }
   ],
   "source": [
    "dz_dx = t.gradient(z, x)"
   ]
  },
  {
   "cell_type": "markdown",
   "metadata": {},
   "source": [
    "RuntimeError: GradientTape.gradient can only be called once on non-persistent tapes.\n",
    "\n",
    "이런 에러가 나온다. 이젠 persist를 true로 줘버리자. 그레디언트 테입 인스턴스 선언 옵션으로."
   ]
  },
  {
   "cell_type": "code",
   "execution_count": 16,
   "metadata": {
    "scrolled": true
   },
   "outputs": [
    {
     "name": "stdout",
     "output_type": "stream",
     "text": [
      "WARNING:tensorflow:The dtype of the watched tensor must be floating (e.g. tf.float32), got tf.int32\n"
     ]
    },
    {
     "ename": "AttributeError",
     "evalue": "'NoneType' object has no attribute '_tape'",
     "output_type": "error",
     "traceback": [
      "\u001b[1;31m---------------------------------------------------------------------------\u001b[0m",
      "\u001b[1;31mAttributeError\u001b[0m                            Traceback (most recent call last)",
      "\u001b[1;32m<ipython-input-16-e92bce0920a1>\u001b[0m in \u001b[0;36m<module>\u001b[1;34m\u001b[0m\n\u001b[0;32m      2\u001b[0m \u001b[0mx\u001b[0m \u001b[1;33m=\u001b[0m \u001b[0mtf\u001b[0m\u001b[1;33m.\u001b[0m\u001b[0mVariable\u001b[0m\u001b[1;33m(\u001b[0m\u001b[1;33m(\u001b[0m\u001b[1;36m2\u001b[0m\u001b[1;33m,\u001b[0m \u001b[1;36m2\u001b[0m\u001b[1;33m)\u001b[0m\u001b[1;33m)\u001b[0m \u001b[1;31m# 상수가 아니면 될까? -> 안됨.\u001b[0m\u001b[1;33m\u001b[0m\u001b[1;33m\u001b[0m\u001b[0m\n\u001b[0;32m      3\u001b[0m \u001b[0mt\u001b[0m \u001b[1;33m=\u001b[0m \u001b[0mtf\u001b[0m\u001b[1;33m.\u001b[0m\u001b[0mGradientTape\u001b[0m\u001b[1;33m(\u001b[0m\u001b[0mpersistent\u001b[0m\u001b[1;33m=\u001b[0m\u001b[1;32mTrue\u001b[0m\u001b[1;33m)\u001b[0m\u001b[1;33m\u001b[0m\u001b[1;33m\u001b[0m\u001b[0m\n\u001b[1;32m----> 4\u001b[1;33m \u001b[0mt\u001b[0m\u001b[1;33m.\u001b[0m\u001b[0mwatch\u001b[0m\u001b[1;33m(\u001b[0m\u001b[0mx\u001b[0m\u001b[1;33m)\u001b[0m\u001b[1;33m\u001b[0m\u001b[1;33m\u001b[0m\u001b[0m\n\u001b[0m\u001b[0;32m      5\u001b[0m \u001b[0my\u001b[0m \u001b[1;33m=\u001b[0m \u001b[0mtf\u001b[0m\u001b[1;33m.\u001b[0m\u001b[0mreduce_sum\u001b[0m\u001b[1;33m(\u001b[0m\u001b[0mx\u001b[0m\u001b[1;33m)\u001b[0m\u001b[1;33m\u001b[0m\u001b[1;33m\u001b[0m\u001b[0m\n\u001b[0;32m      6\u001b[0m \u001b[0mz\u001b[0m \u001b[1;33m=\u001b[0m \u001b[0mtf\u001b[0m\u001b[1;33m.\u001b[0m\u001b[0mmultiply\u001b[0m\u001b[1;33m(\u001b[0m\u001b[0my\u001b[0m\u001b[1;33m,\u001b[0m \u001b[0my\u001b[0m\u001b[1;33m)\u001b[0m\u001b[1;33m\u001b[0m\u001b[1;33m\u001b[0m\u001b[0m\n",
      "\u001b[1;32m~\\Anaconda3\\envs\\tf2.0-gpu\\lib\\site-packages\\tensorflow_core\\python\\eager\\backprop.py\u001b[0m in \u001b[0;36mwatch\u001b[1;34m(self, tensor)\u001b[0m\n\u001b[0;32m    857\u001b[0m         \u001b[1;31m# `handle` attribute that points to a tensor. If this changes, internals\u001b[0m\u001b[1;33m\u001b[0m\u001b[1;33m\u001b[0m\u001b[1;33m\u001b[0m\u001b[0m\n\u001b[0;32m    858\u001b[0m         \u001b[1;31m# of watch_variable need to change as well.\u001b[0m\u001b[1;33m\u001b[0m\u001b[1;33m\u001b[0m\u001b[1;33m\u001b[0m\u001b[0m\n\u001b[1;32m--> 859\u001b[1;33m         \u001b[0mtape\u001b[0m\u001b[1;33m.\u001b[0m\u001b[0mwatch_variable\u001b[0m\u001b[1;33m(\u001b[0m\u001b[0mself\u001b[0m\u001b[1;33m.\u001b[0m\u001b[0m_tape\u001b[0m\u001b[1;33m,\u001b[0m \u001b[0mt\u001b[0m\u001b[1;33m)\u001b[0m\u001b[1;33m\u001b[0m\u001b[1;33m\u001b[0m\u001b[0m\n\u001b[0m\u001b[0;32m    860\u001b[0m       \u001b[1;32melse\u001b[0m\u001b[1;33m:\u001b[0m\u001b[1;33m\u001b[0m\u001b[1;33m\u001b[0m\u001b[0m\n\u001b[0;32m    861\u001b[0m         \u001b[0mtape\u001b[0m\u001b[1;33m.\u001b[0m\u001b[0mwatch\u001b[0m\u001b[1;33m(\u001b[0m\u001b[0mself\u001b[0m\u001b[1;33m.\u001b[0m\u001b[0m_tape\u001b[0m\u001b[1;33m,\u001b[0m \u001b[0mt\u001b[0m\u001b[1;33m)\u001b[0m\u001b[1;33m\u001b[0m\u001b[1;33m\u001b[0m\u001b[0m\n",
      "\u001b[1;32m~\\Anaconda3\\envs\\tf2.0-gpu\\lib\\site-packages\\tensorflow_core\\python\\eager\\tape.py\u001b[0m in \u001b[0;36mwatch_variable\u001b[1;34m(tape, variable)\u001b[0m\n\u001b[0;32m     69\u001b[0m     \u001b[0mvariables\u001b[0m \u001b[1;33m=\u001b[0m \u001b[0mstrategy\u001b[0m\u001b[1;33m.\u001b[0m\u001b[0mexperimental_local_results\u001b[0m\u001b[1;33m(\u001b[0m\u001b[0mvariable\u001b[0m\u001b[1;33m)\u001b[0m\u001b[1;33m\u001b[0m\u001b[1;33m\u001b[0m\u001b[0m\n\u001b[0;32m     70\u001b[0m   \u001b[1;32mfor\u001b[0m \u001b[0mvar\u001b[0m \u001b[1;32min\u001b[0m \u001b[0mvariables\u001b[0m\u001b[1;33m:\u001b[0m\u001b[1;33m\u001b[0m\u001b[1;33m\u001b[0m\u001b[0m\n\u001b[1;32m---> 71\u001b[1;33m     \u001b[0mpywrap_tensorflow\u001b[0m\u001b[1;33m.\u001b[0m\u001b[0mTFE_Py_TapeWatchVariable\u001b[0m\u001b[1;33m(\u001b[0m\u001b[0mtape\u001b[0m\u001b[1;33m.\u001b[0m\u001b[0m_tape\u001b[0m\u001b[1;33m,\u001b[0m \u001b[0mvar\u001b[0m\u001b[1;33m)\u001b[0m  \u001b[1;31m# pylint: disable=protected-access\u001b[0m\u001b[1;33m\u001b[0m\u001b[1;33m\u001b[0m\u001b[0m\n\u001b[0m\u001b[0;32m     72\u001b[0m \u001b[1;33m\u001b[0m\u001b[0m\n\u001b[0;32m     73\u001b[0m \u001b[1;33m\u001b[0m\u001b[0m\n",
      "\u001b[1;31mAttributeError\u001b[0m: 'NoneType' object has no attribute '_tape'"
     ]
    }
   ],
   "source": [
    "# with 없이 gradient tape 돌리는 실험.\n",
    "x = tf.Variable((2, 2)) # 상수가 아니면 될까? -> 안됨.\n",
    "t = tf.GradientTape(persistent=True)\n",
    "t.watch(x)\n",
    "y = tf.reduce_sum(x)\n",
    "z = tf.multiply(y, y)"
   ]
  },
  {
   "cell_type": "code",
   "execution_count": 17,
   "metadata": {
    "scrolled": true
   },
   "outputs": [
    {
     "ename": "RuntimeError",
     "evalue": "GradientTape.gradient can only be called once on non-persistent tapes.",
     "output_type": "error",
     "traceback": [
      "\u001b[1;31m---------------------------------------------------------------------------\u001b[0m",
      "\u001b[1;31mRuntimeError\u001b[0m                              Traceback (most recent call last)",
      "\u001b[1;32m<ipython-input-17-9fc5b10137c4>\u001b[0m in \u001b[0;36m<module>\u001b[1;34m\u001b[0m\n\u001b[1;32m----> 1\u001b[1;33m \u001b[0mdz_dx\u001b[0m \u001b[1;33m=\u001b[0m \u001b[0mt\u001b[0m\u001b[1;33m.\u001b[0m\u001b[0mgradient\u001b[0m\u001b[1;33m(\u001b[0m\u001b[0mz\u001b[0m\u001b[1;33m,\u001b[0m \u001b[0mx\u001b[0m\u001b[1;33m)\u001b[0m\u001b[1;33m\u001b[0m\u001b[1;33m\u001b[0m\u001b[0m\n\u001b[0m",
      "\u001b[1;32m~\\Anaconda3\\envs\\tf2.0-gpu\\lib\\site-packages\\tensorflow_core\\python\\eager\\backprop.py\u001b[0m in \u001b[0;36mgradient\u001b[1;34m(self, target, sources, output_gradients, unconnected_gradients)\u001b[0m\n\u001b[0;32m    963\u001b[0m     \"\"\"\n\u001b[0;32m    964\u001b[0m     \u001b[1;32mif\u001b[0m \u001b[0mself\u001b[0m\u001b[1;33m.\u001b[0m\u001b[0m_tape\u001b[0m \u001b[1;32mis\u001b[0m \u001b[1;32mNone\u001b[0m\u001b[1;33m:\u001b[0m\u001b[1;33m\u001b[0m\u001b[1;33m\u001b[0m\u001b[0m\n\u001b[1;32m--> 965\u001b[1;33m       raise RuntimeError(\"GradientTape.gradient can only be called once on \"\n\u001b[0m\u001b[0;32m    966\u001b[0m                          \"non-persistent tapes.\")\n\u001b[0;32m    967\u001b[0m     \u001b[1;32mif\u001b[0m \u001b[0mself\u001b[0m\u001b[1;33m.\u001b[0m\u001b[0m_recording\u001b[0m\u001b[1;33m:\u001b[0m\u001b[1;33m\u001b[0m\u001b[1;33m\u001b[0m\u001b[0m\n",
      "\u001b[1;31mRuntimeError\u001b[0m: GradientTape.gradient can only be called once on non-persistent tapes."
     ]
    }
   ],
   "source": [
    "dz_dx = t.gradient(z, x)"
   ]
  },
  {
   "cell_type": "markdown",
   "metadata": {},
   "source": [
    "그래도 안된다. 이제 이걸 검사해보자."
   ]
  },
  {
   "cell_type": "code",
   "execution_count": 27,
   "metadata": {
    "scrolled": false
   },
   "outputs": [
    {
     "name": "stdout",
     "output_type": "stream",
     "text": [
      "  def __enter__(self):\n",
      "    \"\"\"Enters a context inside which operations are recorded on this tape.\"\"\"\n",
      "    self._push_tape()\n",
      "    return self\n",
      "\n",
      "  def __exit__(self, typ, value, traceback):\n",
      "    \"\"\"Exits the recording context, no further operations are traced.\"\"\"\n",
      "    if self._recording:\n",
      "      self._pop_tape()\n",
      "\n"
     ]
    }
   ],
   "source": [
    "import inspect\n",
    "print(inspect.getsource(tf.GradientTape().__enter__))\n",
    "print(inspect.getsource(tf.GradientTape().__exit__))"
   ]
  },
  {
   "cell_type": "markdown",
   "metadata": {},
   "source": [
    "push와 pop이라는게 나오는데, 이는 그레디언트 테입에 넣어야지만 계산이 된다는 뜻이다.\n",
    "\n",
    "persist 옵션은 더이상 메모리에서 쓰지 않는 것들을 없애줄지 유지해줄지 옵션이다."
   ]
  },
  {
   "cell_type": "code",
   "execution_count": 13,
   "metadata": {},
   "outputs": [
    {
     "data": {
      "text/plain": [
       "4"
      ]
     },
     "execution_count": 13,
     "metadata": {},
     "output_type": "execute_result"
    }
   ],
   "source": [
    "import sys\n",
    "\n",
    "sys.getrefcount(x) # gradient tape에 있는 것들은 기록이 유지되지 않는다.\n",
    "# 더이상 사용되지 않는 것은 알아서 없애주는 기능 (가비지 컬렉션이라고 한다.)"
   ]
  },
  {
   "cell_type": "code",
   "execution_count": 29,
   "metadata": {
    "scrolled": false
   },
   "outputs": [
    {
     "name": "stdout",
     "output_type": "stream",
     "text": [
      "tf.Tensor(108.0, shape=(), dtype=float32)\n",
      "tf.Tensor(6.0, shape=(), dtype=float32)\n"
     ]
    }
   ],
   "source": [
    "x = tf.constant(3.0)\n",
    "with tf.GradientTape(persistent=True) as t:\n",
    "    t.watch(x)\n",
    "    y = x * x # 이 중간값까지 확인하려면, persistent = True로 해주면 된다.\n",
    "    z = y * y # 결국 z는 x의 4제곱이다.\n",
    "print(t.gradient(z, x))  # 108.0 (4*x^3 at x = 3)\n",
    "print(t.gradient(y, x))  # 6.0\n",
    "del t  # 테이프에 대한 참조를 삭제합니다."
   ]
  },
  {
   "cell_type": "markdown",
   "metadata": {},
   "source": [
    "persist 한것에 따라서, y값 같은 중간 값들을 쓸 수 있는지 없는지가 정해진다. 이건 홈페이지 설명봐도 모르니, 잘 공부해둘 것. ★★★ "
   ]
  },
  {
   "cell_type": "markdown",
   "metadata": {},
   "source": [
    "### 제어 흐름 기록"
   ]
  },
  {
   "cell_type": "code",
   "execution_count": 30,
   "metadata": {},
   "outputs": [],
   "source": [
    "# loss function\n",
    "def f(x, y):\n",
    "    output = 1.0\n",
    "    # 조건에 따라서 다른 grad를 적용할 수 있음\n",
    "    for i in range(y):\n",
    "        if i > 1 and i < 5:\n",
    "            output = tf.multiply(output, x)\n",
    "    return output\n",
    "\n",
    "# 미분한 값을 도출해주는 함수\n",
    "def grad(x, y):\n",
    "    with tf.GradientTape() as t:\n",
    "        t.watch(x)\n",
    "        out = f(x, y)\n",
    "    return t.gradient(out, x)\n",
    "\n",
    "x = tf.convert_to_tensor(2.0)\n",
    "\n",
    "assert grad(x, 6).numpy() == 12.0 # 5 계산한 결과와 똑같다. \n",
    "assert grad(x, 5).numpy() == 12.0\n",
    "assert grad(x, 4).numpy() == 4.0"
   ]
  },
  {
   "cell_type": "markdown",
   "metadata": {},
   "source": [
    "### 고계도 그래디언트\n",
    "\n",
    "with 안에 또 wit를 이런식으로 쓸 수 있다. 미분을 한 번 하면, 기울기 함수이고, 여기서 한 번 더 미분하면 고계도 함수가 된다."
   ]
  },
  {
   "cell_type": "code",
   "execution_count": 34,
   "metadata": {},
   "outputs": [],
   "source": [
    "x = tf.Variable(1.0)  # 1.0으로 초기화된 텐서플로 변수를 생성합니다.\n",
    "\n",
    "with tf.GradientTape() as t:\n",
    "    with tf.GradientTape() as t2:\n",
    "        y = x * x * x\n",
    "  # 't' 컨텍스트 매니저 안의 그래디언트를 계산합니다.\n",
    "  # 이것은 또한 그래디언트 연산 자체도 미분가능하다는 것을 의미합니다. \n",
    "    dy_dx = t2.gradient(y, x)\n",
    "d2y_dx2 = t.gradient(dy_dx, x)\n",
    "\n",
    "assert dy_dx.numpy() == 3.0\n",
    "assert d2y_dx2.numpy() == 6.0"
   ]
  },
  {
   "cell_type": "markdown",
   "metadata": {},
   "source": [
    "https://www.tensorflow.org/tutorials/customization/custom_training\n",
    "\n",
    "# 사용자 정의 학습: 기초\n",
    "\n",
    "\n",
    "### 변수\n"
   ]
  },
  {
   "cell_type": "code",
   "execution_count": 35,
   "metadata": {},
   "outputs": [
    {
     "name": "stdout",
     "output_type": "stream",
     "text": [
      "tf.Tensor(\n",
      "[[2. 2. 2. 2. 2. 2. 2. 2. 2. 2.]\n",
      " [2. 2. 2. 2. 2. 2. 2. 2. 2. 2.]\n",
      " [2. 2. 2. 2. 2. 2. 2. 2. 2. 2.]\n",
      " [2. 2. 2. 2. 2. 2. 2. 2. 2. 2.]\n",
      " [2. 2. 2. 2. 2. 2. 2. 2. 2. 2.]\n",
      " [2. 2. 2. 2. 2. 2. 2. 2. 2. 2.]\n",
      " [2. 2. 2. 2. 2. 2. 2. 2. 2. 2.]\n",
      " [2. 2. 2. 2. 2. 2. 2. 2. 2. 2.]\n",
      " [2. 2. 2. 2. 2. 2. 2. 2. 2. 2.]\n",
      " [2. 2. 2. 2. 2. 2. 2. 2. 2. 2.]], shape=(10, 10), dtype=float32)\n"
     ]
    }
   ],
   "source": [
    "# 파이썬 구문 사용\n",
    "x = tf.zeros([10, 10])\n",
    "x += 2  # 이것은 x = x + 2와 같으며, x의 초기값을 변경하지 않습니다.\n",
    "print(x)"
   ]
  },
  {
   "cell_type": "code",
   "execution_count": 36,
   "metadata": {},
   "outputs": [],
   "source": [
    "v = tf.Variable(1.0)\n",
    "assert v.numpy() == 1.0\n",
    "\n",
    "# 값을 재배열합니다.\n",
    "v.assign(3.0)\n",
    "assert v.numpy() == 3.0\n",
    "\n",
    "# tf.square()와 같은 텐서플로 연산에 `v`를 사용하고 재할당합니다. \n",
    "v.assign(tf.square(v))\n",
    "assert v.numpy() == 9.0"
   ]
  },
  {
   "cell_type": "code",
   "execution_count": 37,
   "metadata": {},
   "outputs": [
    {
     "data": {
      "text/plain": [
       "tensorflow.python.ops.resource_variable_ops.ResourceVariable"
      ]
     },
     "execution_count": 37,
     "metadata": {},
     "output_type": "execute_result"
    }
   ],
   "source": [
    "type(tf.Variable([1, 1, 1])) # eager tensor가 아니다.\n",
    "                             # 값이 미리 안나올 수 있다."
   ]
  },
  {
   "cell_type": "markdown",
   "metadata": {},
   "source": [
    "### 모델 정의"
   ]
  },
  {
   "cell_type": "code",
   "execution_count": 31,
   "metadata": {},
   "outputs": [],
   "source": [
    "class Model(object):\n",
    "    def __init__(self):\n",
    "        # 변수를 (5.0, 0.0)으로 초기화 합니다.\n",
    "        # 실제로는 임의의 값으로 초기화 되어야합니다.\n",
    "        self.W = tf.Variable(5.0)\n",
    "        self.b = tf.Variable(0.0)\n",
    "\n",
    "    def __call__(self, x): # 이렇게 해두면, 인스턴스에서 괄호를 사용가능\n",
    "        return self.W * x + self.b\n",
    "\n",
    "model = Model() \n",
    "\n",
    "assert model(3.0).numpy() == 15.0"
   ]
  },
  {
   "cell_type": "markdown",
   "metadata": {},
   "source": [
    "### 손실 함수 정의"
   ]
  },
  {
   "cell_type": "code",
   "execution_count": 32,
   "metadata": {},
   "outputs": [],
   "source": [
    "# MSE 함수이다.\n",
    "def loss(predicted_y, desired_y):\n",
    "    return tf.reduce_mean(tf.square(predicted_y - desired_y))"
   ]
  },
  {
   "cell_type": "markdown",
   "metadata": {},
   "source": [
    "우리는 fit을 사용할 수 없다. 정의가 안되있기 때문. 그래서 우리가 직접 loss function을 최소화하는 애를 만들것이다."
   ]
  },
  {
   "cell_type": "code",
   "execution_count": 40,
   "metadata": {},
   "outputs": [],
   "source": [
    "TRUE_W = 3.0\n",
    "TRUE_b = 2.0\n",
    "NUM_EXAMPLES = 1000\n",
    "\n",
    "inputs  = tf.random.normal(shape=[NUM_EXAMPLES])\n",
    "noise   = tf.random.normal(shape=[NUM_EXAMPLES])\n",
    "outputs = inputs * TRUE_W + TRUE_b + noise"
   ]
  },
  {
   "cell_type": "markdown",
   "metadata": {},
   "source": [
    "### 훈련 루프 정의"
   ]
  },
  {
   "cell_type": "code",
   "execution_count": 41,
   "metadata": {},
   "outputs": [],
   "source": [
    "def train(model, inputs, outputs, learning_rate):\n",
    "    with tf.GradientTape() as t:\n",
    "        current_loss = loss(model(inputs), outputs)\n",
    "    dW, db = t.gradient(current_loss, [model.W, model.b])\n",
    "    model.W.assign_sub(learning_rate * dW) # -=와 같은 개념이다. 기존에서 계속 뺌.\n",
    "    model.b.assign_sub(learning_rate * db)"
   ]
  },
  {
   "cell_type": "code",
   "execution_count": 42,
   "metadata": {},
   "outputs": [
    {
     "name": "stdout",
     "output_type": "stream",
     "text": [
      "에포크  0: W=5.00 b=0.00, 손실=9.05823\n",
      "에포크  1: W=4.61 b=0.41, 손실=6.16718\n",
      "에포크  2: W=4.29 b=0.73, 손실=4.31228\n",
      "에포크  3: W=4.04 b=0.99, 손실=3.12212\n",
      "에포크  4: W=3.83 b=1.20, 손실=2.35844\n",
      "에포크  5: W=3.67 b=1.37, 손실=1.86838\n",
      "에포크  6: W=3.54 b=1.50, 손실=1.55390\n",
      "에포크  7: W=3.43 b=1.61, 손실=1.35208\n",
      "에포크  8: W=3.35 b=1.69, 손실=1.22255\n",
      "에포크  9: W=3.28 b=1.76, 손실=1.13941\n"
     ]
    },
    {
     "data": {
      "image/png": "[encoded data removed]",
      "text/plain": [
       "<Figure size 432x288 with 1 Axes>"
      ]
     },
     "metadata": {},
     "output_type": "display_data"
    }
   ],
   "source": [
    "model = Model()\n",
    "\n",
    "# 도식화를 위해 W값과 b값의 변화를 저장합니다.\n",
    "Ws, bs = [], []\n",
    "epochs = range(10)\n",
    "for epoch in epochs: # 이렇게 그냥 써도 상관 없다.\n",
    "    Ws.append(model.W.numpy())\n",
    "    bs.append(model.b.numpy())\n",
    "    current_loss = loss(model(inputs), outputs)\n",
    "    \n",
    "    train(model, inputs, outputs, learning_rate=0.1) # 에폭에 조건 걸어서 러닝레이트를 조절할 수 있다.\n",
    "    print('에포크 %2d: W=%1.2f b=%1.2f, 손실=%2.5f' %\n",
    "        (epoch, Ws[-1], bs[-1], current_loss))\n",
    "\n",
    "# 저장된 값들을 도식화합니다.\n",
    "plt.plot(epochs, Ws, 'r',\n",
    "         epochs, bs, 'b')\n",
    "plt.plot([TRUE_W] * len(epochs), 'r--',\n",
    "         [TRUE_b] * len(epochs), 'b--')\n",
    "plt.legend(['W', 'b', 'true W', 'true_b'])\n",
    "plt.show()"
   ]
  },
  {
   "cell_type": "markdown",
   "metadata": {},
   "source": [
    "이렇게 gradient tape를 쓰면 fit보다 훨씬 우아하게 코딩을 할 수 있다.\n",
    "\n",
    "https://modelzoo.co/framework/tensorflow : 모델 코드 좋은거 많다. 그런데 거의다 1.0 버전이다.\n",
    "\n",
    "그럼 1.0의 코드를 2.0으로 바꿀 수 없을까? -> 텐서플로에 다 있다. guide 들어가면 시간될 때 공부할 수 있다."
   ]
  },
  {
   "cell_type": "markdown",
   "metadata": {},
   "source": [
    "텐서플로2.0 최적화가 안되어 있다. 1.0에 비해서... 그럼 이결 해결하는 방법은? 데코레이터 쓰면 된다. ★★★\n",
    "\n",
    "https://www.tensorflow.org/tutorials/customization/performance\n",
    "\n",
    "# Better performance with tf.function\n",
    "\n",
    " - 넘파이보다는 tensor를 써야 최적의 성능이 나온다.\n",
    " - 넘파이로 만들었다면, 오히려 데코레이터 붙였다가 손해만 본다."
   ]
  },
  {
   "cell_type": "code",
   "execution_count": 37,
   "metadata": {},
   "outputs": [
    {
     "data": {
      "text/plain": [
       "<tf.Tensor: id=374, shape=(2, 2), dtype=float32, numpy=\n",
       "array([[2., 2.],\n",
       "       [2., 2.]], dtype=float32)>"
      ]
     },
     "execution_count": 37,
     "metadata": {},
     "output_type": "execute_result"
    }
   ],
   "source": [
    "@tf.function # 성능향상이 있다.\n",
    "def add(a, b):\n",
    "    return a + b\n",
    "\n",
    "add(tf.ones([2, 2]), tf.ones([2, 2]))  #  [[2., 2.], [2., 2.]]"
   ]
  },
  {
   "cell_type": "markdown",
   "metadata": {},
   "source": [
    "왜 텐서로 바꾸는지 이제 알거다. 속도 더 빠른 이유가 이 데코레이터를 써서 그렇다. gpu 써서 빠른것도 있지만, 이것도 엄청 크다. 여기서는 그냥 이정도만 살펴보고 넘어가보자.\n",
    "\n",
    "그냥 fit 시키는건 왜 하나? 어떤 장점이 있는가... \n",
    "\n",
    "https://www.tensorflow.org/tutorials/keras/regression\n",
    "\n",
    "fit 시킬 때, 뭘 할 수 있냐면 콜백을 할 수 있다. 콜백은 콜을 하고 그 결과로 실행되는 함수를 말한다. \n",
    "\n"
   ]
  },
  {
   "cell_type": "code",
   "execution_count": 38,
   "metadata": {},
   "outputs": [
    {
     "ename": "AttributeError",
     "evalue": "'Model' object has no attribute 'fit'",
     "output_type": "error",
     "traceback": [
      "\u001b[1;31m---------------------------------------------------------------------------\u001b[0m",
      "\u001b[1;31mAttributeError\u001b[0m                            Traceback (most recent call last)",
      "\u001b[1;32m<ipython-input-38-197fbacc2ef5>\u001b[0m in \u001b[0;36m<module>\u001b[1;34m\u001b[0m\n\u001b[1;32m----> 1\u001b[1;33m history = model.fit(normed_train_data, train_labels, epochs=EPOCHS,\n\u001b[0m\u001b[0;32m      2\u001b[0m                     validation_split = 0.2, verbose=0, callbacks=[early_stop, PrintDot()])\n",
      "\u001b[1;31mAttributeError\u001b[0m: 'Model' object has no attribute 'fit'"
     ]
    }
   ],
   "source": [
    "history = model.fit(normed_train_data, train_labels, epochs=EPOCHS,\n",
    "                    validation_split = 0.2, verbose=0, callbacks=[early_stop, PrintDot()])"
   ]
  },
  {
   "cell_type": "markdown",
   "metadata": {},
   "source": [
    "위의 함수에서 콜백이 있는데, 이건 1에폭 돌때마다 나오는 함수를 말한다. 어떤 함수를 실행된 결과로 나오는 것이다. 선생님은 이거 설정 잘해놔서 1에폭 돌때마다, 텔레그램으로 메시지 오게 설정해뒀다고 함 ㅋㅋㅋ"
   ]
  },
  {
   "cell_type": "markdown",
   "metadata": {},
   "source": [
    "# 텐서플로 2.0 시작하기: 초보자용 콜백실습\n",
    "\n",
    "fit 함수에 가서 콜백을 추가할 수 있다."
   ]
  },
  {
   "cell_type": "code",
   "execution_count": 46,
   "metadata": {},
   "outputs": [],
   "source": [
    "import tensorflow as tf\n",
    "\n",
    "mnist = tf.keras.datasets.mnist\n",
    "\n",
    "(x_train, y_train), (x_test, y_test) = mnist.load_data()\n",
    "x_train, x_test = x_train / 255.0, x_test / 255.0"
   ]
  },
  {
   "cell_type": "code",
   "execution_count": 47,
   "metadata": {},
   "outputs": [],
   "source": [
    "model = tf.keras.models.Sequential([\n",
    "  tf.keras.layers.Flatten(input_shape=(28, 28)),\n",
    "  tf.keras.layers.Dense(128, activation='relu'),\n",
    "  tf.keras.layers.Dropout(0.2),\n",
    "  tf.keras.layers.Dense(10, activation='softmax')\n",
    "])\n",
    "\n",
    "model.compile(optimizer='adam',\n",
    "              loss='sparse_categorical_crossentropy',\n",
    "              metrics=['accuracy'])"
   ]
  },
  {
   "cell_type": "markdown",
   "metadata": {},
   "source": [
    "콜백은 어떤 애를 상속받아서 넣어야 한다. 아래처럼.."
   ]
  },
  {
   "cell_type": "code",
   "execution_count": 48,
   "metadata": {},
   "outputs": [],
   "source": [
    "from tensorflow.keras.callbacks import Callback, TensorBoard\n",
    "\n",
    "class MyCallback(Callback):\n",
    "    pass\n",
    "\n",
    "my = MyCallback()"
   ]
  },
  {
   "cell_type": "code",
   "execution_count": null,
   "metadata": {},
   "outputs": [],
   "source": [
    "model.fit(x_train, y_train, epochs=5, callbacks = [my, es]) # 이런식으로 쓴다.\n",
    "\n",
    "model.evaluate(x_test,  y_test, verbose=2)"
   ]
  },
  {
   "cell_type": "code",
   "execution_count": 81,
   "metadata": {},
   "outputs": [
    {
     "data": {
      "text/plain": [
       "['__class__',\n",
       " '__delattr__',\n",
       " '__dict__',\n",
       " '__dir__',\n",
       " '__doc__',\n",
       " '__eq__',\n",
       " '__format__',\n",
       " '__ge__',\n",
       " '__getattribute__',\n",
       " '__gt__',\n",
       " '__hash__',\n",
       " '__init__',\n",
       " '__init_subclass__',\n",
       " '__le__',\n",
       " '__lt__',\n",
       " '__module__',\n",
       " '__ne__',\n",
       " '__new__',\n",
       " '__reduce__',\n",
       " '__reduce_ex__',\n",
       " '__repr__',\n",
       " '__setattr__',\n",
       " '__sizeof__',\n",
       " '__str__',\n",
       " '__subclasshook__',\n",
       " '__weakref__',\n",
       " '_keras_api_names',\n",
       " '_keras_api_names_v1',\n",
       " 'on_batch_begin',\n",
       " 'on_batch_end',\n",
       " 'on_epoch_begin',\n",
       " 'on_epoch_end',\n",
       " 'on_predict_batch_begin',\n",
       " 'on_predict_batch_end',\n",
       " 'on_predict_begin',\n",
       " 'on_predict_end',\n",
       " 'on_test_batch_begin',\n",
       " 'on_test_batch_end',\n",
       " 'on_test_begin',\n",
       " 'on_test_end',\n",
       " 'on_train_batch_begin',\n",
       " 'on_train_batch_end',\n",
       " 'on_train_begin',\n",
       " 'on_train_end',\n",
       " 'set_model',\n",
       " 'set_params']"
      ]
     },
     "execution_count": 81,
     "metadata": {},
     "output_type": "execute_result"
    }
   ],
   "source": [
    "dir(Callback)"
   ]
  },
  {
   "cell_type": "code",
   "execution_count": 48,
   "metadata": {
    "scrolled": true
   },
   "outputs": [
    {
     "ename": "TypeError",
     "evalue": "on_train_begin() missing 1 required positional argument: 'self'",
     "output_type": "error",
     "traceback": [
      "\u001b[1;31m---------------------------------------------------------------------------\u001b[0m",
      "\u001b[1;31mTypeError\u001b[0m                                 Traceback (most recent call last)",
      "\u001b[1;32m<ipython-input-48-7619b40bd12c>\u001b[0m in \u001b[0;36m<module>\u001b[1;34m\u001b[0m\n\u001b[1;32m----> 1\u001b[1;33m \u001b[0mCallback\u001b[0m\u001b[1;33m.\u001b[0m\u001b[0mon_train_begin\u001b[0m\u001b[1;33m(\u001b[0m\u001b[1;33m)\u001b[0m\u001b[1;33m\u001b[0m\u001b[1;33m\u001b[0m\u001b[0m\n\u001b[0m",
      "\u001b[1;31mTypeError\u001b[0m: on_train_begin() missing 1 required positional argument: 'self'"
     ]
    }
   ],
   "source": [
    "Callback.on_train_begin()"
   ]
  },
  {
   "cell_type": "code",
   "execution_count": 98,
   "metadata": {
    "scrolled": true
   },
   "outputs": [
    {
     "name": "stdout",
     "output_type": "stream",
     "text": [
      "Train on 60000 samples\n",
      "시작\n",
      "에폭 0 시작\n",
      "Epoch 1/3\n",
      "59776/60000 [============================>.] - ETA: 0s - loss: 0.0230 - accuracy: 0.9921에폭 끝 {'loss': 0.022998865557937096, 'accuracy': 0.9921333}\n",
      "60000/60000 [==============================] - 4s 59us/sample - loss: 0.0230 - accuracy: 0.9921\n",
      "에폭 1 시작\n",
      "Epoch 2/3\n",
      "59328/60000 [============================>.] - ETA: 0s - loss: 0.0196 - accuracy: 0.9929에폭 끝 {'loss': 0.019505027878868715, 'accuracy': 0.9929}\n",
      "60000/60000 [==============================] - 4s 60us/sample - loss: 0.0195 - accuracy: 0.9929\n",
      "에폭 2 시작\n",
      "Epoch 3/3\n",
      "59808/60000 [============================>.] - ETA: 0s - loss: 0.0214 - accuracy: 0.9923에폭 끝 {'loss': 0.021424682563073536, 'accuracy': 0.9923}\n",
      "60000/60000 [==============================] - 4s 59us/sample - loss: 0.0214 - accuracy: 0.9923\n",
      "끝\n"
     ]
    },
    {
     "data": {
      "text/plain": [
       "<tensorflow.python.keras.callbacks.History at 0x26b86da3948>"
      ]
     },
     "execution_count": 98,
     "metadata": {},
     "output_type": "execute_result"
    }
   ],
   "source": [
    "class MyCallback(Callback):\n",
    "    def on_train_begin(self, logs): # 오버라이딩 기법: 학습 시작전에 실행\n",
    "        print('시작')\n",
    "        pass\n",
    "    \n",
    "    def on_train_end(self, logs): # 오버라이딩 기법: 학습이 끝난 후 실행\n",
    "        print('끝')\n",
    "        \n",
    "    def on_epoch_begin(self, epochs, logs): # 1에폭 돌기 전에 실행\n",
    "        if epoch == 1:\n",
    "            print('에폭 시작', logs)\n",
    "        else:\n",
    "            print('에폭', epochs, '시작')\n",
    "        \n",
    "    def on_epoch_end(self, epochs, logs): # 1에폭 돌고나서 실행\n",
    "        print('에폭 끝', logs)\n",
    "        \n",
    "    \n",
    "        \n",
    "my = MyCallback()\n",
    "model.fit(x_train, y_train, epochs=3, callbacks = [my]) # s가 있으니, 다양한 것들을 많이 넣을 수 있음."
   ]
  },
  {
   "cell_type": "code",
   "execution_count": 99,
   "metadata": {},
   "outputs": [],
   "source": [
    "from tensorflow.keras.callbacks import TensorBoard # 이렇게 쓸 수 있다."
   ]
  },
  {
   "cell_type": "code",
   "execution_count": 100,
   "metadata": {},
   "outputs": [],
   "source": [
    "from tensorflow.keras.callbacks import EarlyStopping"
   ]
  },
  {
   "cell_type": "code",
   "execution_count": 106,
   "metadata": {
    "scrolled": true
   },
   "outputs": [],
   "source": [
    "dir(EarlyStopping)\n",
    "issubclass(EarlyStopping, Callback) # 얘도 callbacks의 상속이다.\n",
    "\n",
    "es = EarlyStopping()"
   ]
  },
  {
   "cell_type": "code",
   "execution_count": 107,
   "metadata": {},
   "outputs": [
    {
     "name": "stdout",
     "output_type": "stream",
     "text": [
      "  def on_epoch_end(self, epoch, logs=None):\n",
      "    current = self.get_monitor_value(logs)\n",
      "    if current is None:\n",
      "      return\n",
      "    if self.monitor_op(current - self.min_delta, self.best):\n",
      "      self.best = current\n",
      "      self.wait = 0\n",
      "      if self.restore_best_weights:\n",
      "        self.best_weights = self.model.get_weights()\n",
      "    else:\n",
      "      self.wait += 1\n",
      "      if self.wait >= self.patience:\n",
      "        self.stopped_epoch = epoch\n",
      "        self.model.stop_training = True\n",
      "        if self.restore_best_weights:\n",
      "          if self.verbose > 0:\n",
      "            print('Restoring model weights from the end of the best epoch.')\n",
      "          self.model.set_weights(self.best_weights)\n",
      "\n"
     ]
    }
   ],
   "source": [
    "import inspect\n",
    "\n",
    "print(inspect.getsource(EarlyStopping.on_epoch_end))"
   ]
  },
  {
   "cell_type": "code",
   "execution_count": 105,
   "metadata": {
    "scrolled": true
   },
   "outputs": [
    {
     "name": "stdout",
     "output_type": "stream",
     "text": [
      "Train on 60000 samples\n",
      "Epoch 1/3\n",
      "59520/60000 [============================>.] - ETA: 0s - loss: 0.0196 - accuracy: 0.9933WARNING:tensorflow:Early stopping conditioned on metric `val_loss` which is not available. Available metrics are: loss,accuracy\n",
      "60000/60000 [==============================] - 4s 68us/sample - loss: 0.0196 - accuracy: 0.9933\n",
      "Epoch 2/3\n",
      "59360/60000 [============================>.] - ETA: 0s - loss: 0.0206 - accuracy: 0.9927WARNING:tensorflow:Early stopping conditioned on metric `val_loss` which is not available. Available metrics are: loss,accuracy\n",
      "60000/60000 [==============================] - 4s 61us/sample - loss: 0.0206 - accuracy: 0.9926\n",
      "Epoch 3/3\n",
      "59584/60000 [============================>.] - ETA: 0s - loss: 0.0193 - accuracy: 0.9931WARNING:tensorflow:Early stopping conditioned on metric `val_loss` which is not available. Available metrics are: loss,accuracy\n",
      "60000/60000 [==============================] - 4s 61us/sample - loss: 0.0192 - accuracy: 0.9931\n"
     ]
    },
    {
     "data": {
      "text/plain": [
       "<tensorflow.python.keras.callbacks.History at 0x26babc1a648>"
      ]
     },
     "execution_count": 105,
     "metadata": {},
     "output_type": "execute_result"
    }
   ],
   "source": [
    "class MyCallback(Callback):\n",
    "    def on_train_begin(self, logs): # 오버라이딩 기법: 학습 시작전에 실행\n",
    "        print('시작')\n",
    "        pass\n",
    "    \n",
    "    def on_train_end(self, logs): # 오버라이딩 기법: 학습이 끝난 후 실행\n",
    "        print('끝')\n",
    "        \n",
    "    def on_epoch_begin(self, epochs, logs): # 1에폭 돌기 전에 실행\n",
    "        if epoch == 1:\n",
    "            print('에폭 시작', logs)\n",
    "        else:\n",
    "            print('에폭', epochs, '시작')\n",
    "        \n",
    "    def on_epoch_end(self, epochs, logs): # 1에폭 돌고나서 실행\n",
    "        print('에폭 끝', logs)\n",
    "        \n",
    "    \n",
    "        \n",
    "my = MyCallback()\n",
    "model.fit(x_train, y_train, epochs=3, callbacks = [es]) # s가 있으니, 다양한 것들을 많이 넣을 수 있음."
   ]
  },
  {
   "cell_type": "markdown",
   "metadata": {},
   "source": [
    "이 콜백으로 뭘 할 수 있냐면, 모델을 저장할 수 있다.\n",
    "\n",
    "https://www.tensorflow.org/tutorials/keras/save_and_load : 체크포인트 콜백 참조"
   ]
  },
  {
   "cell_type": "code",
   "execution_count": 110,
   "metadata": {},
   "outputs": [
    {
     "name": "stdout",
     "output_type": "stream",
     "text": [
      "Train on 60000 samples\n",
      "Epoch 1/3\n",
      "60000/60000 [==============================] - 4s 67us/sample - loss: 0.0197 - accuracy: 0.9933\n",
      "Epoch 2/3\n",
      "60000/60000 [==============================] - 4s 60us/sample - loss: 0.0194 - accuracy: 0.9935\n",
      "Epoch 3/3\n",
      "60000/60000 [==============================] - 4s 62us/sample - loss: 0.0202 - accuracy: 0.9933\n"
     ]
    },
    {
     "data": {
      "text/plain": [
       "<tensorflow.python.keras.callbacks.History at 0x26ba6dd9708>"
      ]
     },
     "execution_count": 110,
     "metadata": {},
     "output_type": "execute_result"
    }
   ],
   "source": [
    "from tensorflow.keras.callbacks import CSVLogger\n",
    "\n",
    "cl = CSVLogger('csv_logger_log.csv')\n",
    "\n",
    "model.fit(x_train, y_train, epochs=3, callbacks = [cl])\n",
    "# 파일을 csv로 저장해둘 수 있다. 메일로 보내주는 기능도 추가할 수 있다."
   ]
  }
 ],
 "metadata": {
  "kernelspec": {
   "display_name": "Tensorflow2.0-GPU",
   "language": "python",
   "name": "tf2.0-gpu"
  },
  "language_info": {
   "codemirror_mode": {
    "name": "ipython",
    "version": 3
   },
   "file_extension": ".py",
   "mimetype": "text/x-python",
   "name": "python",
   "nbconvert_exporter": "python",
   "pygments_lexer": "ipython3",
   "version": "3.7.5"
  }
 },
 "nbformat": 4,
 "nbformat_minor": 2
}
