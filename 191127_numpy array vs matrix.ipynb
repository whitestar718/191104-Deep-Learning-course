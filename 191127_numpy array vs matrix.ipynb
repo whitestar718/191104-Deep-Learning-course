{
 "cells": [
  {
   "cell_type": "code",
   "execution_count": 1,
   "metadata": {},
   "outputs": [],
   "source": [
    "import numpy as np\n",
    "import cv2\n",
    "import matplotlib.pyplot as plt"
   ]
  },
  {
   "cell_type": "code",
   "execution_count": 3,
   "metadata": {},
   "outputs": [],
   "source": [
    "X = np.random.randint(25, 50, (25, 2)).astype(np.float32) # 이렇게 해주면, 더 효율적이다. np.float32(x) 해주는 것보다 좋다.\n",
    "Y = np.random.randint(60, 85, (25, 2)).astype(np.float32)\n",
    "Z = np.vstack((X, Y))"
   ]
  },
  {
   "cell_type": "code",
   "execution_count": 7,
   "metadata": {},
   "outputs": [
    {
     "data": {
      "text/plain": [
       "(50, 2)"
      ]
     },
     "execution_count": 7,
     "metadata": {},
     "output_type": "execute_result"
    }
   ],
   "source": [
    "Z.shape"
   ]
  },
  {
   "cell_type": "code",
   "execution_count": 32,
   "metadata": {},
   "outputs": [],
   "source": [
    "criteria = (cv2.TERM_CRITERIA_EPS + cv2.TERM_CRITERIA_MAX_ITER, 10, 1.0)"
   ]
  },
  {
   "cell_type": "code",
   "execution_count": 30,
   "metadata": {},
   "outputs": [
    {
     "data": {
      "text/plain": [
       "0"
      ]
     },
     "execution_count": 30,
     "metadata": {},
     "output_type": "execute_result"
    }
   ],
   "source": [
    "cv2.KMEANS_RANDOM_CENTERS"
   ]
  },
  {
   "cell_type": "code",
   "execution_count": 52,
   "metadata": {},
   "outputs": [],
   "source": [
    "ret, label, center = cv2.kmeans(Z, 2, # 2개의 클러스터\n",
    "                                None, \n",
    "                                (0, 10, 1.0), # 앞의 값 0, 1, 2을 바꿔가면서 넣어보니 별 차이가 없다. 종료조건이다.\n",
    "                                10, # 10번 돌렸다.\n",
    "                                cv2.KMEANS_RANDOM_CENTERS) # 초기값 잡는 방법"
   ]
  },
  {
   "cell_type": "code",
   "execution_count": 51,
   "metadata": {
    "collapsed": true
   },
   "outputs": [
    {
     "name": "stdout",
     "output_type": "stream",
     "text": [
      "4927.28005027771\n",
      "[[0]\n",
      " [0]\n",
      " [0]\n",
      " [0]\n",
      " [0]\n",
      " [0]\n",
      " [0]\n",
      " [0]\n",
      " [0]\n",
      " [0]\n",
      " [0]\n",
      " [0]\n",
      " [0]\n",
      " [0]\n",
      " [0]\n",
      " [0]\n",
      " [0]\n",
      " [0]\n",
      " [0]\n",
      " [0]\n",
      " [0]\n",
      " [0]\n",
      " [0]\n",
      " [0]\n",
      " [0]\n",
      " [1]\n",
      " [1]\n",
      " [1]\n",
      " [1]\n",
      " [1]\n",
      " [1]\n",
      " [1]\n",
      " [1]\n",
      " [1]\n",
      " [1]\n",
      " [1]\n",
      " [1]\n",
      " [1]\n",
      " [1]\n",
      " [1]\n",
      " [1]\n",
      " [1]\n",
      " [1]\n",
      " [1]\n",
      " [1]\n",
      " [1]\n",
      " [1]\n",
      " [1]\n",
      " [1]\n",
      " [1]]\n",
      "[[36.96 38.28]\n",
      " [70.92 73.32]]\n"
     ]
    }
   ],
   "source": [
    "print(ret)\n",
    "print(label)\n",
    "print(center)"
   ]
  },
  {
   "cell_type": "markdown",
   "metadata": {},
   "source": [
    "kmeans 이론적으로 계속 이터레이션 하면 수렴한다고 배웠다. "
   ]
  },
  {
   "cell_type": "code",
   "execution_count": 53,
   "metadata": {
    "scrolled": true
   },
   "outputs": [
    {
     "data": {
      "text/plain": [
       "['KMEANS_PP_CENTERS', 'KMEANS_RANDOM_CENTERS', 'KMEANS_USE_INITIAL_LABELS']"
      ]
     },
     "execution_count": 53,
     "metadata": {},
     "output_type": "execute_result"
    }
   ],
   "source": [
    "[i for i in dir(cv2) if i.startswith('KMEAN')] # -1이 나오면 아무것도 처리하지 말라는 것이고, 0, 1, 2 나오면 3가지 옵션이 있다는 뜻."
   ]
  },
  {
   "cell_type": "code",
   "execution_count": 24,
   "metadata": {},
   "outputs": [
    {
     "data": {
      "text/plain": [
       "1"
      ]
     },
     "execution_count": 24,
     "metadata": {},
     "output_type": "execute_result"
    }
   ],
   "source": [
    "cv2.TERM_CRITERIA_MAX_ITER # 1\n",
    "cv2.TERM_CRITERIA_EPS # 2\n",
    "cv2.TERM_CRITERIA_COUNT # 1"
   ]
  },
  {
   "cell_type": "markdown",
   "metadata": {},
   "source": [
    "상수값 확인해보니 지멋대로이다. 중요한거 아니다."
   ]
  },
  {
   "cell_type": "markdown",
   "metadata": {},
   "source": [
    "kmeans는 어떨때 쓸까?? 현실세계에서는 타켓값이 없는 경우가 너무 많다. 그러면 클러스터를 해서 그 클러스터에 속하는 애들을 값을 주는 것이다. gen의 경우는 셀프 슈퍼바이즈드 러닝이라고 한다. 스스로 오토 인코더로 라벨을 붙여준다고 한다.\n",
    "\n",
    "제일 첫 번째 문제점은 k의 개수를 모른다는 것이다. 그래서 나온 것이 divi scan이다. 조건을 주면 가장 최고의 클러스터를 찾아준다.\n",
    "\n"
   ]
  },
  {
   "cell_type": "markdown",
   "metadata": {},
   "source": [
    "# iris 데이터 실습"
   ]
  },
  {
   "cell_type": "code",
   "execution_count": 54,
   "metadata": {},
   "outputs": [],
   "source": [
    "from sklearn.datasets import load_iris\n",
    "\n",
    "data = load_iris()"
   ]
  },
  {
   "cell_type": "code",
   "execution_count": 55,
   "metadata": {},
   "outputs": [],
   "source": [
    "from sklearn.cluster import KMeans, DBSCAN\n",
    "\n",
    "dbs = DBSCAN()"
   ]
  },
  {
   "cell_type": "code",
   "execution_count": 56,
   "metadata": {},
   "outputs": [],
   "source": [
    "import mglearn"
   ]
  },
  {
   "cell_type": "code",
   "execution_count": 60,
   "metadata": {
    "scrolled": true
   },
   "outputs": [
    {
     "name": "stdout",
     "output_type": "stream",
     "text": [
      "min_samples: 2 eps: 1.000000  cluster: [-1  0  0 -1  0 -1  1  1  0  1 -1 -1]\n",
      "min_samples: 2 eps: 1.500000  cluster: [0 1 1 1 1 0 2 2 1 2 2 0]\n",
      "min_samples: 2 eps: 2.000000  cluster: [0 1 1 1 1 0 0 0 1 0 0 0]\n",
      "min_samples: 2 eps: 3.000000  cluster: [0 0 0 0 0 0 0 0 0 0 0 0]\n",
      "min_samples: 3 eps: 1.000000  cluster: [-1  0  0 -1  0 -1  1  1  0  1 -1 -1]\n",
      "min_samples: 3 eps: 1.500000  cluster: [0 1 1 1 1 0 2 2 1 2 2 0]\n",
      "min_samples: 3 eps: 2.000000  cluster: [0 1 1 1 1 0 0 0 1 0 0 0]\n",
      "min_samples: 3 eps: 3.000000  cluster: [0 0 0 0 0 0 0 0 0 0 0 0]\n",
      "min_samples: 5 eps: 1.000000  cluster: [-1 -1 -1 -1 -1 -1 -1 -1 -1 -1 -1 -1]\n",
      "min_samples: 5 eps: 1.500000  cluster: [-1  0  0  0  0 -1 -1 -1  0 -1 -1 -1]\n",
      "min_samples: 5 eps: 2.000000  cluster: [-1  0  0  0  0 -1 -1 -1  0 -1 -1 -1]\n",
      "min_samples: 5 eps: 3.000000  cluster: [0 0 0 0 0 0 0 0 0 0 0 0]\n"
     ]
    },
    {
     "data": {
      "image/png": "[encoded data removed]",
      "text/plain": [
       "<Figure size 792x576 with 12 Axes>"
      ]
     },
     "metadata": {},
     "output_type": "display_data"
    }
   ],
   "source": [
    "mglearn.plot_dbscan.plot_dbscan()"
   ]
  },
  {
   "cell_type": "markdown",
   "metadata": {},
   "source": [
    "어떤 동그라미가 돌아가면서, 자기 안에 들어가는 애들을 정해서 개수를 정해준다. eps(엡실론)은 반지름이라고 해도 되고, 민 샘플은 클러스터 안에 들어가는 원소 개수임. 5라면 클러스터 안에 5개만 들어가도 클러스터로 인정한다는 뜻이다."
   ]
  },
  {
   "cell_type": "code",
   "execution_count": 64,
   "metadata": {},
   "outputs": [
    {
     "data": {
      "text/plain": [
       "array([ 0,  0,  0,  0,  0,  0,  0,  0,  0,  0,  0,  0,  0,  0,  0, -1,  0,\n",
       "        0,  0,  0,  0,  0,  0,  0,  0,  0,  0,  0,  0,  0,  0,  0,  0,  0,\n",
       "        0,  0,  0,  0,  0,  0,  0, -1,  0,  0,  0,  0,  0,  0,  0,  0,  1,\n",
       "        1,  1,  1,  1,  1,  1, -1,  1,  1, -1,  1,  1,  1,  1,  1,  1,  1,\n",
       "       -1,  1,  1,  1,  1,  1,  1,  1,  1,  1,  1,  1,  1,  1,  1,  1,  1,\n",
       "        1,  1, -1,  1,  1,  1,  1,  1, -1,  1,  1,  1,  1, -1,  1, -1,  1,\n",
       "       -1,  1,  1, -1, -1, -1, -1, -1,  1,  1,  1, -1, -1,  1,  1, -1, -1,\n",
       "       -1,  1, -1, -1,  1,  1, -1,  1,  1,  1, -1, -1, -1,  1,  1, -1, -1,\n",
       "       -1,  1,  1,  1,  1,  1,  1,  1,  1,  1,  1,  1, -1,  1],\n",
       "      dtype=int64)"
      ]
     },
     "execution_count": 64,
     "metadata": {},
     "output_type": "execute_result"
    }
   ],
   "source": [
    "dbs = DBSCAN(min_samples=10)\n",
    "dbs.fit_predict(data.data)"
   ]
  },
  {
   "cell_type": "markdown",
   "metadata": {},
   "source": [
    "이런식으로 k의 값을 잡아내서 kmeans에 활용하는 것이다. db 스캔을 이용해서, 라벨까지 메길수 있다."
   ]
  },
  {
   "cell_type": "code",
   "execution_count": 66,
   "metadata": {},
   "outputs": [],
   "source": [
    "kme = KMeans(3) # kmeans는 opencv로 하는 것이 안 좋다. 시스템화하기 좋기 때문에, 오픈 시비를 쓰는 것이다. 정확도는 한 2, 3% 차이 난다."
   ]
  },
  {
   "cell_type": "code",
   "execution_count": 68,
   "metadata": {},
   "outputs": [
    {
     "data": {
      "text/plain": [
       "array([1, 1, 1, 1, 1, 1, 1, 1, 1, 1, 1, 1, 1, 1, 1, 1, 1, 1, 1, 1, 1, 1,\n",
       "       1, 1, 1, 1, 1, 1, 1, 1, 1, 1, 1, 1, 1, 1, 1, 1, 1, 1, 1, 1, 1, 1,\n",
       "       1, 1, 1, 1, 1, 1, 0, 0, 2, 0, 0, 0, 0, 0, 0, 0, 0, 0, 0, 0, 0, 0,\n",
       "       0, 0, 0, 0, 0, 0, 0, 0, 0, 0, 0, 2, 0, 0, 0, 0, 0, 0, 0, 0, 0, 0,\n",
       "       0, 0, 0, 0, 0, 0, 0, 0, 0, 0, 0, 0, 2, 0, 2, 2, 2, 2, 0, 2, 2, 2,\n",
       "       2, 2, 2, 0, 0, 2, 2, 2, 2, 0, 2, 0, 2, 0, 2, 2, 0, 0, 2, 2, 2, 2,\n",
       "       2, 0, 2, 2, 2, 2, 0, 2, 2, 2, 0, 2, 2, 2, 0, 2, 2, 0])"
      ]
     },
     "execution_count": 68,
     "metadata": {},
     "output_type": "execute_result"
    }
   ],
   "source": [
    "kme.fit_predict(data.data)"
   ]
  },
  {
   "cell_type": "markdown",
   "metadata": {},
   "source": [
    "★★★ 공부해야 할 것: DBSCAN... 공부해야 자동으로 k값을 잘 알아낼 수 있다.\n",
    "\n",
    "kmeans는 거리기반이라서, 아웃라이어에 민감하다. 그래서 노말라이제이션 해주는게 중요하다. 그래서 민맥스보다는 standard 스케일러를 쓴다.\n",
    "\n",
    "오픈cv로 영상처리도 되지만, 기억해야 할 것은 전처리 하는 것. 이건 기억해야 한다."
   ]
  },
  {
   "cell_type": "markdown",
   "metadata": {},
   "source": [
    "# 넘파이 어레이 vs 매트릭스"
   ]
  },
  {
   "cell_type": "code",
   "execution_count": 70,
   "metadata": {},
   "outputs": [],
   "source": [
    "a = np.array([[1, 2], [3, 4]])\n",
    "b = np.matrix([[1, 2], [3, 4]])"
   ]
  },
  {
   "cell_type": "code",
   "execution_count": 71,
   "metadata": {},
   "outputs": [
    {
     "data": {
      "text/plain": [
       "array([[ 1,  4],\n",
       "       [ 9, 16]])"
      ]
     },
     "execution_count": 71,
     "metadata": {},
     "output_type": "execute_result"
    }
   ],
   "source": [
    "a*a # element wise 방식"
   ]
  },
  {
   "cell_type": "code",
   "execution_count": 72,
   "metadata": {},
   "outputs": [
    {
     "data": {
      "text/plain": [
       "matrix([[ 7, 10],\n",
       "        [15, 22]])"
      ]
     },
     "execution_count": 72,
     "metadata": {},
     "output_type": "execute_result"
    }
   ],
   "source": [
    "b*b # 행렬곱"
   ]
  },
  {
   "cell_type": "markdown",
   "metadata": {},
   "source": [
    " - outlier detection할 때, SVM을 쓴다.\n",
    " - 오버피팅: 일반화와 관련되어 있다. svm은 대표성이 좋다."
   ]
  },
  {
   "cell_type": "code",
   "execution_count": 85,
   "metadata": {},
   "outputs": [
    {
     "data": {
      "text/plain": [
       "['setC',\n",
       " 'setClassWeights',\n",
       " 'setCoef0',\n",
       " 'setDegree',\n",
       " 'setGamma',\n",
       " 'setKernel',\n",
       " 'setNu',\n",
       " 'setP',\n",
       " 'setTermCriteria',\n",
       " 'setType']"
      ]
     },
     "execution_count": 85,
     "metadata": {},
     "output_type": "execute_result"
    }
   ],
   "source": [
    "svm = cv2.ml.SVM_create()\n",
    "# dir(cv2.ml)\n",
    "[i for i in dir(svm) if i.startswith('set')]"
   ]
  },
  {
   "cell_type": "markdown",
   "metadata": {},
   "source": [
    "# 사이킷런\n",
    "\n",
    "오픈시브이는 한글 안되지만, 시스템 만드는데 효과적이라서 쓴다."
   ]
  },
  {
   "cell_type": "code",
   "execution_count": 86,
   "metadata": {},
   "outputs": [],
   "source": [
    "# from scipy.ndimage import "
   ]
  },
  {
   "cell_type": "code",
   "execution_count": 90,
   "metadata": {},
   "outputs": [],
   "source": [
    "import imutils"
   ]
  },
  {
   "cell_type": "code",
   "execution_count": 92,
   "metadata": {},
   "outputs": [],
   "source": [
    "import imageio # 넘파이를 상속받아서 만들었다. 이미지에 관련된 애들을 추가시킨 것이다."
   ]
  },
  {
   "cell_type": "code",
   "execution_count": 95,
   "metadata": {
    "collapsed": true
   },
   "outputs": [
    {
     "data": {
      "text/plain": [
       "['RETURN_BYTES',\n",
       " '__builtins__',\n",
       " '__cached__',\n",
       " '__doc__',\n",
       " '__file__',\n",
       " '__loader__',\n",
       " '__name__',\n",
       " '__package__',\n",
       " '__path__',\n",
       " '__spec__',\n",
       " '__version__',\n",
       " 'core',\n",
       " 'formats',\n",
       " 'get_reader',\n",
       " 'get_writer',\n",
       " 'help',\n",
       " 'imread',\n",
       " 'imsave',\n",
       " 'imwrite',\n",
       " 'mimread',\n",
       " 'mimsave',\n",
       " 'mimwrite',\n",
       " 'mvolread',\n",
       " 'mvolsave',\n",
       " 'mvolwrite',\n",
       " 'plugins',\n",
       " 'read',\n",
       " 'save',\n",
       " 'show_formats',\n",
       " 'volread',\n",
       " 'volsave',\n",
       " 'volwrite']"
      ]
     },
     "execution_count": 95,
     "metadata": {},
     "output_type": "execute_result"
    }
   ],
   "source": [
    "dir(imageio)"
   ]
  },
  {
   "cell_type": "markdown",
   "metadata": {},
   "source": [
    " - imageio\n",
    " - opencv를 편하게 해주는건 imutil"
   ]
  },
  {
   "cell_type": "code",
   "execution_count": 100,
   "metadata": {},
   "outputs": [
    {
     "name": "stdout",
     "output_type": "stream",
     "text": [
      "Search results for 'contour'\n",
      "----------------------------\n",
      "skimage.measure.find_contours\n",
      "    Find iso-valued contours in a 2D array for a given level value.\n",
      "skimage.segmentation.active_contour\n",
      "    Active contour model.\n",
      "skimage.segmentation.chan_vese\n",
      "    Chan-Vese segmentation algorithm.\n",
      "skimage.segmentation.morphological_chan_vese\n",
      "    Morphological Active Contours without Edges (MorphACWE)\n",
      "skimage.segmentation.morphological_geodesic_active_contour\n",
      "    Morphological Geodesic Active Contours (MorphGAC).\n",
      "skimage.measure.perimeter\n",
      "    Calculate total perimeter of all objects in binary image.\n",
      "skimage.measure.regionprops\n",
      "    Measure properties of labeled image regions.\n",
      "skimage.measure.marching_cubes_classic\n",
      "    Classic marching cubes algorithm to find surfaces in 3d volumetric data.\n",
      "skimage.measure.marching_cubes_lewiner\n",
      "    Lewiner marching cubes algorithm to find surfaces in 3d volumetric data.\n",
      "skimage.segmentation.inverse_gaussian_gradient\n",
      "    Inverse of gradient magnitude."
     ]
    }
   ],
   "source": [
    "skimage.lookfor('contour') # 사이킷이미지는 이런식으로 검색한다."
   ]
  },
  {
   "cell_type": "code",
   "execution_count": 102,
   "metadata": {},
   "outputs": [
    {
     "name": "stdout",
     "output_type": "stream",
     "text": [
      "Search results for 'contour'\n",
      "----------------------------\n",
      "numpy.meshgrid\n",
      "    Return coordinate matrices from coordinate vectors.\n",
      "Help for contour not found.\n"
     ]
    }
   ],
   "source": [
    "import numpy as np\n",
    "\n",
    "np.lookfor('contour') # 넘파이에도 룩포가 있다.\n",
    "np.info('contour')"
   ]
  },
  {
   "cell_type": "code",
   "execution_count": 104,
   "metadata": {},
   "outputs": [
    {
     "name": "stdout",
     "output_type": "stream",
     "text": [
      " find_contours(array, level, fully_connected='low',\n",
      "               positive_orientation='low')\n",
      "\n",
      "Find iso-valued contours in a 2D array for a given level value.\n",
      "\n",
      "Uses the \"marching squares\" method to compute a the iso-valued contours of\n",
      "the input 2D array for a particular level value. Array values are linearly\n",
      "interpolated to provide better precision for the output contours.\n",
      "\n",
      "Parameters\n",
      "----------\n",
      "array : 2D ndarray of double\n",
      "    Input data in which to find contours.\n",
      "level : float\n",
      "    Value along which to find contours in the array.\n",
      "fully_connected : str, {'low', 'high'}\n",
      "     Indicates whether array elements below the given level value are to be\n",
      "     considered fully-connected (and hence elements above the value will\n",
      "     only be face connected), or vice-versa. (See notes below for details.)\n",
      "positive_orientation : either 'low' or 'high'\n",
      "     Indicates whether the output contours will produce positively-oriented\n",
      "     polygons around islands of low- or high-valued elements. If 'low' then\n",
      "     contours will wind counter- clockwise around elements below the\n",
      "     iso-value. Alternately, this means that low-valued elements are always\n",
      "     on the left of the contour. (See below for details.)\n",
      "mask : 2D ndarray of bool, or None\n",
      "    A boolean mask, True where we want to draw contours.\n",
      "    Note that NaN values are always excluded from the considered region\n",
      "    (``mask`` is set to ``False`` wherever ``array`` is ``NaN``).\n",
      "\n",
      "Returns\n",
      "-------\n",
      "contours : list of (n,2)-ndarrays\n",
      "    Each contour is an ndarray of shape ``(n, 2)``,\n",
      "    consisting of n ``(row, column)`` coordinates along the contour.\n",
      "\n",
      "Notes\n",
      "-----\n",
      "The marching squares algorithm is a special case of the marching cubes\n",
      "algorithm [1]_.  A simple explanation is available here::\n",
      "\n",
      "  http://www.essi.fr/~lingrand/MarchingCubes/algo.html\n",
      "\n",
      "There is a single ambiguous case in the marching squares algorithm: when\n",
      "a given ``2 x 2``-element square has two high-valued and two low-valued\n",
      "elements, each pair diagonally adjacent. (Where high- and low-valued is\n",
      "with respect to the contour value sought.) In this case, either the\n",
      "high-valued elements can be 'connected together' via a thin isthmus that\n",
      "separates the low-valued elements, or vice-versa. When elements are\n",
      "connected together across a diagonal, they are considered 'fully\n",
      "connected' (also known as 'face+vertex-connected' or '8-connected'). Only\n",
      "high-valued or low-valued elements can be fully-connected, the other set\n",
      "will be considered as 'face-connected' or '4-connected'. By default,\n",
      "low-valued elements are considered fully-connected; this can be altered\n",
      "with the 'fully_connected' parameter.\n",
      "\n",
      "Output contours are not guaranteed to be closed: contours which intersect\n",
      "the array edge or a masked-off region (either where mask is False or where\n",
      "array is NaN) will be left open. All other contours will be closed. (The\n",
      "closed-ness of a contours can be tested by checking whether the beginning\n",
      "point is the same as the end point.)\n",
      "\n",
      "Contours are oriented. By default, array values lower than the contour\n",
      "value are to the left of the contour and values greater than the contour\n",
      "value are to the right. This means that contours will wind\n",
      "counter-clockwise (i.e. in 'positive orientation') around islands of\n",
      "low-valued pixels. This behavior can be altered with the\n",
      "'positive_orientation' parameter.\n",
      "\n",
      "The order of the contours in the output list is determined by the position\n",
      "of the smallest ``x,y`` (in lexicographical order) coordinate in the\n",
      "contour.  This is a side-effect of how the input array is traversed, but\n",
      "can be relied upon.\n",
      "\n",
      ".. warning::\n",
      "\n",
      "   Array coordinates/values are assumed to refer to the *center* of the\n",
      "   array element. Take a simple example input: ``[0, 1]``. The interpolated\n",
      "   position of 0.5 in this array is midway between the 0-element (at\n",
      "   ``x=0``) and the 1-element (at ``x=1``), and thus would fall at\n",
      "   ``x=0.5``.\n",
      "\n",
      "This means that to find reasonable contours, it is best to find contours\n",
      "midway between the expected \"light\" and \"dark\" values. In particular,\n",
      "given a binarized array, *do not* choose to find contours at the low or\n",
      "high value of the array. This will often yield degenerate contours,\n",
      "especially around structures that are a single array element wide. Instead\n",
      "choose a middle value, as above.\n",
      "\n",
      "References\n",
      "----------\n",
      ".. [1] Lorensen, William and Harvey E. Cline. Marching Cubes: A High\n",
      "       Resolution 3D Surface Construction Algorithm. Computer Graphics\n",
      "       (SIGGRAPH 87 Proceedings) 21(4) July 1987, p. 163-170).\n",
      "\n",
      "Examples\n",
      "--------\n",
      ">>> a = np.zeros((3, 3))\n",
      ">>> a[0, 0] = 1\n",
      ">>> a\n",
      "array([[ 1.,  0.,  0.],\n",
      "       [ 0.,  0.,  0.],\n",
      "       [ 0.,  0.,  0.]])\n",
      ">>> find_contours(a, 0.5)\n",
      "[array([[ 0. ,  0.5],\n",
      "       [ 0.5,  0. ]])]\n"
     ]
    }
   ],
   "source": [
    "np.info(skimage.measure.find_contours) # 사이킷 이미지는 넘파이로 만들었기 때문에, 넘파이 룩포를 찾아준다."
   ]
  },
  {
   "cell_type": "code",
   "execution_count": 105,
   "metadata": {},
   "outputs": [],
   "source": [
    "from skimage import io"
   ]
  },
  {
   "cell_type": "code",
   "execution_count": 107,
   "metadata": {},
   "outputs": [
    {
     "data": {
      "text/plain": [
       "['ImageCollection',\n",
       " 'MultiImage',\n",
       " 'WRAP_LEN',\n",
       " '__builtins__',\n",
       " '__cached__',\n",
       " '__doc__',\n",
       " '__file__',\n",
       " '__loader__',\n",
       " '__name__',\n",
       " '__package__',\n",
       " '__path__',\n",
       " '__spec__',\n",
       " '_format_plugin_info_table',\n",
       " '_image_stack',\n",
       " '_io',\n",
       " '_plugins',\n",
       " '_separator',\n",
       " '_update_doc',\n",
       " 'available_plugins',\n",
       " 'call_plugin',\n",
       " 'collection',\n",
       " 'concatenate_images',\n",
       " 'find_available_plugins',\n",
       " 'image_stack',\n",
       " 'imread',\n",
       " 'imread_collection',\n",
       " 'imread_collection_wrapper',\n",
       " 'imsave',\n",
       " 'imshow',\n",
       " 'imshow_collection',\n",
       " 'load_sift',\n",
       " 'load_surf',\n",
       " 'manage_plugins',\n",
       " 'plugin_info',\n",
       " 'plugin_order',\n",
       " 'pop',\n",
       " 'push',\n",
       " 'reset_plugins',\n",
       " 'setup',\n",
       " 'show',\n",
       " 'sift',\n",
       " 'use_plugin',\n",
       " 'util']"
      ]
     },
     "execution_count": 107,
     "metadata": {},
     "output_type": "execute_result"
    }
   ],
   "source": [
    "dir(io) # 불러오고 저장하고 등 다 io에 있다."
   ]
  },
  {
   "cell_type": "code",
   "execution_count": 113,
   "metadata": {},
   "outputs": [],
   "source": [
    "img = io.imread('D:/hammer_2.png')"
   ]
  },
  {
   "cell_type": "code",
   "execution_count": 114,
   "metadata": {},
   "outputs": [
    {
     "data": {
      "text/plain": [
       "(512, 512, 4)"
      ]
     },
     "execution_count": 114,
     "metadata": {},
     "output_type": "execute_result"
    }
   ],
   "source": [
    "img.shape"
   ]
  },
  {
   "cell_type": "code",
   "execution_count": 116,
   "metadata": {
    "scrolled": true
   },
   "outputs": [
    {
     "data": {
      "text/plain": [
       "<matplotlib.image.AxesImage at 0x2023c756348>"
      ]
     },
     "execution_count": 116,
     "metadata": {},
     "output_type": "execute_result"
    },
    {
     "data": {
      "image/png": "[encoded data removed]",
      "text/plain": [
       "<Figure size 432x288 with 1 Axes>"
      ]
     },
     "metadata": {
      "needs_background": "light"
     },
     "output_type": "display_data"
    }
   ],
   "source": [
    "import matplotlib.pyplot as plt\n",
    "\n",
    "plt.imshow(img)"
   ]
  },
  {
   "cell_type": "code",
   "execution_count": 123,
   "metadata": {},
   "outputs": [],
   "source": [
    "a, b, c, d = img[:, :, 0], img[:, :, 1], img[:, :, 2], img[:, :, 3]"
   ]
  },
  {
   "cell_type": "code",
   "execution_count": 132,
   "metadata": {
    "scrolled": true
   },
   "outputs": [
    {
     "data": {
      "text/plain": [
       "<matplotlib.image.AxesImage at 0x2023e2a99c8>"
      ]
     },
     "execution_count": 132,
     "metadata": {},
     "output_type": "execute_result"
    },
    {
     "data": {
      "image/png": "[encoded data removed]",
      "text/plain": [
       "<Figure size 432x288 with 1 Axes>"
      ]
     },
     "metadata": {
      "needs_background": "light"
     },
     "output_type": "display_data"
    }
   ],
   "source": [
    "plt.imshow(d) # 네번째에 있다."
   ]
  },
  {
   "cell_type": "code",
   "execution_count": 184,
   "metadata": {},
   "outputs": [],
   "source": [
    "cv_img = cv2.imread('C:/aaa.png')"
   ]
  },
  {
   "cell_type": "code",
   "execution_count": 158,
   "metadata": {},
   "outputs": [
    {
     "data": {
      "text/plain": [
       "3"
      ]
     },
     "execution_count": 158,
     "metadata": {},
     "output_type": "execute_result"
    }
   ],
   "source": [
    "cv2.COLOR_RGBA2BGR"
   ]
  },
  {
   "cell_type": "code",
   "execution_count": 190,
   "metadata": {},
   "outputs": [],
   "source": [
    "cv_img2 = cv2.cvtColor(cv_img, cv2.COLOR_RGBA2BGR)"
   ]
  },
  {
   "cell_type": "code",
   "execution_count": 191,
   "metadata": {
    "scrolled": true
   },
   "outputs": [
    {
     "data": {
      "text/plain": [
       "(217, 194, 3)"
      ]
     },
     "execution_count": 191,
     "metadata": {},
     "output_type": "execute_result"
    }
   ],
   "source": [
    "cv_img2.shape"
   ]
  },
  {
   "cell_type": "code",
   "execution_count": 192,
   "metadata": {
    "scrolled": true
   },
   "outputs": [
    {
     "data": {
      "text/plain": [
       "<matplotlib.image.AxesImage at 0x2023f115a88>"
      ]
     },
     "execution_count": 192,
     "metadata": {},
     "output_type": "execute_result"
    },
    {
     "data": {
      "image/png": "[encoded data removed]",
      "text/plain": [
       "<Figure size 432x288 with 1 Axes>"
      ]
     },
     "metadata": {
      "needs_background": "light"
     },
     "output_type": "display_data"
    }
   ],
   "source": [
    "plt.imshow(cv_img2)"
   ]
  },
  {
   "cell_type": "code",
   "execution_count": 196,
   "metadata": {
    "scrolled": true
   },
   "outputs": [
    {
     "data": {
      "text/plain": [
       "['__add__',\n",
       " '__class__',\n",
       " '__contains__',\n",
       " '__delattr__',\n",
       " '__dir__',\n",
       " '__doc__',\n",
       " '__eq__',\n",
       " '__format__',\n",
       " '__ge__',\n",
       " '__getattribute__',\n",
       " '__getitem__',\n",
       " '__getnewargs__',\n",
       " '__gt__',\n",
       " '__hash__',\n",
       " '__init__',\n",
       " '__init_subclass__',\n",
       " '__iter__',\n",
       " '__le__',\n",
       " '__len__',\n",
       " '__lt__',\n",
       " '__mod__',\n",
       " '__mul__',\n",
       " '__ne__',\n",
       " '__new__',\n",
       " '__reduce__',\n",
       " '__reduce_ex__',\n",
       " '__repr__',\n",
       " '__rmod__',\n",
       " '__rmul__',\n",
       " '__setattr__',\n",
       " '__sizeof__',\n",
       " '__str__',\n",
       " '__subclasshook__',\n",
       " 'capitalize',\n",
       " 'casefold',\n",
       " 'center',\n",
       " 'count',\n",
       " 'encode',\n",
       " 'endswith',\n",
       " 'expandtabs',\n",
       " 'find',\n",
       " 'format',\n",
       " 'format_map',\n",
       " 'index',\n",
       " 'isalnum',\n",
       " 'isalpha',\n",
       " 'isascii',\n",
       " 'isdecimal',\n",
       " 'isdigit',\n",
       " 'isidentifier',\n",
       " 'islower',\n",
       " 'isnumeric',\n",
       " 'isprintable',\n",
       " 'isspace',\n",
       " 'istitle',\n",
       " 'isupper',\n",
       " 'join',\n",
       " 'ljust',\n",
       " 'lower',\n",
       " 'lstrip',\n",
       " 'maketrans',\n",
       " 'partition',\n",
       " 'replace',\n",
       " 'rfind',\n",
       " 'rindex',\n",
       " 'rjust',\n",
       " 'rpartition',\n",
       " 'rsplit',\n",
       " 'rstrip',\n",
       " 'split',\n",
       " 'splitlines',\n",
       " 'startswith',\n",
       " 'strip',\n",
       " 'swapcase',\n",
       " 'title',\n",
       " 'translate',\n",
       " 'upper',\n",
       " 'zfill']"
      ]
     },
     "execution_count": 196,
     "metadata": {},
     "output_type": "execute_result"
    }
   ],
   "source": [
    "from skimage import data, data_dir\n",
    "dir(data_dir) # string하고 비슷하다."
   ]
  },
  {
   "cell_type": "code",
   "execution_count": 202,
   "metadata": {
    "scrolled": true
   },
   "outputs": [
    {
     "data": {
      "text/plain": [
       "'C:\\\\Users\\\\white\\\\Anaconda3\\\\envs\\\\tf2.0-gpu\\\\lib\\\\site-packages\\\\skimage\\\\data'"
      ]
     },
     "execution_count": 202,
     "metadata": {},
     "output_type": "execute_result"
    }
   ],
   "source": [
    "data_dir # 연습용 데이터가 있다."
   ]
  },
  {
   "cell_type": "markdown",
   "metadata": {},
   "source": [
    "사이킷 이미지는 갤러리 가서 공부하는 것이다."
   ]
  },
  {
   "cell_type": "code",
   "execution_count": null,
   "metadata": {},
   "outputs": [],
   "source": [
    "# from skimage.color import "
   ]
  },
  {
   "cell_type": "markdown",
   "metadata": {},
   "source": [
    "사이킷 이미지의 필터는 데코레이터를 이용해서 할 수 있다."
   ]
  }
 ],
 "metadata": {
  "kernelspec": {
   "display_name": "Tensorflow2.0-GPU",
   "language": "python",
   "name": "tf2.0-gpu"
  },
  "language_info": {
   "codemirror_mode": {
    "name": "ipython",
    "version": 3
   },
   "file_extension": ".py",
   "mimetype": "text/x-python",
   "name": "python",
   "nbconvert_exporter": "python",
   "pygments_lexer": "ipython3",
   "version": "3.7.5"
  }
 },
 "nbformat": 4,
 "nbformat_minor": 2
}
