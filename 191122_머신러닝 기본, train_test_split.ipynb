{
 "cells": [
  {
   "cell_type": "markdown",
   "metadata": {},
   "source": [
    "## 기본 개념\n",
    "\n",
    "마스터 알고리즘, 생각에 대한 생각 책 보자.\n",
    "\n",
    "요즘에는 무조건 앙상블 시킨다. 머신러닝은 정확하게 성능측정할 수 없다. 어떤 데이터에서 어떤 메드릭을 측정했을 때, 정확도나 F1-score가 얼마가 나왔다고 씨부려야 한다.\n",
    "\n",
    "- linear vs nonlinear: 뭐가 더 좋냐? 상황에 따라 다르다. 곡선이 더 세분하게 찾을 수 있으나, 데이터가 많이 든다. 곡선은 또 설명하기 어렵다. 통계족은 근데 설명이 중요하기 때문에 리니어 모델을 많이 쓴다. 통계쪽 사람들이 주장하는 것은 세상의 기반에는 리니어가 기반이 되어 있다는 것이다. 복잡한 법칙 안에는 단순한 법칙들이 숨어있다고 믿는다.\n",
    "- blackbos vs descriptive\n",
    "- First-principle vs data-driven\n",
    "- Stochastic vs deterministic\n",
    "- flatten vs hierachical(중첩): stacking이 대표적으로 하이어라키이다. \n",
    "\n",
    "딥러닝은 논리니어, 블랙박스, 데이터 드리븐, 스토캐스틱(초기화 할때 랜덤), 하이어라키.\n",
    "\n",
    "기계학습은 알고리즘 선택이 중요하고, 딥러닝은 층짜는 것이 중요하다."
   ]
  },
  {
   "cell_type": "markdown",
   "metadata": {},
   "source": [
    "## 강한 인공지능 vs 약한 인공지능\n",
    "\n",
    "강한 인공지능은 모든걸 해결할 수 있다는 것이고, 약한 인공지능은 일부만 해결할 수 있다는 것.\n",
    "\n",
    "우린 표본을 가지고 해야 하는데, 이 표본은 대표성을 가지고 있어야 한다. 데이터는 많을 수록 좋다 (큰수의 법칙)\n",
    "\n",
    "자연현상들은 대부분 정규분포를 띈다.\n",
    "\n",
    "----\n",
    "\n",
    "하이퍼파라미터는 자기 스스로 학습할 수 없는 애다. 똑같은 데이터 성능 높이기 위해 1. 알고리즘 + 하이퍼파라미터 튜닝까지 다 해야 한다."
   ]
  },
  {
   "cell_type": "markdown",
   "metadata": {},
   "source": [
    "## 최적의 성능\n",
    "\n",
    "자연어처리에서는 accuracy를 말하는 순간 사기꾼이다. 영상처리에서는 또 다른 척도를 쓴다.\n",
    "\n",
    "일반덕으로 최적의 성능이라고 하면, 한번도 없는 unseen 데이터에서도 일반화 되면 최적의 성능이라고 한다.\n",
    "\n",
    "오버피팅이 되면, varience가 크다고 한다. 이건 아주 민감하다. varience가 큰 모델을 오버피팅된다고 한다.\n",
    "\n",
    "---\n",
    "\n",
    "오버피팅은 학습데이터에서 성능좋고, 테스트데이터에서 성능 나쁘면 오버피팅 됬다고 하는데, 일부만 맞는 이야기이다.\n",
    "\n",
    "근데 일반화 시킬 필요가 없는 애들은, 오버피팅 해도 된다. (서울대 자율주행차)\n",
    "\n",
    "---\n",
    "\n",
    "바이어스와 베리언스는 trade-off 관계에 있다. 딥러닝은 오버피팅이 엄청 잘난다. 레이터 4개만 되어도 오버피팅이 난다. 그래서 딥러닝이 발전을 못하고 있었다. activation으로 렐루를 쓰면 오버피팅을 약간 해결할 수 있다.\n",
    "\n",
    "오버피팅을 해결하는 방법\n",
    "1. 데이터 무조건 많이 모은다.\n",
    "\n"
   ]
  },
  {
   "cell_type": "markdown",
   "metadata": {},
   "source": [
    "자동차앞에 3명 애가 뛰어들면, 자율주행차가 뛰어들게 할 것이냐 그냥 쳐 버릴 것인가? -> 이런 문제도 생길 수 있다.\n",
    "\n",
    "대표성 품질성"
   ]
  },
  {
   "cell_type": "markdown",
   "metadata": {},
   "source": [
    "## 품질에 대해서\n",
    "\n",
    "노멀라이제이션, 스탠다드제이션, 어노테이션... 뭐징\n",
    "\n",
    "no free lunch theorm..."
   ]
  },
  {
   "cell_type": "markdown",
   "metadata": {},
   "source": [
    "## 데이터 중복에 대해 (복원/비복원)\n",
    "\n",
    "중복은 왠만하면 피해야 하는데, 데이터가 너무 작다면 중복 해야 할수도 있다.\n",
    "\n",
    "부스팅은 성능은 좋아지지만, 오버피팅 되는 경우가 생긴다."
   ]
  },
  {
   "cell_type": "code",
   "execution_count": 1,
   "metadata": {},
   "outputs": [],
   "source": [
    "import seaborn as sns\n",
    "\n",
    "mpg = sns.load_dataset('mpg')"
   ]
  },
  {
   "cell_type": "code",
   "execution_count": 3,
   "metadata": {},
   "outputs": [
    {
     "data": {
      "text/plain": [
       "array([[18.0, 8, 307.0, ..., 70, 'usa', 'chevrolet chevelle malibu'],\n",
       "       [15.0, 8, 350.0, ..., 70, 'usa', 'buick skylark 320'],\n",
       "       [18.0, 8, 318.0, ..., 70, 'usa', 'plymouth satellite'],\n",
       "       ...,\n",
       "       [32.0, 4, 135.0, ..., 82, 'usa', 'dodge rampage'],\n",
       "       [28.0, 4, 120.0, ..., 82, 'usa', 'ford ranger'],\n",
       "       [31.0, 4, 119.0, ..., 82, 'usa', 'chevy s-10']], dtype=object)"
      ]
     },
     "execution_count": 3,
     "metadata": {},
     "output_type": "execute_result"
    }
   ],
   "source": [
    "mpg.values # 모두 넘파이 배열로 바뀐다."
   ]
  },
  {
   "cell_type": "code",
   "execution_count": 11,
   "metadata": {
    "scrolled": true
   },
   "outputs": [
    {
     "name": "stdout",
     "output_type": "stream",
     "text": [
      "<class 'pandas.core.frame.DataFrame'>\n",
      "RangeIndex: 398 entries, 0 to 397\n",
      "Data columns (total 9 columns):\n",
      "mpg             398 non-null float64\n",
      "cylinders       398 non-null int64\n",
      "displacement    398 non-null float64\n",
      "horsepower      392 non-null float64\n",
      "weight          398 non-null int64\n",
      "acceleration    398 non-null float64\n",
      "model_year      398 non-null int64\n",
      "origin          398 non-null object\n",
      "name            398 non-null object\n",
      "dtypes: float64(4), int64(3), object(2)\n",
      "memory usage: 28.1+ KB\n"
     ]
    }
   ],
   "source": [
    "# ★★★★★\n",
    "mpg.info() # 결측치 찾아줄 때 좋다. 사이킷에서는 미싱밸류 학습시키면 애러가 난다. 텐서플로에서는 학습이 안 된다."
   ]
  },
  {
   "cell_type": "markdown",
   "metadata": {},
   "source": [
    "missing value는 숨어있는 분포 찾아내면 된다. 가장 쉬운 방법은 평균 집어 넣으면 된다. 그러면 분포에 무조건 들어간다. knn으로 찾기도 한다. 근처에 있는 애 찾아서 대체시키면 된다.\n",
    "\n",
    "우리가 가진 데이터는 1. 대표성을 띈다. 가정이 틀려버리면 편향을 가진 거다. 2. 편향\n",
    "\n",
    "결측치를 채워넣는 방법을 imputer라고 한다. ★★★\n",
    "\n",
    "10에 7은 결측치가 모델에 들어가서 생기는 문제들이다. 그래서 결측치를 해결해 줘야 한다."
   ]
  },
  {
   "cell_type": "code",
   "execution_count": 15,
   "metadata": {
    "scrolled": true
   },
   "outputs": [
    {
     "data": {
      "text/html": [
       "<div>\n",
       "<style scoped>\n",
       "    .dataframe tbody tr th:only-of-type {\n",
       "        vertical-align: middle;\n",
       "    }\n",
       "\n",
       "    .dataframe tbody tr th {\n",
       "        vertical-align: top;\n",
       "    }\n",
       "\n",
       "    .dataframe thead th {\n",
       "        text-align: right;\n",
       "    }\n",
       "</style>\n",
       "<table border=\"1\" class=\"dataframe\">\n",
       "  <thead>\n",
       "    <tr style=\"text-align: right;\">\n",
       "      <th></th>\n",
       "      <th>mpg</th>\n",
       "      <th>cylinders</th>\n",
       "      <th>displacement</th>\n",
       "      <th>horsepower</th>\n",
       "      <th>weight</th>\n",
       "      <th>acceleration</th>\n",
       "      <th>model_year</th>\n",
       "      <th>origin</th>\n",
       "      <th>name</th>\n",
       "    </tr>\n",
       "  </thead>\n",
       "  <tbody>\n",
       "    <tr>\n",
       "      <th>0</th>\n",
       "      <td>18.0</td>\n",
       "      <td>8</td>\n",
       "      <td>307.0</td>\n",
       "      <td>130.0</td>\n",
       "      <td>3504</td>\n",
       "      <td>12.0</td>\n",
       "      <td>70</td>\n",
       "      <td>usa</td>\n",
       "      <td>chevrolet chevelle malibu</td>\n",
       "    </tr>\n",
       "    <tr>\n",
       "      <th>1</th>\n",
       "      <td>15.0</td>\n",
       "      <td>8</td>\n",
       "      <td>350.0</td>\n",
       "      <td>165.0</td>\n",
       "      <td>3693</td>\n",
       "      <td>11.5</td>\n",
       "      <td>70</td>\n",
       "      <td>usa</td>\n",
       "      <td>buick skylark 320</td>\n",
       "    </tr>\n",
       "    <tr>\n",
       "      <th>2</th>\n",
       "      <td>18.0</td>\n",
       "      <td>8</td>\n",
       "      <td>318.0</td>\n",
       "      <td>150.0</td>\n",
       "      <td>3436</td>\n",
       "      <td>11.0</td>\n",
       "      <td>70</td>\n",
       "      <td>usa</td>\n",
       "      <td>plymouth satellite</td>\n",
       "    </tr>\n",
       "    <tr>\n",
       "      <th>3</th>\n",
       "      <td>16.0</td>\n",
       "      <td>8</td>\n",
       "      <td>304.0</td>\n",
       "      <td>150.0</td>\n",
       "      <td>3433</td>\n",
       "      <td>12.0</td>\n",
       "      <td>70</td>\n",
       "      <td>usa</td>\n",
       "      <td>amc rebel sst</td>\n",
       "    </tr>\n",
       "    <tr>\n",
       "      <th>4</th>\n",
       "      <td>17.0</td>\n",
       "      <td>8</td>\n",
       "      <td>302.0</td>\n",
       "      <td>140.0</td>\n",
       "      <td>3449</td>\n",
       "      <td>10.5</td>\n",
       "      <td>70</td>\n",
       "      <td>usa</td>\n",
       "      <td>ford torino</td>\n",
       "    </tr>\n",
       "    <tr>\n",
       "      <th>...</th>\n",
       "      <td>...</td>\n",
       "      <td>...</td>\n",
       "      <td>...</td>\n",
       "      <td>...</td>\n",
       "      <td>...</td>\n",
       "      <td>...</td>\n",
       "      <td>...</td>\n",
       "      <td>...</td>\n",
       "      <td>...</td>\n",
       "    </tr>\n",
       "    <tr>\n",
       "      <th>393</th>\n",
       "      <td>27.0</td>\n",
       "      <td>4</td>\n",
       "      <td>140.0</td>\n",
       "      <td>86.0</td>\n",
       "      <td>2790</td>\n",
       "      <td>15.6</td>\n",
       "      <td>82</td>\n",
       "      <td>usa</td>\n",
       "      <td>ford mustang gl</td>\n",
       "    </tr>\n",
       "    <tr>\n",
       "      <th>394</th>\n",
       "      <td>44.0</td>\n",
       "      <td>4</td>\n",
       "      <td>97.0</td>\n",
       "      <td>52.0</td>\n",
       "      <td>2130</td>\n",
       "      <td>24.6</td>\n",
       "      <td>82</td>\n",
       "      <td>europe</td>\n",
       "      <td>vw pickup</td>\n",
       "    </tr>\n",
       "    <tr>\n",
       "      <th>395</th>\n",
       "      <td>32.0</td>\n",
       "      <td>4</td>\n",
       "      <td>135.0</td>\n",
       "      <td>84.0</td>\n",
       "      <td>2295</td>\n",
       "      <td>11.6</td>\n",
       "      <td>82</td>\n",
       "      <td>usa</td>\n",
       "      <td>dodge rampage</td>\n",
       "    </tr>\n",
       "    <tr>\n",
       "      <th>396</th>\n",
       "      <td>28.0</td>\n",
       "      <td>4</td>\n",
       "      <td>120.0</td>\n",
       "      <td>79.0</td>\n",
       "      <td>2625</td>\n",
       "      <td>18.6</td>\n",
       "      <td>82</td>\n",
       "      <td>usa</td>\n",
       "      <td>ford ranger</td>\n",
       "    </tr>\n",
       "    <tr>\n",
       "      <th>397</th>\n",
       "      <td>31.0</td>\n",
       "      <td>4</td>\n",
       "      <td>119.0</td>\n",
       "      <td>82.0</td>\n",
       "      <td>2720</td>\n",
       "      <td>19.4</td>\n",
       "      <td>82</td>\n",
       "      <td>usa</td>\n",
       "      <td>chevy s-10</td>\n",
       "    </tr>\n",
       "  </tbody>\n",
       "</table>\n",
       "<p>398 rows × 9 columns</p>\n",
       "</div>"
      ],
      "text/plain": [
       "      mpg  cylinders  displacement  horsepower  weight  acceleration  \\\n",
       "0    18.0          8         307.0       130.0    3504          12.0   \n",
       "1    15.0          8         350.0       165.0    3693          11.5   \n",
       "2    18.0          8         318.0       150.0    3436          11.0   \n",
       "3    16.0          8         304.0       150.0    3433          12.0   \n",
       "4    17.0          8         302.0       140.0    3449          10.5   \n",
       "..    ...        ...           ...         ...     ...           ...   \n",
       "393  27.0          4         140.0        86.0    2790          15.6   \n",
       "394  44.0          4          97.0        52.0    2130          24.6   \n",
       "395  32.0          4         135.0        84.0    2295          11.6   \n",
       "396  28.0          4         120.0        79.0    2625          18.6   \n",
       "397  31.0          4         119.0        82.0    2720          19.4   \n",
       "\n",
       "     model_year  origin                       name  \n",
       "0            70     usa  chevrolet chevelle malibu  \n",
       "1            70     usa          buick skylark 320  \n",
       "2            70     usa         plymouth satellite  \n",
       "3            70     usa              amc rebel sst  \n",
       "4            70     usa                ford torino  \n",
       "..          ...     ...                        ...  \n",
       "393          82     usa            ford mustang gl  \n",
       "394          82  europe                  vw pickup  \n",
       "395          82     usa              dodge rampage  \n",
       "396          82     usa                ford ranger  \n",
       "397          82     usa                 chevy s-10  \n",
       "\n",
       "[398 rows x 9 columns]"
      ]
     },
     "execution_count": 15,
     "metadata": {},
     "output_type": "execute_result"
    }
   ],
   "source": [
    "from sklearn.preprocessing import Imputer # 사이킷런 임퓨터\n",
    "mpg.fillna(method = 'backfill') # 판다스 임퓨터"
   ]
  },
  {
   "cell_type": "code",
   "execution_count": 4,
   "metadata": {
    "scrolled": true
   },
   "outputs": [
    {
     "data": {
      "text/plain": [
       "<matplotlib.axes._subplots.AxesSubplot at 0x2690d30bc48>"
      ]
     },
     "execution_count": 4,
     "metadata": {},
     "output_type": "execute_result"
    },
    {
     "data": {
      "image/png": "[encoded data removed]",
      "text/plain": [
       "<Figure size 432x288 with 1 Axes>"
      ]
     },
     "metadata": {
      "needs_background": "light"
     },
     "output_type": "display_data"
    }
   ],
   "source": [
    "mpg.boxplot() # weight가 너무 커서 영향을 많이 미칠 가능성이 있다. boxplot 그리는 이유 중 하나! ★★★\n",
    "# 우리는 딥러닝 쓸거고, 그러면 지가 알아서 범위를 바꿔준다. 전통적인 머신러닝에서는 안되는 경우가 많다."
   ]
  },
  {
   "cell_type": "code",
   "execution_count": 5,
   "metadata": {},
   "outputs": [],
   "source": [
    "from sklearn.preprocessing import MinMaxScaler, StandardScaler # 클래스이다 (카멜방식)\n",
    "# 둘다 쓴다. VGG16에서 스탠다스 스케일러 쓰면 학습속도 향상된다."
   ]
  },
  {
   "cell_type": "code",
   "execution_count": 6,
   "metadata": {
    "collapsed": true
   },
   "outputs": [
    {
     "data": {
      "text/plain": [
       "array([[0.2393617 ],\n",
       "       [0.15957447],\n",
       "       [0.2393617 ],\n",
       "       [0.18617021],\n",
       "       [0.21276596],\n",
       "       [0.15957447],\n",
       "       [0.13297872],\n",
       "       [0.13297872],\n",
       "       [0.13297872],\n",
       "       [0.15957447],\n",
       "       [0.15957447],\n",
       "       [0.13297872],\n",
       "       [0.15957447],\n",
       "       [0.13297872],\n",
       "       [0.39893617],\n",
       "       [0.34574468],\n",
       "       [0.2393617 ],\n",
       "       [0.31914894],\n",
       "       [0.4787234 ],\n",
       "       [0.45212766],\n",
       "       [0.42553191],\n",
       "       [0.39893617],\n",
       "       [0.42553191],\n",
       "       [0.45212766],\n",
       "       [0.31914894],\n",
       "       [0.02659574],\n",
       "       [0.02659574],\n",
       "       [0.05319149],\n",
       "       [0.        ],\n",
       "       [0.4787234 ],\n",
       "       [0.50531915],\n",
       "       [0.42553191],\n",
       "       [0.42553191],\n",
       "       [0.26595745],\n",
       "       [0.18617021],\n",
       "       [0.21276596],\n",
       "       [0.26595745],\n",
       "       [0.2393617 ],\n",
       "       [0.13297872],\n",
       "       [0.13297872],\n",
       "       [0.13297872],\n",
       "       [0.13297872],\n",
       "       [0.07978723],\n",
       "       [0.10638298],\n",
       "       [0.10638298],\n",
       "       [0.2393617 ],\n",
       "       [0.34574468],\n",
       "       [0.26595745],\n",
       "       [0.2393617 ],\n",
       "       [0.37234043],\n",
       "       [0.50531915],\n",
       "       [0.55851064],\n",
       "       [0.55851064],\n",
       "       [0.58510638],\n",
       "       [0.69148936],\n",
       "       [0.4787234 ],\n",
       "       [0.45212766],\n",
       "       [0.39893617],\n",
       "       [0.42553191],\n",
       "       [0.37234043],\n",
       "       [0.29255319],\n",
       "       [0.31914894],\n",
       "       [0.10638298],\n",
       "       [0.13297872],\n",
       "       [0.15957447],\n",
       "       [0.13297872],\n",
       "       [0.21276596],\n",
       "       [0.05319149],\n",
       "       [0.10638298],\n",
       "       [0.07978723],\n",
       "       [0.10638298],\n",
       "       [0.26595745],\n",
       "       [0.15957447],\n",
       "       [0.10638298],\n",
       "       [0.10638298],\n",
       "       [0.13297872],\n",
       "       [0.2393617 ],\n",
       "       [0.34574468],\n",
       "       [0.31914894],\n",
       "       [0.45212766],\n",
       "       [0.34574468],\n",
       "       [0.50531915],\n",
       "       [0.37234043],\n",
       "       [0.50531915],\n",
       "       [0.4787234 ],\n",
       "       [0.10638298],\n",
       "       [0.13297872],\n",
       "       [0.10638298],\n",
       "       [0.13297872],\n",
       "       [0.15957447],\n",
       "       [0.07978723],\n",
       "       [0.10638298],\n",
       "       [0.10638298],\n",
       "       [0.13297872],\n",
       "       [0.10638298],\n",
       "       [0.07978723],\n",
       "       [0.10638298],\n",
       "       [0.2393617 ],\n",
       "       [0.18617021],\n",
       "       [0.2393617 ],\n",
       "       [0.2393617 ],\n",
       "       [0.37234043],\n",
       "       [0.45212766],\n",
       "       [0.05319149],\n",
       "       [0.07978723],\n",
       "       [0.10638298],\n",
       "       [0.07978723],\n",
       "       [0.2393617 ],\n",
       "       [0.29255319],\n",
       "       [0.31914894],\n",
       "       [0.34574468],\n",
       "       [0.2393617 ],\n",
       "       [0.26595745],\n",
       "       [0.31914894],\n",
       "       [0.45212766],\n",
       "       [0.15957447],\n",
       "       [0.18617021],\n",
       "       [0.53191489],\n",
       "       [0.39893617],\n",
       "       [0.29255319],\n",
       "       [0.26595745],\n",
       "       [0.15957447],\n",
       "       [0.39893617],\n",
       "       [0.29255319],\n",
       "       [0.05319149],\n",
       "       [0.29255319],\n",
       "       [0.31914894],\n",
       "       [0.26595745],\n",
       "       [0.15957447],\n",
       "       [0.58510638],\n",
       "       [0.45212766],\n",
       "       [0.61170213],\n",
       "       [0.42553191],\n",
       "       [0.18617021],\n",
       "       [0.18617021],\n",
       "       [0.2393617 ],\n",
       "       [0.18617021],\n",
       "       [0.10638298],\n",
       "       [0.13297872],\n",
       "       [0.13297872],\n",
       "       [0.13297872],\n",
       "       [0.53191489],\n",
       "       [0.45212766],\n",
       "       [0.45212766],\n",
       "       [0.58510638],\n",
       "       [0.61170213],\n",
       "       [0.50531915],\n",
       "       [0.39893617],\n",
       "       [0.45212766],\n",
       "       [0.39893617],\n",
       "       [0.45212766],\n",
       "       [0.58510638],\n",
       "       [0.26595745],\n",
       "       [0.2393617 ],\n",
       "       [0.15957447],\n",
       "       [0.15957447],\n",
       "       [0.18617021],\n",
       "       [0.15957447],\n",
       "       [0.18617021],\n",
       "       [0.13297872],\n",
       "       [0.21276596],\n",
       "       [0.18617021],\n",
       "       [0.15957447],\n",
       "       [0.2393617 ],\n",
       "       [0.31914894],\n",
       "       [0.29255319],\n",
       "       [0.10638298],\n",
       "       [0.53191489],\n",
       "       [0.37234043],\n",
       "       [0.29255319],\n",
       "       [0.37234043],\n",
       "       [0.39893617],\n",
       "       [0.42553191],\n",
       "       [0.39893617],\n",
       "       [0.2393617 ],\n",
       "       [0.53191489],\n",
       "       [0.26595745],\n",
       "       [0.37234043],\n",
       "       [0.37234043],\n",
       "       [0.34574468],\n",
       "       [0.42553191],\n",
       "       [0.63829787],\n",
       "       [0.50531915],\n",
       "       [0.42553191],\n",
       "       [0.42553191],\n",
       "       [0.45212766],\n",
       "       [0.4787234 ],\n",
       "       [0.22606383],\n",
       "       [0.18617021],\n",
       "       [0.17287234],\n",
       "       [0.1462766 ],\n",
       "       [0.34574468],\n",
       "       [0.34574468],\n",
       "       [0.39893617],\n",
       "       [0.35904255],\n",
       "       [0.53191489],\n",
       "       [0.41223404],\n",
       "       [0.53191489],\n",
       "       [0.63829787],\n",
       "       [0.29255319],\n",
       "       [0.2393617 ],\n",
       "       [0.25265957],\n",
       "       [0.22606383],\n",
       "       [0.54521277],\n",
       "       [0.61170213],\n",
       "       [0.50531915],\n",
       "       [0.46542553],\n",
       "       [0.29255319],\n",
       "       [0.10638298],\n",
       "       [0.26595745],\n",
       "       [0.26595745],\n",
       "       [0.19946809],\n",
       "       [0.19946809],\n",
       "       [0.10638298],\n",
       "       [0.10638298],\n",
       "       [0.10638298],\n",
       "       [0.59840426],\n",
       "       [0.55851064],\n",
       "       [0.71808511],\n",
       "       [0.43882979],\n",
       "       [0.65159574],\n",
       "       [0.22606383],\n",
       "       [0.21276596],\n",
       "       [0.17287234],\n",
       "       [0.15957447],\n",
       "       [0.22606383],\n",
       "       [0.30585106],\n",
       "       [0.26595745],\n",
       "       [0.25265957],\n",
       "       [0.18617021],\n",
       "       [0.17287234],\n",
       "       [0.17287234],\n",
       "       [0.18617021],\n",
       "       [0.53191489],\n",
       "       [0.41223404],\n",
       "       [0.45212766],\n",
       "       [0.43882979],\n",
       "       [0.57180851],\n",
       "       [0.65159574],\n",
       "       [0.55851064],\n",
       "       [0.57180851],\n",
       "       [0.34574468],\n",
       "       [0.33244681],\n",
       "       [0.33244681],\n",
       "       [0.90691489],\n",
       "       [0.72074468],\n",
       "       [0.63297872],\n",
       "       [0.80851064],\n",
       "       [0.72074468],\n",
       "       [0.28989362],\n",
       "       [0.27659574],\n",
       "       [0.29787234],\n",
       "       [0.2712766 ],\n",
       "       [0.30585106],\n",
       "       [0.29787234],\n",
       "       [0.42819149],\n",
       "       [0.30585106],\n",
       "       [0.27659574],\n",
       "       [0.30851064],\n",
       "       [0.31382979],\n",
       "       [0.25531915],\n",
       "       [0.24202128],\n",
       "       [0.2712766 ],\n",
       "       [0.23138298],\n",
       "       [0.24202128],\n",
       "       [0.22606383],\n",
       "       [0.55851064],\n",
       "       [0.49202128],\n",
       "       [0.48404255],\n",
       "       [0.58244681],\n",
       "       [0.32180851],\n",
       "       [0.37765957],\n",
       "       [0.39361702],\n",
       "       [0.3962766 ],\n",
       "       [0.30053191],\n",
       "       [0.21276596],\n",
       "       [0.33510638],\n",
       "       [0.19148936],\n",
       "       [0.59840426],\n",
       "       [0.54521277],\n",
       "       [0.33244681],\n",
       "       [0.28723404],\n",
       "       [0.3537234 ],\n",
       "       [0.29787234],\n",
       "       [0.30851064],\n",
       "       [0.21276596],\n",
       "       [0.2287234 ],\n",
       "       [0.19946809],\n",
       "       [0.24468085],\n",
       "       [0.21010638],\n",
       "       [0.17287234],\n",
       "       [0.2712766 ],\n",
       "       [0.25265957],\n",
       "       [0.60904255],\n",
       "       [0.66755319],\n",
       "       [0.71010638],\n",
       "       [0.4893617 ],\n",
       "       [0.43617021],\n",
       "       [0.37234043],\n",
       "       [0.48404255],\n",
       "       [0.3962766 ],\n",
       "       [0.67021277],\n",
       "       [0.67819149],\n",
       "       [0.60638298],\n",
       "       [0.75265957],\n",
       "       [0.51595745],\n",
       "       [0.52659574],\n",
       "       [0.47340426],\n",
       "       [0.65159574],\n",
       "       [0.8643617 ],\n",
       "       [0.77393617],\n",
       "       [0.6143617 ],\n",
       "       [0.75      ],\n",
       "       [0.50531915],\n",
       "       [0.46276596],\n",
       "       [0.40691489],\n",
       "       [0.26861702],\n",
       "       [0.67287234],\n",
       "       [0.55319149],\n",
       "       [0.59308511],\n",
       "       [0.74468085],\n",
       "       [0.61702128],\n",
       "       [1.        ],\n",
       "       [0.50265957],\n",
       "       [0.84574468],\n",
       "       [0.93882979],\n",
       "       [0.91489362],\n",
       "       [0.7287234 ],\n",
       "       [0.55851064],\n",
       "       [0.94680851],\n",
       "       [0.84840426],\n",
       "       [0.65957447],\n",
       "       [0.55319149],\n",
       "       [0.63031915],\n",
       "       [0.39095745],\n",
       "       [0.69148936],\n",
       "       [0.38829787],\n",
       "       [0.62234043],\n",
       "       [0.48404255],\n",
       "       [0.46808511],\n",
       "       [0.44680851],\n",
       "       [0.3856383 ],\n",
       "       [0.55851064],\n",
       "       [0.80053191],\n",
       "       [0.79787234],\n",
       "       [0.69414894],\n",
       "       [0.61968085],\n",
       "       [0.74468085],\n",
       "       [0.76329787],\n",
       "       [0.66755319],\n",
       "       [0.68351064],\n",
       "       [0.67553191],\n",
       "       [0.55585106],\n",
       "       [0.63829787],\n",
       "       [0.67819149],\n",
       "       [0.65691489],\n",
       "       [0.62234043],\n",
       "       [0.6356383 ],\n",
       "       [0.60106383],\n",
       "       [0.50797872],\n",
       "       [0.57712766],\n",
       "       [0.43617021],\n",
       "       [0.40425532],\n",
       "       [0.35638298],\n",
       "       [0.46808511],\n",
       "       [0.29787234],\n",
       "       [0.2287234 ],\n",
       "       [0.50531915],\n",
       "       [0.4787234 ],\n",
       "       [0.66489362],\n",
       "       [0.58510638],\n",
       "       [0.53191489],\n",
       "       [0.4787234 ],\n",
       "       [0.39893617],\n",
       "       [0.37234043],\n",
       "       [0.71808511],\n",
       "       [0.74468085],\n",
       "       [0.58510638],\n",
       "       [0.7712766 ],\n",
       "       [0.71808511],\n",
       "       [0.71808511],\n",
       "       [0.71808511],\n",
       "       [0.66489362],\n",
       "       [0.7712766 ],\n",
       "       [0.61170213],\n",
       "       [0.7712766 ],\n",
       "       [0.42553191],\n",
       "       [0.7712766 ],\n",
       "       [0.45212766],\n",
       "       [0.34574468],\n",
       "       [0.61170213],\n",
       "       [0.71808511],\n",
       "       [0.4787234 ],\n",
       "       [0.4787234 ],\n",
       "       [0.93085106],\n",
       "       [0.61170213],\n",
       "       [0.50531915],\n",
       "       [0.58510638]])"
      ]
     },
     "execution_count": 6,
     "metadata": {},
     "output_type": "execute_result"
    }
   ],
   "source": [
    "mm = MinMaxScaler() # 클래스라서 인스턴스화 했다.\n",
    "mm.fit_transform(mpg[['mpg']]) # fit + transform의 형태이다."
   ]
  },
  {
   "cell_type": "markdown",
   "metadata": {},
   "source": [
    "## 이미지 스탠다드제이션\n",
    "\n",
    "3개 계열이 있다.\n",
    "\n",
    "1. load: 이미지를 로드\n",
    "2. fetch: 데이터가 커서 데이터를 다운받는다 인터넷에서\n",
    "3. make: 랜덤한 데이터를 생성해준다."
   ]
  },
  {
   "cell_type": "code",
   "execution_count": 7,
   "metadata": {},
   "outputs": [],
   "source": [
    "from sklearn.datasets import load_digits"
   ]
  },
  {
   "cell_type": "code",
   "execution_count": 8,
   "metadata": {},
   "outputs": [],
   "source": [
    "data = load_digits()"
   ]
  },
  {
   "cell_type": "code",
   "execution_count": 9,
   "metadata": {},
   "outputs": [
    {
     "data": {
      "text/plain": [
       "['DESCR', 'data', 'images', 'target', 'target_names']"
      ]
     },
     "execution_count": 9,
     "metadata": {},
     "output_type": "execute_result"
    }
   ],
   "source": [
    "dir(data) # dir쓰는 애들은 . 으로 접근할 수 있다."
   ]
  },
  {
   "cell_type": "code",
   "execution_count": 32,
   "metadata": {
    "collapsed": true
   },
   "outputs": [
    {
     "name": "stdout",
     "output_type": "stream",
     "text": [
      ".. _digits_dataset:\n",
      "\n",
      "Optical recognition of handwritten digits dataset\n",
      "--------------------------------------------------\n",
      "\n",
      "**Data Set Characteristics:**\n",
      "\n",
      "    :Number of Instances: 5620\n",
      "    :Number of Attributes: 64\n",
      "    :Attribute Information: 8x8 image of integer pixels in the range 0..16.\n",
      "    :Missing Attribute Values: None\n",
      "    :Creator: E. Alpaydin (alpaydin '@' boun.edu.tr)\n",
      "    :Date: July; 1998\n",
      "\n",
      "This is a copy of the test set of the UCI ML hand-written digits datasets\n",
      "https://archive.ics.uci.edu/ml/datasets/Optical+Recognition+of+Handwritten+Digits\n",
      "\n",
      "The data set contains images of hand-written digits: 10 classes where\n",
      "each class refers to a digit.\n",
      "\n",
      "Preprocessing programs made available by NIST were used to extract\n",
      "normalized bitmaps of handwritten digits from a preprinted form. From a\n",
      "total of 43 people, 30 contributed to the training set and different 13\n",
      "to the test set. 32x32 bitmaps are divided into nonoverlapping blocks of\n",
      "4x4 and the number of on pixels are counted in each block. This generates\n",
      "an input matrix of 8x8 where each element is an integer in the range\n",
      "0..16. This reduces dimensionality and gives invariance to small\n",
      "distortions.\n",
      "\n",
      "For info on NIST preprocessing routines, see M. D. Garris, J. L. Blue, G.\n",
      "T. Candela, D. L. Dimmick, J. Geist, P. J. Grother, S. A. Janet, and C.\n",
      "L. Wilson, NIST Form-Based Handprint Recognition System, NISTIR 5469,\n",
      "1994.\n",
      "\n",
      ".. topic:: References\n",
      "\n",
      "  - C. Kaynak (1995) Methods of Combining Multiple Classifiers and Their\n",
      "    Applications to Handwritten Digit Recognition, MSc Thesis, Institute of\n",
      "    Graduate Studies in Science and Engineering, Bogazici University.\n",
      "  - E. Alpaydin, C. Kaynak (1998) Cascading Classifiers, Kybernetika.\n",
      "  - Ken Tang and Ponnuthurai N. Suganthan and Xi Yao and A. Kai Qin.\n",
      "    Linear dimensionalityreduction using relevance weighted LDA. School of\n",
      "    Electrical and Electronic Engineering Nanyang Technological University.\n",
      "    2005.\n",
      "  - Claudio Gentile. A New Approximate Maximal Margin Classification\n",
      "    Algorithm. NIPS. 2000.\n"
     ]
    }
   ],
   "source": [
    "print(data.DESCR)"
   ]
  },
  {
   "cell_type": "code",
   "execution_count": 10,
   "metadata": {},
   "outputs": [
    {
     "name": "stdout",
     "output_type": "stream",
     "text": [
      "(1797, 8, 8)\n"
     ]
    },
    {
     "data": {
      "text/plain": [
       "<matplotlib.image.AxesImage at 0x26940a07288>"
      ]
     },
     "execution_count": 10,
     "metadata": {},
     "output_type": "execute_result"
    },
    {
     "data": {
      "image/png": "[encoded data removed]",
      "text/plain": [
       "<Figure size 432x288 with 1 Axes>"
      ]
     },
     "metadata": {
      "needs_background": "light"
     },
     "output_type": "display_data"
    }
   ],
   "source": [
    "import matplotlib.pyplot as plt\n",
    "\n",
    "print(data.images.shape)\n",
    "plt.imshow(data.images[2], cmap='gray')"
   ]
  },
  {
   "cell_type": "markdown",
   "metadata": {},
   "source": [
    "다시 mpg 데이터로 돌아가자."
   ]
  },
  {
   "cell_type": "code",
   "execution_count": 11,
   "metadata": {},
   "outputs": [
    {
     "data": {
      "text/plain": [
       "{'algorithm': 'auto',\n",
       " 'leaf_size': 30,\n",
       " 'metric': 'minkowski',\n",
       " 'metric_params': None,\n",
       " 'n_jobs': None,\n",
       " 'n_neighbors': 5,\n",
       " 'p': 2,\n",
       " 'weights': 'uniform'}"
      ]
     },
     "execution_count": 11,
     "metadata": {},
     "output_type": "execute_result"
    }
   ],
   "source": [
    "from sklearn.neighbors import KNeighborsRegressor # mpg 데이터는 regression 데이터이다. 그래서 이걸 선택\n",
    "knn = KNeighborsRegressor()\n",
    "knn.get_params()"
   ]
  },
  {
   "cell_type": "code",
   "execution_count": 12,
   "metadata": {},
   "outputs": [
    {
     "data": {
      "text/plain": [
       "{'n_neighbors': 5,\n",
       " 'radius': None,\n",
       " 'algorithm': 'auto',\n",
       " 'leaf_size': 30,\n",
       " 'metric': 'minkowski',\n",
       " 'metric_params': None,\n",
       " 'p': 2,\n",
       " 'n_jobs': None,\n",
       " 'weights': 'uniform'}"
      ]
     },
     "execution_count": 12,
     "metadata": {},
     "output_type": "execute_result"
    }
   ],
   "source": [
    "vars(knn) # 인스턴스가 가지고 있는 값 확인"
   ]
  },
  {
   "cell_type": "markdown",
   "metadata": {},
   "source": [
    "## 학습시키기"
   ]
  },
  {
   "cell_type": "code",
   "execution_count": 13,
   "metadata": {},
   "outputs": [],
   "source": [
    "mpg.drop(columns = ['name', 'origin'], inplace = True)"
   ]
  },
  {
   "cell_type": "code",
   "execution_count": 14,
   "metadata": {},
   "outputs": [],
   "source": [
    "mpg = mpg.fillna(method = 'backfill')"
   ]
  },
  {
   "cell_type": "code",
   "execution_count": 15,
   "metadata": {
    "scrolled": true
   },
   "outputs": [
    {
     "data": {
      "text/plain": [
       "KNeighborsRegressor(algorithm='auto', leaf_size=30, metric='minkowski',\n",
       "                    metric_params=None, n_jobs=None, n_neighbors=5, p=2,\n",
       "                    weights='uniform')"
      ]
     },
     "execution_count": 15,
     "metadata": {},
     "output_type": "execute_result"
    }
   ],
   "source": [
    "knn.fit(mpg.iloc[:, 1:], mpg.mpg)"
   ]
  },
  {
   "cell_type": "markdown",
   "metadata": {},
   "source": [
    "- 배치 방식: \n",
    "- 온라인 방식: 한문제 풀고 맞추고, 한문제 풀고 맞추고...\n",
    "- 미니 배치: 단위별로 쪼개서 한다."
   ]
  },
  {
   "cell_type": "code",
   "execution_count": 16,
   "metadata": {},
   "outputs": [],
   "source": [
    "np_img = data.images"
   ]
  },
  {
   "cell_type": "code",
   "execution_count": 17,
   "metadata": {},
   "outputs": [],
   "source": [
    "np_img2 = np_img.reshape(np_img.shape[0], -1)"
   ]
  },
  {
   "cell_type": "code",
   "execution_count": 18,
   "metadata": {},
   "outputs": [
    {
     "data": {
      "text/plain": [
       "(1797, 64)"
      ]
     },
     "execution_count": 18,
     "metadata": {},
     "output_type": "execute_result"
    }
   ],
   "source": [
    "np_img2.shape # 이게 x가 되는 것이다."
   ]
  },
  {
   "cell_type": "code",
   "execution_count": 62,
   "metadata": {},
   "outputs": [],
   "source": [
    "labels = data.target"
   ]
  },
  {
   "cell_type": "code",
   "execution_count": 63,
   "metadata": {},
   "outputs": [
    {
     "data": {
      "text/plain": [
       "(1797,)"
      ]
     },
     "execution_count": 63,
     "metadata": {},
     "output_type": "execute_result"
    }
   ],
   "source": [
    "labels.shape"
   ]
  },
  {
   "cell_type": "code",
   "execution_count": 19,
   "metadata": {},
   "outputs": [
    {
     "ename": "NameError",
     "evalue": "name 'labels' is not defined",
     "output_type": "error",
     "traceback": [
      "\u001b[1;31m---------------------------------------------------------------------------\u001b[0m",
      "\u001b[1;31mNameError\u001b[0m                                 Traceback (most recent call last)",
      "\u001b[1;32m<ipython-input-19-87038c2f6217>\u001b[0m in \u001b[0;36m<module>\u001b[1;34m\u001b[0m\n\u001b[0;32m      2\u001b[0m \u001b[1;33m\u001b[0m\u001b[0m\n\u001b[0;32m      3\u001b[0m \u001b[0mknn\u001b[0m \u001b[1;33m=\u001b[0m \u001b[0mKNeighborsClassifier\u001b[0m\u001b[1;33m(\u001b[0m\u001b[1;33m)\u001b[0m\u001b[1;33m\u001b[0m\u001b[1;33m\u001b[0m\u001b[0m\n\u001b[1;32m----> 4\u001b[1;33m \u001b[0mknn\u001b[0m\u001b[1;33m.\u001b[0m\u001b[0mfit\u001b[0m\u001b[1;33m(\u001b[0m\u001b[0mnp_img2\u001b[0m\u001b[1;33m,\u001b[0m \u001b[0mlabels\u001b[0m\u001b[1;33m)\u001b[0m \u001b[1;31m# 이제 이걸로 prediction을 할 수 있는 것이다.\u001b[0m\u001b[1;33m\u001b[0m\u001b[1;33m\u001b[0m\u001b[0m\n\u001b[0m",
      "\u001b[1;31mNameError\u001b[0m: name 'labels' is not defined"
     ]
    }
   ],
   "source": [
    "from sklearn.neighbors import KNeighborsClassifier\n",
    "\n",
    "knn = KNeighborsClassifier()\n",
    "knn.fit(np_img2, labels) # 이제 이걸로 prediction을 할 수 있는 것이다."
   ]
  },
  {
   "cell_type": "code",
   "execution_count": 67,
   "metadata": {},
   "outputs": [
    {
     "data": {
      "text/plain": [
       "0"
      ]
     },
     "execution_count": 67,
     "metadata": {},
     "output_type": "execute_result"
    }
   ],
   "source": [
    "labels[0]"
   ]
  },
  {
   "cell_type": "code",
   "execution_count": 71,
   "metadata": {},
   "outputs": [
    {
     "data": {
      "text/plain": [
       "array([0])"
      ]
     },
     "execution_count": 71,
     "metadata": {},
     "output_type": "execute_result"
    }
   ],
   "source": [
    "knn.predict(np_img2[[0]]) # shape가 안맞으므로, 이렇게 할 수 있다."
   ]
  },
  {
   "cell_type": "markdown",
   "metadata": {},
   "source": [
    "즉, 이미지라도 머신러닝 기법써서 맞출 수 있는 것이다.\n",
    "\n",
    "그런데 이미지가 중앙에 있어야 한다. 만약 중간에 없으면, 매우 성능이 나빠진다."
   ]
  },
  {
   "cell_type": "markdown",
   "metadata": {},
   "source": [
    "## Hold-out 기법\n",
    "\n",
    "- 2way holdout: train test\n",
    "- 3way holdout: train test validation\n",
    "\n",
    "stratify 굉장히 좋다. 클래스 불균형 문제 한번에 해결!"
   ]
  },
  {
   "cell_type": "code",
   "execution_count": 100,
   "metadata": {},
   "outputs": [],
   "source": [
    "from sklearn.model_selection import train_test_split\n",
    "\n",
    "train_input, test_input, train_label, test_label = train_test_split(np_img2, labels, test_size = 0.3, \n",
    "                                                                    random_state = 11234,\n",
    "                                                                    stratify = labels# ★표본을 타겟 분포 기준으로 나눠준다. 절대적으로 성능이 좋아진다.\n",
    "                                                                   )\n"
   ]
  },
  {
   "cell_type": "code",
   "execution_count": 101,
   "metadata": {
    "scrolled": true
   },
   "outputs": [
    {
     "name": "stdout",
     "output_type": "stream",
     "text": [
      "(1257, 64)\n",
      "(1257,)\n",
      "(540, 64)\n",
      "(540,)\n"
     ]
    }
   ],
   "source": [
    "print(train_input.shape)\n",
    "print(train_label.shape)\n",
    "print(test_input.shape)\n",
    "print(test_label.shape)"
   ]
  },
  {
   "cell_type": "code",
   "execution_count": 102,
   "metadata": {},
   "outputs": [],
   "source": [
    "knn = KNeighborsClassifier()"
   ]
  },
  {
   "cell_type": "code",
   "execution_count": 103,
   "metadata": {
    "scrolled": true
   },
   "outputs": [
    {
     "data": {
      "text/plain": [
       "KNeighborsClassifier(algorithm='auto', leaf_size=30, metric='minkowski',\n",
       "                     metric_params=None, n_jobs=None, n_neighbors=5, p=2,\n",
       "                     weights='uniform')"
      ]
     },
     "execution_count": 103,
     "metadata": {},
     "output_type": "execute_result"
    }
   ],
   "source": [
    "knn.fit(train_input, train_label)"
   ]
  },
  {
   "cell_type": "code",
   "execution_count": 104,
   "metadata": {},
   "outputs": [
    {
     "data": {
      "text/plain": [
       "0.9851851851851852"
      ]
     },
     "execution_count": 104,
     "metadata": {},
     "output_type": "execute_result"
    }
   ],
   "source": [
    "knn.score(test_input, test_label)"
   ]
  },
  {
   "cell_type": "markdown",
   "metadata": {},
   "source": [
    "딥러닝은 학습시간은 느리지만 예측속도는 엄청 빠르다. 그래서 산업현장에 적용하기가 아주 좋다. svm을 아직도 쓰는 이유가 속도가 극악으로 느리지만, 성능은 괜찮기 때문이다. "
   ]
  },
  {
   "cell_type": "code",
   "execution_count": 105,
   "metadata": {},
   "outputs": [],
   "source": [
    "from sklearn.datasets import fetch_openml # 여기서도 mnist같은 데이터 있다. 여기서 가져와서 연습해보면 된다."
   ]
  },
  {
   "cell_type": "markdown",
   "metadata": {},
   "source": [
    "### 노멀라이징 해서 성능 비교"
   ]
  },
  {
   "cell_type": "code",
   "execution_count": 106,
   "metadata": {},
   "outputs": [],
   "source": [
    "from sklearn.preprocessing import StandardScaler\n",
    "\n",
    "ss = StandardScaler()\n",
    "train_input_norm = ss.fit_transform(train_input)\n",
    "test_input_norm = ss.fit_transform(test_input)"
   ]
  },
  {
   "cell_type": "code",
   "execution_count": 107,
   "metadata": {},
   "outputs": [
    {
     "data": {
      "text/plain": [
       "0.9814814814814815"
      ]
     },
     "execution_count": 107,
     "metadata": {},
     "output_type": "execute_result"
    }
   ],
   "source": [
    "knn2 = KNeighborsClassifier()\n",
    "knn2.fit(train_input_norm, train_label)\n",
    "\n",
    "knn2.score(test_input_norm, test_label) # 오히려 정확도가 떨어졌다."
   ]
  },
  {
   "cell_type": "markdown",
   "metadata": {},
   "source": [
    "성능이 오히려 떨어졌다. 데이터가 워낙 잘되어 있기 때문에, 오히려 노말라이징 한게 역효과가 난 것이다.\n",
    "\n",
    "그런데 랜덤 스테이츠를 바꾸면 또 성능이 바뀐다. 랜덤으로 했을 때, 성능이 바뀐다는 것은 오버피팅 되었다는 것이다. ★★★\n",
    "\n",
    "선생님의 경우, 70% 넘으면 오버피팅 확인을 한다. 그래서 크로스 밸리데이션을 하는 것이다. ☆☆☆\n",
    "\n",
    "10 폴드 벨리데이션은 이런 랜덤 과정을 10번 하는 것과 동일하다. 또한 편차까지 존재한다.\n",
    "\n",
    "그러면 왜 크로스밸리데이션 안하고, 홀드아웃만 쓸까? 귀찮아서 이다 ㅋ"
   ]
  },
  {
   "cell_type": "code",
   "execution_count": 108,
   "metadata": {},
   "outputs": [
    {
     "data": {
      "text/plain": [
       "array([0.92972973, 0.98907104, 0.97790055, 0.97777778, 0.96648045,\n",
       "       0.98324022, 0.98882682, 0.98314607, 0.97740113, 0.96590909])"
      ]
     },
     "execution_count": 108,
     "metadata": {},
     "output_type": "execute_result"
    }
   ],
   "source": [
    "from sklearn.model_selection import cross_val_score\n",
    "\n",
    "cross_val_score(KNeighborsClassifier(), np_img2, labels, cv = 10) # 실무에서는 10을 많이 쓴다."
   ]
  },
  {
   "cell_type": "markdown",
   "metadata": {},
   "source": [
    "편차가 6이므로, 모델 안정화가 좀 필요한 것이다. 알고리즘 특성상 데이터가 더 필요한 것이다."
   ]
  },
  {
   "cell_type": "code",
   "execution_count": 111,
   "metadata": {},
   "outputs": [
    {
     "name": "stderr",
     "output_type": "stream",
     "text": [
      "C:\\Users\\white\\Anaconda3\\envs\\tf2.0-gpu\\lib\\site-packages\\sklearn\\ensemble\\forest.py:245: FutureWarning: The default value of n_estimators will change from 10 in version 0.20 to 100 in 0.22.\n",
      "  \"10 in version 0.20 to 100 in 0.22.\", FutureWarning)\n",
      "C:\\Users\\white\\Anaconda3\\envs\\tf2.0-gpu\\lib\\site-packages\\sklearn\\ensemble\\forest.py:245: FutureWarning: The default value of n_estimators will change from 10 in version 0.20 to 100 in 0.22.\n",
      "  \"10 in version 0.20 to 100 in 0.22.\", FutureWarning)\n",
      "C:\\Users\\white\\Anaconda3\\envs\\tf2.0-gpu\\lib\\site-packages\\sklearn\\ensemble\\forest.py:245: FutureWarning: The default value of n_estimators will change from 10 in version 0.20 to 100 in 0.22.\n",
      "  \"10 in version 0.20 to 100 in 0.22.\", FutureWarning)\n",
      "C:\\Users\\white\\Anaconda3\\envs\\tf2.0-gpu\\lib\\site-packages\\sklearn\\ensemble\\forest.py:245: FutureWarning: The default value of n_estimators will change from 10 in version 0.20 to 100 in 0.22.\n",
      "  \"10 in version 0.20 to 100 in 0.22.\", FutureWarning)\n",
      "C:\\Users\\white\\Anaconda3\\envs\\tf2.0-gpu\\lib\\site-packages\\sklearn\\ensemble\\forest.py:245: FutureWarning: The default value of n_estimators will change from 10 in version 0.20 to 100 in 0.22.\n",
      "  \"10 in version 0.20 to 100 in 0.22.\", FutureWarning)\n",
      "C:\\Users\\white\\Anaconda3\\envs\\tf2.0-gpu\\lib\\site-packages\\sklearn\\ensemble\\forest.py:245: FutureWarning: The default value of n_estimators will change from 10 in version 0.20 to 100 in 0.22.\n",
      "  \"10 in version 0.20 to 100 in 0.22.\", FutureWarning)\n",
      "C:\\Users\\white\\Anaconda3\\envs\\tf2.0-gpu\\lib\\site-packages\\sklearn\\ensemble\\forest.py:245: FutureWarning: The default value of n_estimators will change from 10 in version 0.20 to 100 in 0.22.\n",
      "  \"10 in version 0.20 to 100 in 0.22.\", FutureWarning)\n",
      "C:\\Users\\white\\Anaconda3\\envs\\tf2.0-gpu\\lib\\site-packages\\sklearn\\ensemble\\forest.py:245: FutureWarning: The default value of n_estimators will change from 10 in version 0.20 to 100 in 0.22.\n",
      "  \"10 in version 0.20 to 100 in 0.22.\", FutureWarning)\n",
      "C:\\Users\\white\\Anaconda3\\envs\\tf2.0-gpu\\lib\\site-packages\\sklearn\\ensemble\\forest.py:245: FutureWarning: The default value of n_estimators will change from 10 in version 0.20 to 100 in 0.22.\n",
      "  \"10 in version 0.20 to 100 in 0.22.\", FutureWarning)\n",
      "C:\\Users\\white\\Anaconda3\\envs\\tf2.0-gpu\\lib\\site-packages\\sklearn\\ensemble\\forest.py:245: FutureWarning: The default value of n_estimators will change from 10 in version 0.20 to 100 in 0.22.\n",
      "  \"10 in version 0.20 to 100 in 0.22.\", FutureWarning)\n"
     ]
    },
    {
     "data": {
      "text/plain": [
       "array([0.88648649, 0.95081967, 0.91160221, 0.91666667, 0.91061453,\n",
       "       0.96648045, 0.93854749, 0.93820225, 0.93785311, 0.89772727])"
      ]
     },
     "execution_count": 111,
     "metadata": {},
     "output_type": "execute_result"
    }
   ],
   "source": [
    "from sklearn.ensemble import RandomForestClassifier\n",
    "\n",
    "cross_val_score(RandomForestClassifier(), np_img2, labels, cv = 10) # knn보다 더 편차가 크다. 이 알고리즘도 데이터가 더 필요하다."
   ]
  },
  {
   "cell_type": "markdown",
   "metadata": {},
   "source": [
    "이렇게 크로스 밸리데이션 하면 오버피팅 일어났는지 알아보는데 좋다. 저 위에 어레이에서 편차가 좀 있으면 오버피팅 됬다고 보면 된다.\n",
    "\n",
    "\n",
    "★★★★★ <br>\n",
    "그럼 홀드아웃은 왜 하나? 가지고 있는 모든 데이터를 전부 다 재학습 시켜야 한다. 크로스밸리데이션에서 끝난게 아니다. 다시 하이퍼파라미터 맞춰서 전부 다 학습 시켜야 한다. 데이터는 소중하니까!\n",
    "\n",
    "머신러닝 교과서, introduction to Machine learning with Python (칼라 도마뱀!)"
   ]
  },
  {
   "cell_type": "code",
   "execution_count": null,
   "metadata": {},
   "outputs": [],
   "source": []
  }
 ],
 "metadata": {
  "kernelspec": {
   "display_name": "Tensorflow2.0-GPU",
   "language": "python",
   "name": "tf2.0-gpu"
  },
  "language_info": {
   "codemirror_mode": {
    "name": "ipython",
    "version": 3
   },
   "file_extension": ".py",
   "mimetype": "text/x-python",
   "name": "python",
   "nbconvert_exporter": "python",
   "pygments_lexer": "ipython3",
   "version": "3.7.5"
  }
 },
 "nbformat": 4,
 "nbformat_minor": 2
}
