{
 "cells": [
  {
   "cell_type": "markdown",
   "metadata": {},
   "source": [
    "# 모델 저장과 복원\n",
    "\n",
    "https://www.tensorflow.org/tutorials/keras/save_and_load"
   ]
  },
  {
   "cell_type": "code",
   "execution_count": 1,
   "metadata": {},
   "outputs": [
    {
     "data": {
      "text/plain": [
       "'2.0.0'"
      ]
     },
     "execution_count": 1,
     "metadata": {},
     "output_type": "execute_result"
    }
   ],
   "source": [
    "import tensorflow as tf\n",
    "from tensorflow import keras\n",
    "\n",
    "tf.__version__"
   ]
  },
  {
   "cell_type": "code",
   "execution_count": 2,
   "metadata": {},
   "outputs": [],
   "source": [
    "(train_images, train_labels), (test_images, test_labels) = tf.keras.datasets.mnist.load_data()\n",
    "\n",
    "train_labels = train_labels[:1000]\n",
    "test_labels = test_labels[:1000]\n",
    "\n",
    "train_images = train_images[:1000].reshape(-1, 28 * 28) / 255.0\n",
    "test_images = test_images[:1000].reshape(-1, 28 * 28) / 255.0"
   ]
  },
  {
   "cell_type": "code",
   "execution_count": 3,
   "metadata": {},
   "outputs": [],
   "source": [
    "def create_model(): # 함수 정의함\n",
    "    model = tf.keras.models.Sequential([\n",
    "    keras.layers.Dense(512, activation='relu', input_shape=(784,)),\n",
    "    keras.layers.Dropout(0.2),\n",
    "    keras.layers.Dense(512, activation='relu', input_shape=(784,)),\n",
    "    keras.layers.Dropout(0.2),\n",
    "    keras.layers.Dense(10, activation='softmax')\n",
    "  ])\n",
    "\n",
    "    model.compile(optimizer='adam',\n",
    "                loss='sparse_categorical_crossentropy', # one-hot이 아님\n",
    "                metrics=['accuracy'])\n",
    "\n",
    "    return model"
   ]
  },
  {
   "cell_type": "code",
   "execution_count": 4,
   "metadata": {
    "scrolled": false
   },
   "outputs": [
    {
     "name": "stdout",
     "output_type": "stream",
     "text": [
      "Model: \"sequential\"\n",
      "_________________________________________________________________\n",
      "Layer (type)                 Output Shape              Param #   \n",
      "=================================================================\n",
      "dense (Dense)                (None, 512)               401920    \n",
      "_________________________________________________________________\n",
      "dropout (Dropout)            (None, 512)               0         \n",
      "_________________________________________________________________\n",
      "dense_1 (Dense)              (None, 512)               262656    \n",
      "_________________________________________________________________\n",
      "dropout_1 (Dropout)          (None, 512)               0         \n",
      "_________________________________________________________________\n",
      "dense_2 (Dense)              (None, 10)                5130      \n",
      "=================================================================\n",
      "Total params: 669,706\n",
      "Trainable params: 669,706\n",
      "Non-trainable params: 0\n",
      "_________________________________________________________________\n"
     ]
    }
   ],
   "source": [
    "model = create_model()\n",
    "model.summary()"
   ]
  },
  {
   "cell_type": "markdown",
   "metadata": {},
   "source": [
    "그냥 fit 쓰면, 편하고 좋다. 상속 받아도 fit 쓸 수 있긴 하다. fit 쓰면 세부적으로 다양한 조건을 못한다. 그래서 gradient tape 쓴다.\n",
    "\n",
    "모델에 결측치 없는지 항상 체크해야 한다. 있다면 모델이 안돌아간다. 모델 체크포인트 콜백도 콜백의 한 종류이다. 잘못되면 되돌아 갈 수 있게 만드는 것이다. 주피터 노트북에서도 체크포인트가 있다. file -> revert to checkpoint로 하면 저장했던 곳으로 되돌아 갈 수 있다. 실수한 것을 만회할 수 있다. 코딩을 했는데, 돌려야 할 경우가 너무 많다. 그래서 중간중간에 다 체크포인트를 찍어 둔다. \n",
    "\n",
    "loss 추세를 보다가 오히려 발산하는 경우도 생긴다. 그럴 경우에는 뒤로 되돌려서 다시 훈련방식을 바꿀 수 있다. 아주 많이 쓰는 기능이다. 처음에 모델 만들 때, 체크포인트 안 쓰면 아무것도 모르는 사람이다. "
   ]
  },
  {
   "cell_type": "markdown",
   "metadata": {},
   "source": [
    "### 훈련하는 동안 체크포인트 저장하기"
   ]
  },
  {
   "cell_type": "code",
   "execution_count": 5,
   "metadata": {},
   "outputs": [],
   "source": [
    "import os\n",
    "import datetime\n",
    "checkpoint_path = \"training_1\\\\\" + datetime.datetime.now().strftime(\"%Y%m%d-%H%M%S\") # 내맘대로 써도 된다. fit 할때마다 1개 나옴.\n",
    "checkpoint_dir = os.path.dirname(checkpoint_path)\n",
    "\n",
    "# 체크포인트 콜백 만들기\n",
    "# cp_callback = tf.keras.callbacks.ModelCheckpoint(checkpoint_path,\n",
    "#                                                  save_weights_only=True,\n",
    "#                                                  verbose=1)\n",
    "cp_callback = tf.keras.callbacks.TensorBoard(log_dir = checkpoint_path)\n",
    "\n",
    "file_writer = tf.summary.create_file_writer(checkpoint_path)"
   ]
  },
  {
   "cell_type": "code",
   "execution_count": 6,
   "metadata": {},
   "outputs": [
    {
     "data": {
      "text/plain": [
       "'training_1\\\\20191208-205359'"
      ]
     },
     "execution_count": 6,
     "metadata": {},
     "output_type": "execute_result"
    }
   ],
   "source": [
    "checkpoint_path"
   ]
  },
  {
   "cell_type": "markdown",
   "metadata": {},
   "source": [
    "tf.keras.callbacks.EarlyStopping() # monitor='val_loss'라는게 있다.\n",
    "\n",
    "save_best_only=True -> val_loss 기준으로 가장 좋은 모델만 저장한다. 가장 좋을 때, 저장할 수 있는 것이다. loss function이 어느순간 올라가는 경우에도 이렇게 활용방안을 알아야 하는 것이다. save best only 알아두면 좋다 ★★★ 나중에 쓸 때, 제일 좋은 모델만 찾을 때 간단하게 찾을 수 있다."
   ]
  },
  {
   "cell_type": "code",
   "execution_count": 7,
   "metadata": {
    "scrolled": true
   },
   "outputs": [
    {
     "name": "stdout",
     "output_type": "stream",
     "text": [
      "Train on 1000 samples, validate on 1000 samples\n",
      "Epoch 1/3\n",
      "1000/1000 [==============================] - 1s 1ms/sample - loss: 1.1405 - accuracy: 0.6680 - val_loss: 0.6154 - val_accuracy: 0.7870\n",
      "Epoch 2/3\n",
      "1000/1000 [==============================] - 0s 163us/sample - loss: 0.3749 - accuracy: 0.8870 - val_loss: 0.4716 - val_accuracy: 0.8490\n",
      "Epoch 3/3\n",
      "1000/1000 [==============================] - 0s 161us/sample - loss: 0.2533 - accuracy: 0.9290 - val_loss: 0.3999 - val_accuracy: 0.8680\n"
     ]
    },
    {
     "data": {
      "text/plain": [
       "<tensorflow.python.keras.callbacks.History at 0x274c33fb9c8>"
      ]
     },
     "execution_count": 7,
     "metadata": {},
     "output_type": "execute_result"
    }
   ],
   "source": [
    "model.fit(train_images, train_labels,  epochs = 3,\n",
    "          validation_data = (test_images,test_labels),\n",
    "          callbacks = [cp_callback])  # 훈련 단계에 콜백을 전달합니다"
   ]
  },
  {
   "cell_type": "code",
   "execution_count": 8,
   "metadata": {},
   "outputs": [],
   "source": [
    "%load_ext tensorboard"
   ]
  },
  {
   "cell_type": "code",
   "execution_count": 9,
   "metadata": {
    "scrolled": true
   },
   "outputs": [
    {
     "data": {
      "text/plain": [
       "Reusing TensorBoard on port 6006 (pid 9512), started 0:04:59 ago. (Use '!kill 9512' to kill it.)"
      ]
     },
     "metadata": {},
     "output_type": "display_data"
    },
    {
     "data": {
      "text/html": [
       "\n",
       "      <iframe id=\"tensorboard-frame-8ff8b8284c676c5e\" width=\"100%\" height=\"800\" frameborder=\"0\">\n",
       "      </iframe>\n",
       "      <script>\n",
       "        (function() {\n",
       "          const frame = document.getElementById(\"tensorboard-frame-8ff8b8284c676c5e\");\n",
       "          const url = new URL(\"/\", window.location);\n",
       "          url.port = 6006;\n",
       "          frame.src = url;\n",
       "        })();\n",
       "      </script>\n",
       "  "
      ],
      "text/plain": [
       "<IPython.core.display.HTML object>"
      ]
     },
     "metadata": {},
     "output_type": "display_data"
    }
   ],
   "source": [
    "%tensorboard --logdir 'training_01\\\\20191208-204706'"
   ]
  },
  {
   "cell_type": "code",
   "execution_count": 55,
   "metadata": {},
   "outputs": [
    {
     "name": "stdout",
     "output_type": "stream",
     "text": [
      "1000/1 - 0s - loss: 2.4135 - accuracy: 0.1600\n",
      "훈련되지 않은 모델의 정확도: 16.00%\n"
     ]
    }
   ],
   "source": [
    "model2 = create_model()\n",
    "\n",
    "loss, acc = model2.evaluate(test_images, test_labels, verbose = 2)\n",
    "print('훈련되지 않은 모델의 정확도: {:5.2f}%'.format(100*acc))"
   ]
  },
  {
   "cell_type": "markdown",
   "metadata": {},
   "source": [
    "이제 체크포인트에 저장된 가중치를 불러와서 다시 평가해 보자. 훈련을 따로 안시켜도 이런식으로 체크포인트를 불러와서 쓸수가 있다."
   ]
  },
  {
   "cell_type": "code",
   "execution_count": 56,
   "metadata": {},
   "outputs": [
    {
     "name": "stdout",
     "output_type": "stream",
     "text": [
      "1000/1 - 0s - loss: 0.5004 - accuracy: 0.8540\n",
      "훈련되지 않은 모델의 정확도: 85.40%\n"
     ]
    }
   ],
   "source": [
    "model2.load_weights(checkpoint_path)\n",
    "\n",
    "loss, acc = model2.evaluate(test_images, test_labels, verbose = 2)\n",
    "print('훈련되지 않은 모델의 정확도: {:5.2f}%'.format(100*acc))"
   ]
  },
  {
   "cell_type": "markdown",
   "metadata": {},
   "source": [
    "그런데 위와 같은 방식은 파일을 계속 덮어쓴다. 다른 테크닉을  쓰자.\n",
    "\n",
    "### 체크포인트 콜백 매개변수\n",
    "\n",
    "에폭 당 체크포인트를 만드는 방식으로 바꿔보자."
   ]
  },
  {
   "cell_type": "code",
   "execution_count": 57,
   "metadata": {
    "scrolled": true
   },
   "outputs": [
    {
     "name": "stdout",
     "output_type": "stream",
     "text": [
      "WARNING:tensorflow:`period` argument is deprecated. Please use `save_freq` to specify the frequency in number of samples seen.\n",
      "\n",
      "Epoch 00005: saving model to training_2/cp-0005.ckpt\n",
      "\n",
      "Epoch 00010: saving model to training_2/cp-0010.ckpt\n",
      "\n",
      "Epoch 00015: saving model to training_2/cp-0015.ckpt\n",
      "\n",
      "Epoch 00020: saving model to training_2/cp-0020.ckpt\n",
      "\n",
      "Epoch 00025: saving model to training_2/cp-0025.ckpt\n",
      "\n",
      "Epoch 00030: saving model to training_2/cp-0030.ckpt\n",
      "\n",
      "Epoch 00035: saving model to training_2/cp-0035.ckpt\n",
      "\n",
      "Epoch 00040: saving model to training_2/cp-0040.ckpt\n",
      "\n",
      "Epoch 00045: saving model to training_2/cp-0045.ckpt\n",
      "\n",
      "Epoch 00050: saving model to training_2/cp-0050.ckpt\n"
     ]
    },
    {
     "data": {
      "text/plain": [
       "<tensorflow.python.keras.callbacks.History at 0x112184573c8>"
      ]
     },
     "execution_count": 57,
     "metadata": {},
     "output_type": "execute_result"
    }
   ],
   "source": [
    "# 파일 이름에 에포크 번호를 포함시킵니다(`str.format` 포맷)\n",
    "checkpoint_path = \"training_2/cp-{epoch:04d}.ckpt\"\n",
    "checkpoint_dir = os.path.dirname(checkpoint_path)\n",
    "\n",
    "cp_callback = tf.keras.callbacks.ModelCheckpoint(\n",
    "    checkpoint_path, verbose=1, save_weights_only=True,\n",
    "    # 다섯 번째 에포크마다 가중치를 저장합니다\n",
    "    period=5) # 굳이 쓰지마라. ★★★ \n",
    "\n",
    "model = create_model()\n",
    "model.save_weights(checkpoint_path.format(epoch=0))\n",
    "model.fit(train_images, train_labels,\n",
    "          epochs = 50, callbacks = [cp_callback],\n",
    "          validation_data = (test_images,test_labels),\n",
    "          verbose=0)"
   ]
  },
  {
   "cell_type": "markdown",
   "metadata": {},
   "source": [
    "에폭 돌은 만큼 개수가 생긴다.\n",
    "\n",
    "그런데 이 방법은 시행착오 용으로 쓰는 것이다. 파일을 열어봤더니 안열리기 때문에, 간혹 버전에 따라서 안열리는 경우가 있기 때문에... 이렇게 모델 체크포인트는 시행착오용으로 쓰는 것이다. 모델로서 다른 곳에서 사용을 못하기 때문에. 다른 곳에 전달할 때는 좋은 방식이 아니다. 다른 프레임워크에서 쓸 수 없다. 그래서 모델 전체를 저장할 때는 다른 구조로 저장을 할 것이다."
   ]
  },
  {
   "cell_type": "code",
   "execution_count": 58,
   "metadata": {},
   "outputs": [
    {
     "data": {
      "text/plain": [
       "'training_2\\\\cp-0050.ckpt'"
      ]
     },
     "execution_count": 58,
     "metadata": {},
     "output_type": "execute_result"
    }
   ],
   "source": [
    "latest = tf.train.latest_checkpoint(checkpoint_dir)\n",
    "latest"
   ]
  },
  {
   "cell_type": "code",
   "execution_count": 59,
   "metadata": {},
   "outputs": [
    {
     "name": "stdout",
     "output_type": "stream",
     "text": [
      "1000/1 - 0s - loss: 0.3328 - accuracy: 0.8850\n",
      "복원된 모델의 정확도: 88.50%\n"
     ]
    }
   ],
   "source": [
    "model= create_model()\n",
    "model.load_weights(latest)\n",
    "loss, acc = model.evaluate(test_images, test_labels, verbose = 2)\n",
    "print(\"복원된 모델의 정확도: {:5.2f}%\".format(100*acc))"
   ]
  },
  {
   "cell_type": "code",
   "execution_count": 60,
   "metadata": {},
   "outputs": [
    {
     "ename": "NotFoundError",
     "evalue": "Unsuccessful TensorSliceReader constructor: Failed to find any matching files for training_2/cp-{epoch:04d}.ckpt",
     "output_type": "error",
     "traceback": [
      "\u001b[1;31m---------------------------------------------------------------------------\u001b[0m",
      "\u001b[1;31mNotFoundError\u001b[0m                             Traceback (most recent call last)",
      "\u001b[1;32m<ipython-input-60-d219428c4ea6>\u001b[0m in \u001b[0;36m<module>\u001b[1;34m\u001b[0m\n\u001b[1;32m----> 1\u001b[1;33m \u001b[0mmodel\u001b[0m\u001b[1;33m.\u001b[0m\u001b[0mload_weights\u001b[0m\u001b[1;33m(\u001b[0m\u001b[0mcheckpoint_path\u001b[0m\u001b[1;33m)\u001b[0m\u001b[1;33m\u001b[0m\u001b[1;33m\u001b[0m\u001b[0m\n\u001b[0m\u001b[0;32m      2\u001b[0m \u001b[0mprint\u001b[0m\u001b[1;33m(\u001b[0m\u001b[0mstr\u001b[0m\u001b[1;33m(\u001b[0m\u001b[0ma\u001b[0m\u001b[1;33m)\u001b[0m\u001b[1;33m)\u001b[0m\u001b[1;33m\u001b[0m\u001b[1;33m\u001b[0m\u001b[0m\n",
      "\u001b[1;32m~\\Anaconda3\\envs\\tf2.0-gpu\\lib\\site-packages\\tensorflow_core\\python\\keras\\engine\\training.py\u001b[0m in \u001b[0;36mload_weights\u001b[1;34m(self, filepath, by_name)\u001b[0m\n\u001b[0;32m    179\u001b[0m         raise ValueError('Load weights is not yet supported with TPUStrategy '\n\u001b[0;32m    180\u001b[0m                          'with steps_per_run greater than 1.')\n\u001b[1;32m--> 181\u001b[1;33m     \u001b[1;32mreturn\u001b[0m \u001b[0msuper\u001b[0m\u001b[1;33m(\u001b[0m\u001b[0mModel\u001b[0m\u001b[1;33m,\u001b[0m \u001b[0mself\u001b[0m\u001b[1;33m)\u001b[0m\u001b[1;33m.\u001b[0m\u001b[0mload_weights\u001b[0m\u001b[1;33m(\u001b[0m\u001b[0mfilepath\u001b[0m\u001b[1;33m,\u001b[0m \u001b[0mby_name\u001b[0m\u001b[1;33m)\u001b[0m\u001b[1;33m\u001b[0m\u001b[1;33m\u001b[0m\u001b[0m\n\u001b[0m\u001b[0;32m    182\u001b[0m \u001b[1;33m\u001b[0m\u001b[0m\n\u001b[0;32m    183\u001b[0m   \u001b[1;33m@\u001b[0m\u001b[0mtrackable\u001b[0m\u001b[1;33m.\u001b[0m\u001b[0mno_automatic_dependency_tracking\u001b[0m\u001b[1;33m\u001b[0m\u001b[1;33m\u001b[0m\u001b[0m\n",
      "\u001b[1;32m~\\Anaconda3\\envs\\tf2.0-gpu\\lib\\site-packages\\tensorflow_core\\python\\keras\\engine\\network.py\u001b[0m in \u001b[0;36mload_weights\u001b[1;34m(self, filepath, by_name)\u001b[0m\n\u001b[0;32m   1141\u001b[0m     \u001b[1;32melse\u001b[0m\u001b[1;33m:\u001b[0m\u001b[1;33m\u001b[0m\u001b[1;33m\u001b[0m\u001b[0m\n\u001b[0;32m   1142\u001b[0m       \u001b[1;32mtry\u001b[0m\u001b[1;33m:\u001b[0m\u001b[1;33m\u001b[0m\u001b[1;33m\u001b[0m\u001b[0m\n\u001b[1;32m-> 1143\u001b[1;33m         \u001b[0mpywrap_tensorflow\u001b[0m\u001b[1;33m.\u001b[0m\u001b[0mNewCheckpointReader\u001b[0m\u001b[1;33m(\u001b[0m\u001b[0mfilepath\u001b[0m\u001b[1;33m)\u001b[0m\u001b[1;33m\u001b[0m\u001b[1;33m\u001b[0m\u001b[0m\n\u001b[0m\u001b[0;32m   1144\u001b[0m         \u001b[0msave_format\u001b[0m \u001b[1;33m=\u001b[0m \u001b[1;34m'tf'\u001b[0m\u001b[1;33m\u001b[0m\u001b[1;33m\u001b[0m\u001b[0m\n\u001b[0;32m   1145\u001b[0m       \u001b[1;32mexcept\u001b[0m \u001b[0merrors_impl\u001b[0m\u001b[1;33m.\u001b[0m\u001b[0mDataLossError\u001b[0m\u001b[1;33m:\u001b[0m\u001b[1;33m\u001b[0m\u001b[1;33m\u001b[0m\u001b[0m\n",
      "\u001b[1;32m~\\Anaconda3\\envs\\tf2.0-gpu\\lib\\site-packages\\tensorflow_core\\python\\pywrap_tensorflow_internal.py\u001b[0m in \u001b[0;36mNewCheckpointReader\u001b[1;34m(filepattern)\u001b[0m\n\u001b[0;32m    871\u001b[0m \u001b[1;32mdef\u001b[0m \u001b[0mNewCheckpointReader\u001b[0m\u001b[1;33m(\u001b[0m\u001b[0mfilepattern\u001b[0m\u001b[1;33m)\u001b[0m\u001b[1;33m:\u001b[0m\u001b[1;33m\u001b[0m\u001b[1;33m\u001b[0m\u001b[0m\n\u001b[0;32m    872\u001b[0m   \u001b[1;32mfrom\u001b[0m \u001b[0mtensorflow\u001b[0m\u001b[1;33m.\u001b[0m\u001b[0mpython\u001b[0m\u001b[1;33m.\u001b[0m\u001b[0mutil\u001b[0m \u001b[1;32mimport\u001b[0m \u001b[0mcompat\u001b[0m\u001b[1;33m\u001b[0m\u001b[1;33m\u001b[0m\u001b[0m\n\u001b[1;32m--> 873\u001b[1;33m   \u001b[1;32mreturn\u001b[0m \u001b[0mCheckpointReader\u001b[0m\u001b[1;33m(\u001b[0m\u001b[0mcompat\u001b[0m\u001b[1;33m.\u001b[0m\u001b[0mas_bytes\u001b[0m\u001b[1;33m(\u001b[0m\u001b[0mfilepattern\u001b[0m\u001b[1;33m)\u001b[0m\u001b[1;33m)\u001b[0m\u001b[1;33m\u001b[0m\u001b[1;33m\u001b[0m\u001b[0m\n\u001b[0m\u001b[0;32m    874\u001b[0m \u001b[1;33m\u001b[0m\u001b[0m\n\u001b[0;32m    875\u001b[0m \u001b[0mNewCheckpointReader\u001b[0m\u001b[1;33m.\u001b[0m\u001b[0m_tf_api_names_v1\u001b[0m \u001b[1;33m=\u001b[0m \u001b[1;33m[\u001b[0m\u001b[1;34m'train.NewCheckpointReader'\u001b[0m\u001b[1;33m]\u001b[0m\u001b[1;33m\u001b[0m\u001b[1;33m\u001b[0m\u001b[0m\n",
      "\u001b[1;32m~\\Anaconda3\\envs\\tf2.0-gpu\\lib\\site-packages\\tensorflow_core\\python\\pywrap_tensorflow_internal.py\u001b[0m in \u001b[0;36m__init__\u001b[1;34m(self, filename)\u001b[0m\n\u001b[0;32m    883\u001b[0m \u001b[1;33m\u001b[0m\u001b[0m\n\u001b[0;32m    884\u001b[0m     \u001b[1;32mdef\u001b[0m \u001b[0m__init__\u001b[0m\u001b[1;33m(\u001b[0m\u001b[0mself\u001b[0m\u001b[1;33m,\u001b[0m \u001b[0mfilename\u001b[0m\u001b[1;33m)\u001b[0m\u001b[1;33m:\u001b[0m\u001b[1;33m\u001b[0m\u001b[1;33m\u001b[0m\u001b[0m\n\u001b[1;32m--> 885\u001b[1;33m         \u001b[0mthis\u001b[0m \u001b[1;33m=\u001b[0m \u001b[0m_pywrap_tensorflow_internal\u001b[0m\u001b[1;33m.\u001b[0m\u001b[0mnew_CheckpointReader\u001b[0m\u001b[1;33m(\u001b[0m\u001b[0mfilename\u001b[0m\u001b[1;33m)\u001b[0m\u001b[1;33m\u001b[0m\u001b[1;33m\u001b[0m\u001b[0m\n\u001b[0m\u001b[0;32m    886\u001b[0m         \u001b[1;32mtry\u001b[0m\u001b[1;33m:\u001b[0m\u001b[1;33m\u001b[0m\u001b[1;33m\u001b[0m\u001b[0m\n\u001b[0;32m    887\u001b[0m             \u001b[0mself\u001b[0m\u001b[1;33m.\u001b[0m\u001b[0mthis\u001b[0m\u001b[1;33m.\u001b[0m\u001b[0mappend\u001b[0m\u001b[1;33m(\u001b[0m\u001b[0mthis\u001b[0m\u001b[1;33m)\u001b[0m\u001b[1;33m\u001b[0m\u001b[1;33m\u001b[0m\u001b[0m\n",
      "\u001b[1;31mNotFoundError\u001b[0m: Unsuccessful TensorSliceReader constructor: Failed to find any matching files for training_2/cp-{epoch:04d}.ckpt"
     ]
    }
   ],
   "source": [
    "model.load_weights(checkpoint_path)\n",
    "print(str(a))"
   ]
  },
  {
   "cell_type": "code",
   "execution_count": 61,
   "metadata": {
    "scrolled": true
   },
   "outputs": [
    {
     "name": "stdout",
     "output_type": "stream",
     "text": [
      "1000/1 - 0s - loss: 0.3328 - accuracy: 0.8850\n",
      "복원된 모델의 정확도: 88.50%\n"
     ]
    }
   ],
   "source": [
    "loss, acc = model.evaluate(test_images,  test_labels, verbose=2)\n",
    "print(\"복원된 모델의 정확도: {:5.2f}%\".format(100*acc))"
   ]
  },
  {
   "cell_type": "markdown",
   "metadata": {},
   "source": [
    "# 모델 전체를 저장하기\n",
    "\n",
    "파이썬 피클링 방식으로 저장이 되어 있기 때문에, 다른 프레임워크나 버전 문제때문에 못 불러 오는 경우가 있다. 그래서 저장할 때, 범용 파일로 저장을 해보린다. 대표적인 것이 HDF5 파일이다. hierachy data format... (?) 텐서플로 js 등에서 weight를 불러올 수 있다. 뉴럴네트워크는 학습이 어렵지만, 실행은 아주 빠르다. HDF를 불러오기 위해서는 외부 라이브러리 파일을 써야 한다."
   ]
  },
  {
   "cell_type": "code",
   "execution_count": 62,
   "metadata": {},
   "outputs": [],
   "source": [
    "# !pip install -q h5py pyyaml"
   ]
  },
  {
   "cell_type": "code",
   "execution_count": 63,
   "metadata": {
    "scrolled": true
   },
   "outputs": [
    {
     "name": "stdout",
     "output_type": "stream",
     "text": [
      "Train on 1000 samples\n",
      "Epoch 1/5\n",
      "1000/1000 [==============================] - 0s 378us/sample - loss: 1.1472 - accuracy: 0.6530\n",
      "Epoch 2/5\n",
      "1000/1000 [==============================] - 0s 95us/sample - loss: 0.4146 - accuracy: 0.8680\n",
      "Epoch 3/5\n",
      "1000/1000 [==============================] - 0s 96us/sample - loss: 0.2350 - accuracy: 0.9300\n",
      "Epoch 4/5\n",
      "1000/1000 [==============================] - 0s 94us/sample - loss: 0.1533 - accuracy: 0.9470\n",
      "Epoch 5/5\n",
      "1000/1000 [==============================] - 0s 110us/sample - loss: 0.0983 - accuracy: 0.9720\n"
     ]
    }
   ],
   "source": [
    "model = create_model()\n",
    "\n",
    "model.fit(train_images, train_labels, epochs=5)\n",
    "\n",
    "# 전체 모델을 HDF5 파일로 저장합니다\n",
    "model.save('my_model.h5')"
   ]
  },
  {
   "cell_type": "code",
   "execution_count": 64,
   "metadata": {},
   "outputs": [
    {
     "name": "stdout",
     "output_type": "stream",
     "text": [
      "WARNING:tensorflow:Unresolved object in checkpoint: (root).optimizer.iter\n",
      "WARNING:tensorflow:Unresolved object in checkpoint: (root).optimizer.beta_1\n",
      "WARNING:tensorflow:Unresolved object in checkpoint: (root).optimizer.beta_2\n",
      "WARNING:tensorflow:Unresolved object in checkpoint: (root).optimizer.decay\n",
      "WARNING:tensorflow:Unresolved object in checkpoint: (root).optimizer.learning_rate\n",
      "WARNING:tensorflow:A checkpoint was restored (e.g. tf.train.Checkpoint.restore or tf.keras.Model.load_weights) but not all checkpointed values were used. See above for specific issues. Use expect_partial() on the load status object, e.g. tf.train.Checkpoint.restore(...).expect_partial(), to silence these warnings, or use assert_consumed() to make the check explicit. See https://www.tensorflow.org/alpha/guide/checkpoints#loading_mechanics for details.\n",
      "Model: \"sequential_27\"\n",
      "_________________________________________________________________\n",
      "Layer (type)                 Output Shape              Param #   \n",
      "=================================================================\n",
      "dense_81 (Dense)             (None, 512)               401920    \n",
      "_________________________________________________________________\n",
      "dropout_30 (Dropout)         (None, 512)               0         \n",
      "_________________________________________________________________\n",
      "dense_82 (Dense)             (None, 512)               262656    \n",
      "_________________________________________________________________\n",
      "dropout_31 (Dropout)         (None, 512)               0         \n",
      "_________________________________________________________________\n",
      "dense_83 (Dense)             (None, 10)                5130      \n",
      "=================================================================\n",
      "Total params: 669,706\n",
      "Trainable params: 669,706\n",
      "Non-trainable params: 0\n",
      "_________________________________________________________________\n"
     ]
    }
   ],
   "source": [
    "new_model = keras.models.load_model('my_model.h5')\n",
    "new_model.summary()"
   ]
  },
  {
   "cell_type": "code",
   "execution_count": 65,
   "metadata": {},
   "outputs": [
    {
     "name": "stdout",
     "output_type": "stream",
     "text": [
      "1000/1 - 0s - loss: 0.3660 - accuracy: 0.8580\n",
      "복원된 모델의 정확도: 85.80%\n"
     ]
    }
   ],
   "source": [
    "loss, acc = new_model.evaluate(test_images,  test_labels, verbose=2)\n",
    "print(\"복원된 모델의 정확도: {:5.2f}%\".format(100*acc))"
   ]
  },
  {
   "cell_type": "markdown",
   "metadata": {},
   "source": [
    "m = tf.keras.models.Sequential()\n",
    "m.save() # save_format -> HDF5로 저장할 수 있다."
   ]
  },
  {
   "cell_type": "markdown",
   "metadata": {},
   "source": [
    "텐서플로, 케라스 쓸 때 save 다른 옵션 써서 구분할 수 있다 케라스에서 썼는데, 텐서플로로 안되는 경우도 있다. HDF 파일 쓰는게 가장 좋은 방식이다."
   ]
  },
  {
   "cell_type": "markdown",
   "metadata": {},
   "source": [
    "# 사이킷런으로 모델 저장하기\n",
    "\n",
    "사이킷런과 케라스를 상호 연동해서 배워본다."
   ]
  },
  {
   "cell_type": "code",
   "execution_count": 66,
   "metadata": {},
   "outputs": [],
   "source": [
    "from sklearn.datasets import load_iris\n",
    "from sklearn.neural_network import MLPClassifier\n",
    "\n",
    "mlp = MLPClassifier()"
   ]
  },
  {
   "cell_type": "code",
   "execution_count": 67,
   "metadata": {},
   "outputs": [],
   "source": [
    "data = load_iris()"
   ]
  },
  {
   "cell_type": "markdown",
   "metadata": {},
   "source": [
    "사이킷에서 제공하는 너무나 매력적인 기능들이 많은데, 크로스 밸리데이션 등.. 이걸 케라스에서 사용하고 싶은데, 그래서 케라스 쪽에서 인터페이스를 만들었다. 사이킷은 base 모델을 상속받아서 하나씩 만들었는데, 이거하고 똑같은 것을 아예 케라스 자체에 포함시켰다. "
   ]
  },
  {
   "cell_type": "code",
   "execution_count": 68,
   "metadata": {
    "scrolled": true
   },
   "outputs": [],
   "source": [
    "from tensorflow.keras.wrappers.scikit_learn import KerasClassifier\n",
    "from tensorflow.keras.models import Sequential\n",
    "from tensorflow.keras.layers import Dense"
   ]
  },
  {
   "cell_type": "code",
   "execution_count": 69,
   "metadata": {},
   "outputs": [],
   "source": [
    "def create_model():\n",
    "    from tensorflow.keras.models import Sequential\n",
    "    from tensorflow.keras.layers import Dense\n",
    "    model = Sequential()\n",
    "    model.add(Dense(64, input_shape = (4,), activation = 'relu'))\n",
    "    model.add(Dense(64, activation = 'relu'))\n",
    "    model.add(Dense(4, activation = 'softmax'))\n",
    "    \n",
    "    model.compile(loss = 'sparse_categorical_crossentropy',\n",
    "                 optimizer = 'adam',\n",
    "                 metrics = ['acc'])\n",
    "    return model"
   ]
  },
  {
   "cell_type": "code",
   "execution_count": 70,
   "metadata": {},
   "outputs": [],
   "source": [
    "mlp_k = KerasClassifier(create_model) # 위에서 만든 인캡슐레이션 된 모델을 던진다."
   ]
  },
  {
   "cell_type": "markdown",
   "metadata": {},
   "source": [
    "이제 이걸로 모델을 학습시킬 수 있다."
   ]
  },
  {
   "cell_type": "code",
   "execution_count": 71,
   "metadata": {},
   "outputs": [
    {
     "name": "stdout",
     "output_type": "stream",
     "text": [
      "Train on 150 samples\n",
      "Epoch 1/5\n",
      "150/150 [==============================] - 0s 2ms/sample - loss: 1.8462 - acc: 0.3333\n",
      "Epoch 2/5\n",
      "150/150 [==============================] - 0s 113us/sample - loss: 1.3579 - acc: 0.2133\n",
      "Epoch 3/5\n",
      "150/150 [==============================] - 0s 113us/sample - loss: 1.1198 - acc: 0.3333\n",
      "Epoch 4/5\n",
      "150/150 [==============================] - 0s 106us/sample - loss: 1.0152 - acc: 0.3333\n",
      "Epoch 5/5\n",
      "150/150 [==============================] - 0s 100us/sample - loss: 0.9186 - acc: 0.3400\n"
     ]
    },
    {
     "data": {
      "text/plain": [
       "<tensorflow.python.keras.callbacks.History at 0x1121cbe7908>"
      ]
     },
     "execution_count": 71,
     "metadata": {},
     "output_type": "execute_result"
    }
   ],
   "source": [
    "mlp_k.fit(data.data, data.target, epochs = 5)"
   ]
  },
  {
   "cell_type": "markdown",
   "metadata": {},
   "source": [
    "케라스 처럼 내 마음대로 구조를 잡았으면 좋겠어서"
   ]
  },
  {
   "cell_type": "code",
   "execution_count": 72,
   "metadata": {},
   "outputs": [],
   "source": [
    "from sklearn.model_selection import cross_val_score"
   ]
  },
  {
   "cell_type": "code",
   "execution_count": 73,
   "metadata": {},
   "outputs": [
    {
     "name": "stdout",
     "output_type": "stream",
     "text": [
      "Train on 135 samples\n",
      "Epoch 1/5\n",
      "135/135 [==============================] - 0s 2ms/sample - loss: 1.2387 - acc: 0.3704\n",
      "Epoch 2/5\n",
      "135/135 [==============================] - 0s 125us/sample - loss: 0.9956 - acc: 0.4593\n",
      "Epoch 3/5\n",
      "135/135 [==============================] - 0s 118us/sample - loss: 0.8851 - acc: 0.5556\n",
      "Epoch 4/5\n",
      "135/135 [==============================] - 0s 126us/sample - loss: 0.7889 - acc: 0.8148\n",
      "Epoch 5/5\n",
      "135/135 [==============================] - 0s 140us/sample - loss: 0.7082 - acc: 0.6815\n",
      "15/1 [==================================================================================================================================================================================================================================================================================================================================================================================================================================================================] - 0s 4ms/sample - loss: 0.5576 - acc: 1.0000\n",
      "Train on 135 samples\n",
      "Epoch 1/5\n",
      "135/135 [==============================] - 0s 2ms/sample - loss: 1.4568 - acc: 0.2741\n",
      "Epoch 2/5\n",
      "135/135 [==============================] - 0s 133us/sample - loss: 1.1371 - acc: 0.4296\n",
      "Epoch 3/5\n",
      "135/135 [==============================] - 0s 133us/sample - loss: 1.0089 - acc: 0.3704\n",
      "Epoch 4/5\n",
      "135/135 [==============================] - 0s 118us/sample - loss: 0.9282 - acc: 0.4148\n",
      "Epoch 5/5\n",
      "135/135 [==============================] - 0s 126us/sample - loss: 0.8561 - acc: 0.7704\n",
      "15/1 [==================================================================================================================================================================================================================================================================================================================================================================================================================================================================] - 0s 6ms/sample - loss: 0.9742 - acc: 1.0000\n",
      "Train on 135 samples\n",
      "Epoch 1/5\n",
      "135/135 [==============================] - 0s 2ms/sample - loss: 2.0117 - acc: 0.0074\n",
      "Epoch 2/5\n",
      "135/135 [==============================] - 0s 118us/sample - loss: 1.4051 - acc: 0.2667\n",
      "Epoch 3/5\n",
      "135/135 [==============================] - 0s 133us/sample - loss: 1.1120 - acc: 0.4222\n",
      "Epoch 4/5\n",
      "135/135 [==============================] - 0s 133us/sample - loss: 0.9924 - acc: 0.3778\n",
      "Epoch 5/5\n",
      "135/135 [==============================] - 0s 133us/sample - loss: 0.9059 - acc: 0.4370\n",
      "15/1 [==================================================================================================================================================================================================================================================================================================================================================================================================================================================================] - 0s 4ms/sample - loss: 1.0469 - acc: 0.7333\n",
      "Train on 135 samples\n",
      "Epoch 1/5\n",
      "135/135 [==============================] - 0s 2ms/sample - loss: 1.7194 - acc: 0.2963\n",
      "Epoch 2/5\n",
      "135/135 [==============================] - 0s 125us/sample - loss: 1.2739 - acc: 0.4519\n",
      "Epoch 3/5\n",
      "135/135 [==============================] - 0s 126us/sample - loss: 1.0472 - acc: 0.7037\n",
      "Epoch 4/5\n",
      "135/135 [==============================] - 0s 133us/sample - loss: 0.9432 - acc: 0.7037\n",
      "Epoch 5/5\n",
      "135/135 [==============================] - 0s 140us/sample - loss: 0.8729 - acc: 0.7037\n",
      "15/1 [==================================================================================================================================================================================================================================================================================================================================================================================================================================================================] - 0s 5ms/sample - loss: 1.0272 - acc: 0.3333\n",
      "Train on 135 samples\n",
      "Epoch 1/5\n",
      "135/135 [==============================] - 0s 2ms/sample - loss: 1.9020 - acc: 0.0000e+00\n",
      "Epoch 2/5\n",
      "135/135 [==============================] - 0s 126us/sample - loss: 1.3381 - acc: 0.3259\n",
      "Epoch 3/5\n",
      "135/135 [==============================] - 0s 111us/sample - loss: 1.0933 - acc: 0.4741\n",
      "Epoch 4/5\n",
      "135/135 [==============================] - 0s 118us/sample - loss: 0.9777 - acc: 0.7407\n",
      "Epoch 5/5\n",
      "135/135 [==============================] - 0s 118us/sample - loss: 0.8986 - acc: 0.7407\n",
      "15/1 [==================================================================================================================================================================================================================================================================================================================================================================================================================================================================] - 0s 5ms/sample - loss: 1.5319 - acc: 0.0000e+00\n",
      "Train on 135 samples\n",
      "Epoch 1/5\n",
      "135/135 [==============================] - 0s 2ms/sample - loss: 2.0008 - acc: 0.3704\n",
      "Epoch 2/5\n",
      "135/135 [==============================] - 0s 126us/sample - loss: 1.4122 - acc: 0.4222\n",
      "Epoch 3/5\n",
      "135/135 [==============================] - 0s 126us/sample - loss: 1.1472 - acc: 0.5778\n",
      "Epoch 4/5\n",
      "135/135 [==============================] - 0s 126us/sample - loss: 0.9967 - acc: 0.7259\n",
      "Epoch 5/5\n",
      "135/135 [==============================] - 0s 133us/sample - loss: 0.8884 - acc: 0.7407\n",
      "15/1 [==================================================================================================================================================================================================================================================================================================================================================================================================================================================================] - 0s 5ms/sample - loss: 1.2453 - acc: 0.0000e+00\n",
      "Train on 135 samples\n",
      "Epoch 1/5\n",
      "135/135 [==============================] - 0s 2ms/sample - loss: 1.6786 - acc: 0.3333\n",
      "Epoch 2/5\n",
      "135/135 [==============================] - 0s 126us/sample - loss: 1.2307 - acc: 0.4444\n",
      "Epoch 3/5\n",
      "135/135 [==============================] - 0s 140us/sample - loss: 0.9965 - acc: 0.7481\n",
      "Epoch 4/5\n",
      "135/135 [==============================] - 0s 148us/sample - loss: 0.8844 - acc: 0.6667\n",
      "Epoch 5/5\n",
      "135/135 [==============================] - 0s 133us/sample - loss: 0.7759 - acc: 0.8741\n",
      "15/1 [==================================================================================================================================================================================================================================================================================================================================================================================================================================================================] - 0s 4ms/sample - loss: 0.9259 - acc: 0.3333\n",
      "Train on 135 samples\n",
      "Epoch 1/5\n",
      "135/135 [==============================] - 0s 4ms/sample - loss: 1.6046 - acc: 0.2667\n",
      "Epoch 2/5\n",
      "135/135 [==============================] - 0s 111us/sample - loss: 1.2357 - acc: 0.3704\n",
      "Epoch 3/5\n",
      "135/135 [==============================] - 0s 111us/sample - loss: 1.0724 - acc: 0.5037\n",
      "Epoch 4/5\n",
      "135/135 [==============================] - 0s 111us/sample - loss: 0.9559 - acc: 0.7778\n",
      "Epoch 5/5\n",
      "135/135 [==============================] - 0s 118us/sample - loss: 0.8803 - acc: 0.8519\n",
      "15/1 [==================================================================================================================================================================================================================================================================================================================================================================================================================================================================] - 0s 4ms/sample - loss: 0.9253 - acc: 0.2667\n",
      "Train on 135 samples\n",
      "Epoch 1/5\n",
      "135/135 [==============================] - 0s 2ms/sample - loss: 1.4023 - acc: 0.3704\n",
      "Epoch 2/5\n",
      "135/135 [==============================] - 0s 111us/sample - loss: 1.0028 - acc: 0.6667\n",
      "Epoch 3/5\n",
      "135/135 [==============================] - 0s 111us/sample - loss: 0.8696 - acc: 0.7407\n",
      "Epoch 4/5\n",
      "135/135 [==============================] - 0s 111us/sample - loss: 0.7889 - acc: 0.7926\n",
      "Epoch 5/5\n",
      "135/135 [==============================] - 0s 118us/sample - loss: 0.7220 - acc: 0.9630\n",
      "15/1 [==================================================================================================================================================================================================================================================================================================================================================================================================================================================================] - 0s 4ms/sample - loss: 0.7148 - acc: 0.8000\n",
      "Train on 135 samples\n",
      "Epoch 1/5\n",
      "135/135 [==============================] - 0s 2ms/sample - loss: 1.2589 - acc: 0.3704\n",
      "Epoch 2/5\n",
      "135/135 [==============================] - 0s 140us/sample - loss: 1.0914 - acc: 0.6074\n",
      "Epoch 3/5\n",
      "135/135 [==============================] - 0s 126us/sample - loss: 1.0003 - acc: 0.7407\n",
      "Epoch 4/5\n",
      "135/135 [==============================] - 0s 155us/sample - loss: 0.9611 - acc: 0.6741\n",
      "Epoch 5/5\n",
      "135/135 [==============================] - 0s 148us/sample - loss: 0.9035 - acc: 0.7111\n",
      "15/1 [==================================================================================================================================================================================================================================================================================================================================================================================================================================================================] - 0s 4ms/sample - loss: 0.9871 - acc: 0.0000e+00\n"
     ]
    },
    {
     "data": {
      "text/plain": [
       "array([1.        , 1.        , 0.73333335, 0.33333334, 0.        ,\n",
       "       0.        , 0.33333334, 0.26666668, 0.80000001, 0.        ])"
      ]
     },
     "execution_count": 73,
     "metadata": {},
     "output_type": "execute_result"
    }
   ],
   "source": [
    "cross_val_score( KerasClassifier(create_model, epochs = 5), data.data, data.target, cv = 10) # estimator는 모델을 인스턴스화 한 것이다."
   ]
  },
  {
   "cell_type": "code",
   "execution_count": 74,
   "metadata": {},
   "outputs": [],
   "source": [
    "from sklearn.model_selection import learning_curve"
   ]
  },
  {
   "cell_type": "code",
   "execution_count": 75,
   "metadata": {},
   "outputs": [
    {
     "name": "stdout",
     "output_type": "stream",
     "text": [
      "Train on 10 samples\n",
      "Epoch 1/5\n"
     ]
    },
    {
     "name": "stderr",
     "output_type": "stream",
     "text": [
      "C:\\Users\\white\\Anaconda3\\envs\\tf2.0-gpu\\lib\\site-packages\\sklearn\\model_selection\\_split.py:1978: FutureWarning: The default value of cv will change from 3 to 5 in version 0.22. Specify it explicitly to silence this warning.\n",
      "  warnings.warn(CV_WARNING, FutureWarning)\n"
     ]
    },
    {
     "name": "stdout",
     "output_type": "stream",
     "text": [
      "10/10 [==============================] - 0s 28ms/sample - loss: 1.8052 - acc: 0.0000e+00\n",
      "Epoch 2/5\n",
      "10/10 [==============================] - 0s 400us/sample - loss: 1.5796 - acc: 0.0000e+00\n",
      "Epoch 3/5\n",
      "10/10 [==============================] - 0s 500us/sample - loss: 1.3812 - acc: 0.0000e+00\n",
      "Epoch 4/5\n",
      "10/10 [==============================] - 0s 299us/sample - loss: 1.2022 - acc: 0.0000e+00\n",
      "Epoch 5/5\n",
      "10/10 [==============================] - 0s 399us/sample - loss: 1.0392 - acc: 1.0000\n",
      "50/1 [============================================================================================================================================================================================================================================================================================================================================================================================================================================================================================================================================================================================================================================================================================================================================================================================================================================================================================================================================================================================================================================================================================================================================================================================================================================================================================================================================================================================================================================================================================================================================================] - 0s 2ms/sample - loss: 1.0408 - acc: 1.0000\n",
      "10/1 [============================================================================================================================================================================================================================================================================================================] - 0s 397us/sample - loss: 0.8967 - acc: 1.0000\n",
      "Train on 32 samples\n",
      "Epoch 1/5\n",
      "32/32 [==============================] - 0s 8ms/sample - loss: 1.8890 - acc: 0.0000e+00\n",
      "Epoch 2/5\n",
      "32/32 [==============================] - 0s 125us/sample - loss: 1.6380 - acc: 0.0000e+00\n",
      "Epoch 3/5\n",
      "32/32 [==============================] - 0s 94us/sample - loss: 1.4033 - acc: 0.0000e+00\n",
      "Epoch 4/5\n",
      "32/32 [==============================] - 0s 125us/sample - loss: 1.1874 - acc: 0.0000e+00\n",
      "Epoch 5/5\n",
      "32/32 [==============================] - 0s 129us/sample - loss: 0.9932 - acc: 0.9375\n",
      "50/1 [============================================================================================================================================================================================================================================================================================================================================================================================================================================================================================================================================================================================================================================================================================================================================================================================================================================================================================================================================================================================================================================================================================================================================================================================================================================================================================================================================================================================================================================================================================================================================================] - 0s 2ms/sample - loss: 0.7415 - acc: 1.0000\n",
      "32/1 [================================================================================================================================================================================================================================================================================================================================================================================================================================================================================================================================================================================================================================================================================================================================================================================================================================================================================================================================================================================================] - 0s 2ms/sample - loss: 0.8222 - acc: 1.0000\n",
      "Train on 55 samples\n",
      "Epoch 1/5\n",
      "55/55 [==============================] - 0s 5ms/sample - loss: 3.0064 - acc: 0.0909\n",
      "Epoch 2/5\n",
      "55/55 [==============================] - 0s 127us/sample - loss: 2.5132 - acc: 0.0909\n",
      "Epoch 3/5\n",
      "55/55 [==============================] - 0s 152us/sample - loss: 2.0471 - acc: 0.0909\n",
      "Epoch 4/5\n",
      "55/55 [==============================] - 0s 181us/sample - loss: 1.6274 - acc: 0.0909\n",
      "Epoch 5/5\n",
      "55/55 [==============================] - 0s 163us/sample - loss: 1.2888 - acc: 0.0909\n",
      "50/1 [============================================================================================================================================================================================================================================================================================================================================================================================================================================================================================================================================================================================================================================================================================================================================================================================================================================================================================================================================================================================================================================================================================================================================================================================================================================================================================================================================================================================================================================================================================================================================================] - 0s 1ms/sample - loss: 1.5213 - acc: 0.0000e+00\n",
      "55/1 [==================================================================================================================================================================================================================================================================================================================================================================================================================================================================================================================================================================================================================================================================================================================================================================================================================================================================================================================================================================================================================================================================================================================================================================================================================================================================================================================================================================================================================================================================================================================================================================================================================================================================================================================] - 0s 109us/sample - loss: 1.0462 - acc: 0.0909\n"
     ]
    },
    {
     "name": "stdout",
     "output_type": "stream",
     "text": [
      "Train on 77 samples\n",
      "Epoch 1/5\n",
      "77/77 [==============================] - 0s 3ms/sample - loss: 2.1617 - acc: 0.0000e+00\n",
      "Epoch 2/5\n",
      "77/77 [==============================] - 0s 142us/sample - loss: 1.5148 - acc: 0.1039\n",
      "Epoch 3/5\n",
      "77/77 [==============================] - 0s 142us/sample - loss: 1.1614 - acc: 0.6494\n",
      "Epoch 4/5\n",
      "77/77 [==============================] - 0s 142us/sample - loss: 0.9634 - acc: 0.6494\n",
      "Epoch 5/5\n",
      "77/77 [==============================] - 0s 155us/sample - loss: 0.8502 - acc: 0.6494\n",
      "50/1 [============================================================================================================================================================================================================================================================================================================================================================================================================================================================================================================================================================================================================================================================================================================================================================================================================================================================================================================================================================================================================================================================================================================================================================================================================================================================================================================================================================================================================================================================================================================================================================] - 0s 1ms/sample - loss: 0.7836 - acc: 1.0000\n",
      "77/1 [======================================================================================================================================================================================================================================================================================================================================================================================================================================================================================================================================================================================================================================================================================================================================================================================================================================================================================================================================================================================================================================================================================================================================================================================================================================================================================================================================================================================================================================================================================================================================================================================================================================================================================================================================================================================================================================================================================================================================================================================================================================================================================================================================================================================================================================================================================================================================================================================================] - 0s 116us/sample - loss: 0.9698 - acc: 0.6494\n",
      "Train on 100 samples\n",
      "Epoch 1/5\n",
      "100/100 [==============================] - 0s 3ms/sample - loss: 1.1312 - acc: 0.5000\n",
      "Epoch 2/5\n",
      "100/100 [==============================] - 0s 129us/sample - loss: 0.8949 - acc: 0.4300\n",
      "Epoch 3/5\n",
      "100/100 [==============================] - 0s 129us/sample - loss: 0.7880 - acc: 0.5300\n",
      "Epoch 4/5\n",
      "100/100 [==============================] - 0s 140us/sample - loss: 0.7302 - acc: 0.5400\n",
      "Epoch 5/5\n",
      "100/100 [==============================] - 0s 129us/sample - loss: 0.6960 - acc: 0.5000\n",
      "50/1 [============================================================================================================================================================================================================================================================================================================================================================================================================================================================================================================================================================================================================================================================================================================================================================================================================================================================================================================================================================================================================================================================================================================================================================================================================================================================================================================================================================================================================================================================================================================================================================] - 0s 1ms/sample - loss: 0.9719 - acc: 0.0000e+00\n",
      "100/1 [========================================================================================================================================================================================================================================================================================================================================================================================================================================================================================================================================================================================================================================================================================================================================================================================================================================================================================================================================================================================================================================================================================================================================================================================================================================================================================================================================================================================================================================================================================================================================================================================================================================================================================================================================================================================================================================================================================================================================================================================================================================================================================================================================================================================================================================================================================================================================================================================================================================================================================================================================================================================================================================================================================================================================================================================================================================================================================================================================================================================================================================================================================================================] - 0s 99us/sample - loss: 0.6360 - acc: 0.5100\n"
     ]
    },
    {
     "name": "stdout",
     "output_type": "stream",
     "text": [
      "Train on 10 samples\n",
      "Epoch 1/5\n",
      "10/10 [==============================] - 0s 26ms/sample - loss: 0.5468 - acc: 1.0000\n",
      "Epoch 2/5\n",
      "10/10 [==============================] - 0s 497us/sample - loss: 0.4534 - acc: 1.0000\n",
      "Epoch 3/5\n",
      "10/10 [==============================] - 0s 398us/sample - loss: 0.3730 - acc: 1.0000\n",
      "Epoch 4/5\n",
      "10/10 [==============================] - 0s 399us/sample - loss: 0.3045 - acc: 1.0000\n",
      "Epoch 5/5\n",
      "10/10 [==============================] - 0s 398us/sample - loss: 0.2473 - acc: 1.0000\n",
      "50/1 [============================================================================================================================================================================================================================================================================================================================================================================================================================================================================================================================================================================================================================================================================================================================================================================================================================================================================================================================================================================================================================================================================================================================================================================================================================================================================================================================================================================================================================================================================================================================================================] - 0s 1ms/sample - loss: 2.8654 - acc: 0.0000e+00\n",
      "10/1 [============================================================================================================================================================================================================================================================================================================] - 0s 437us/sample - loss: 0.2008 - acc: 1.0000\n",
      "Train on 32 samples\n",
      "Epoch 1/5\n",
      "32/32 [==============================] - 0s 7ms/sample - loss: 1.6751 - acc: 0.0000e+00\n",
      "Epoch 2/5\n",
      "32/32 [==============================] - 0s 119us/sample - loss: 1.4917 - acc: 0.0000e+00\n",
      "Epoch 3/5\n",
      "32/32 [==============================] - 0s 93us/sample - loss: 1.3182 - acc: 0.0000e+00\n",
      "Epoch 4/5\n",
      "32/32 [==============================] - 0s 94us/sample - loss: 1.1549 - acc: 1.0000\n",
      "Epoch 5/5\n",
      "32/32 [==============================] - 0s 124us/sample - loss: 1.0041 - acc: 1.0000\n",
      "50/1 [============================================================================================================================================================================================================================================================================================================================================================================================================================================================================================================================================================================================================================================================================================================================================================================================================================================================================================================================================================================================================================================================================================================================================================================================================================================================================================================================================================================================================================================================================================================================================================] - 0s 2ms/sample - loss: 1.7466 - acc: 0.0000e+00\n",
      "32/1 [================================================================================================================================================================================================================================================================================================================================================================================================================================================================================================================================================================================================================================================================================================================================================================================================================================================================================================================================================================================================] - 0s 2ms/sample - loss: 0.8681 - acc: 1.0000\n",
      "Train on 55 samples\n",
      "Epoch 1/5\n",
      "55/55 [==============================] - 0s 5ms/sample - loss: 2.3578 - acc: 0.0364\n",
      "Epoch 2/5\n",
      "55/55 [==============================] - 0s 145us/sample - loss: 1.9653 - acc: 0.0909\n",
      "Epoch 3/5\n",
      "55/55 [==============================] - 0s 145us/sample - loss: 1.6317 - acc: 0.0364\n",
      "Epoch 4/5\n",
      "55/55 [==============================] - 0s 145us/sample - loss: 1.3290 - acc: 0.0182\n",
      "Epoch 5/5\n",
      "55/55 [==============================] - 0s 145us/sample - loss: 1.0713 - acc: 0.9091\n",
      "50/1 [============================================================================================================================================================================================================================================================================================================================================================================================================================================================================================================================================================================================================================================================================================================================================================================================================================================================================================================================================================================================================================================================================================================================================================================================================================================================================================================================================================================================================================================================================================================================================================] - 0s 1ms/sample - loss: 1.4960 - acc: 0.0000e+00\n",
      "55/1 [==================================================================================================================================================================================================================================================================================================================================================================================================================================================================================================================================================================================================================================================================================================================================================================================================================================================================================================================================================================================================================================================================================================================================================================================================================================================================================================================================================================================================================================================================================================================================================================================================================================================================================================================] - 0s 127us/sample - loss: 0.9512 - acc: 0.9091\n"
     ]
    },
    {
     "name": "stdout",
     "output_type": "stream",
     "text": [
      "Train on 77 samples\n",
      "Epoch 1/5\n",
      "77/77 [==============================] - 0s 4ms/sample - loss: 2.0217 - acc: 0.0000e+00\n",
      "Epoch 2/5\n",
      "77/77 [==============================] - 0s 130us/sample - loss: 1.1866 - acc: 0.2468\n",
      "Epoch 3/5\n",
      "77/77 [==============================] - 0s 142us/sample - loss: 0.7352 - acc: 0.7922\n",
      "Epoch 4/5\n",
      "77/77 [==============================] - 0s 143us/sample - loss: 0.5124 - acc: 1.0000\n",
      "Epoch 5/5\n",
      "77/77 [==============================] - 0s 168us/sample - loss: 0.3921 - acc: 1.0000\n",
      "50/1 [============================================================================================================================================================================================================================================================================================================================================================================================================================================================================================================================================================================================================================================================================================================================================================================================================================================================================================================================================================================================================================================================================================================================================================================================================================================================================================================================================================================================================================================================================================================================================================] - 0s 1ms/sample - loss: 0.5078 - acc: 1.0000\n",
      "77/1 [======================================================================================================================================================================================================================================================================================================================================================================================================================================================================================================================================================================================================================================================================================================================================================================================================================================================================================================================================================================================================================================================================================================================================================================================================================================================================================================================================================================================================================================================================================================================================================================================================================================================================================================================================================================================================================================================================================================================================================================================================================================================================================================================================================================================================================================================================================================================================================================================================] - 0s 104us/sample - loss: 0.3213 - acc: 1.0000\n",
      "Train on 100 samples\n",
      "Epoch 1/5\n",
      "100/100 [==============================] - 0s 3ms/sample - loss: 1.1528 - acc: 0.3600\n",
      "Epoch 2/5\n",
      "100/100 [==============================] - 0s 135us/sample - loss: 0.8455 - acc: 0.6600\n",
      "Epoch 3/5\n",
      "100/100 [==============================] - 0s 170us/sample - loss: 0.6597 - acc: 0.7800\n",
      "Epoch 4/5\n",
      "100/100 [==============================] - 0s 140us/sample - loss: 0.5373 - acc: 1.0000\n",
      "Epoch 5/5\n",
      "100/100 [==============================] - 0s 150us/sample - loss: 0.4466 - acc: 1.0000\n",
      "50/1 [============================================================================================================================================================================================================================================================================================================================================================================================================================================================================================================================================================================================================================================================================================================================================================================================================================================================================================================================================================================================================================================================================================================================================================================================================================================================================================================================================================================================================================================================================================================================================================] - 0s 2ms/sample - loss: 0.5793 - acc: 1.0000\n",
      "100/1 [========================================================================================================================================================================================================================================================================================================================================================================================================================================================================================================================================================================================================================================================================================================================================================================================================================================================================================================================================================================================================================================================================================================================================================================================================================================================================================================================================================================================================================================================================================================================================================================================================================================================================================================================================================================================================================================================================================================================================================================================================================================================================================================================================================================================================================================================================================================================================================================================================================================================================================================================================================================================================================================================================================================================================================================================================================================================================================================================================================================================================================================================================================================================] - 0s 99us/sample - loss: 0.3959 - acc: 1.0000\n"
     ]
    },
    {
     "name": "stdout",
     "output_type": "stream",
     "text": [
      "Train on 10 samples\n",
      "Epoch 1/5\n",
      "10/10 [==============================] - 0s 30ms/sample - loss: 1.5356 - acc: 0.0000e+00\n",
      "Epoch 2/5\n",
      "10/10 [==============================] - 0s 399us/sample - loss: 1.3055 - acc: 0.1000\n",
      "Epoch 3/5\n",
      "10/10 [==============================] - 0s 299us/sample - loss: 1.0957 - acc: 1.0000\n",
      "Epoch 4/5\n",
      "10/10 [==============================] - 0s 299us/sample - loss: 0.9090 - acc: 1.0000\n",
      "Epoch 5/5\n",
      "10/10 [==============================] - 0s 399us/sample - loss: 0.7485 - acc: 1.0000\n",
      "50/1 [============================================================================================================================================================================================================================================================================================================================================================================================================================================================================================================================================================================================================================================================================================================================================================================================================================================================================================================================================================================================================================================================================================================================================================================================================================================================================================================================================================================================================================================================================================================================================================] - 0s 1ms/sample - loss: 0.8644 - acc: 0.9200\n",
      "10/1 [============================================================================================================================================================================================================================================================================================================] - 0s 495us/sample - loss: 0.6108 - acc: 1.0000\n",
      "Train on 32 samples\n",
      "Epoch 1/5\n",
      "32/32 [==============================] - 0s 9ms/sample - loss: 1.2348 - acc: 0.0000e+00\n",
      "Epoch 2/5\n",
      "32/32 [==============================] - 0s 125us/sample - loss: 1.0780 - acc: 0.2500\n",
      "Epoch 3/5\n",
      "32/32 [==============================] - 0s 156us/sample - loss: 0.9329 - acc: 1.0000\n",
      "Epoch 4/5\n",
      "32/32 [==============================] - 0s 92us/sample - loss: 0.8019 - acc: 1.0000\n",
      "Epoch 5/5\n",
      "32/32 [==============================] - 0s 156us/sample - loss: 0.6847 - acc: 1.0000\n",
      "50/1 [============================================================================================================================================================================================================================================================================================================================================================================================================================================================================================================================================================================================================================================================================================================================================================================================================================================================================================================================================================================================================================================================================================================================================================================================================================================================================================================================================================================================================================================================================================================================================================] - 0s 2ms/sample - loss: 2.6826 - acc: 0.0000e+00\n",
      "32/1 [================================================================================================================================================================================================================================================================================================================================================================================================================================================================================================================================================================================================================================================================================================================================================================================================================================================================================================================================================================================================] - 0s 2ms/sample - loss: 0.5805 - acc: 1.0000\n",
      "Train on 55 samples\n",
      "Epoch 1/5\n",
      "55/55 [==============================] - 0s 5ms/sample - loss: 2.6779 - acc: 0.0000e+00\n",
      "Epoch 2/5\n",
      "55/55 [==============================] - 0s 133us/sample - loss: 2.1836 - acc: 0.0000e+00\n",
      "Epoch 3/5\n",
      "55/55 [==============================] - 0s 145us/sample - loss: 1.7577 - acc: 0.0000e+00\n",
      "Epoch 4/5\n",
      "55/55 [==============================] - 0s 145us/sample - loss: 1.3989 - acc: 0.0000e+00\n",
      "Epoch 5/5\n",
      "55/55 [==============================] - 0s 145us/sample - loss: 1.1172 - acc: 0.4727\n",
      "50/1 [============================================================================================================================================================================================================================================================================================================================================================================================================================================================================================================================================================================================================================================================================================================================================================================================================================================================================================================================================================================================================================================================================================================================================================================================================================================================================================================================================================================================================================================================================================================================================================] - 0s 1ms/sample - loss: 3.1335 - acc: 0.0000e+00\n",
      "55/1 [==================================================================================================================================================================================================================================================================================================================================================================================================================================================================================================================================================================================================================================================================================================================================================================================================================================================================================================================================================================================================================================================================================================================================================================================================================================================================================================================================================================================================================================================================================================================================================================================================================================================================================================================] - 0s 127us/sample - loss: 0.9556 - acc: 0.9091\n"
     ]
    },
    {
     "name": "stdout",
     "output_type": "stream",
     "text": [
      "Train on 77 samples\n",
      "Epoch 1/5\n",
      "77/77 [==============================] - 1s 7ms/sample - loss: 1.2720 - acc: 0.3506\n",
      "Epoch 2/5\n",
      "77/77 [==============================] - 0s 155us/sample - loss: 0.9367 - acc: 0.3506\n",
      "Epoch 3/5\n",
      "77/77 [==============================] - 0s 142us/sample - loss: 0.7201 - acc: 0.9610\n",
      "Epoch 4/5\n",
      "77/77 [==============================] - 0s 130us/sample - loss: 0.5951 - acc: 0.7143\n",
      "Epoch 5/5\n",
      "77/77 [==============================] - 0s 130us/sample - loss: 0.5132 - acc: 0.6883\n",
      "50/1 [============================================================================================================================================================================================================================================================================================================================================================================================================================================================================================================================================================================================================================================================================================================================================================================================================================================================================================================================================================================================================================================================================================================================================================================================================================================================================================================================================================================================================================================================================================================================================================] - 0s 1ms/sample - loss: 3.8622 - acc: 0.0000e+00\n",
      "77/1 [======================================================================================================================================================================================================================================================================================================================================================================================================================================================================================================================================================================================================================================================================================================================================================================================================================================================================================================================================================================================================================================================================================================================================================================================================================================================================================================================================================================================================================================================================================================================================================================================================================================================================================================================================================================================================================================================================================================================================================================================================================================================================================================================================================================================================================================================================================================================================================================================================] - 0s 116us/sample - loss: 0.5885 - acc: 0.8442\n",
      "Train on 100 samples\n",
      "Epoch 1/5\n",
      "100/100 [==============================] - 0s 3ms/sample - loss: 1.1292 - acc: 0.5000\n",
      "Epoch 2/5\n",
      "100/100 [==============================] - 0s 140us/sample - loss: 0.7827 - acc: 0.8800\n",
      "Epoch 3/5\n",
      "100/100 [==============================] - 0s 145us/sample - loss: 0.5711 - acc: 1.0000\n",
      "Epoch 4/5\n",
      "100/100 [==============================] - 0s 140us/sample - loss: 0.4541 - acc: 1.0000\n",
      "Epoch 5/5\n",
      "100/100 [==============================] - 0s 150us/sample - loss: 0.3756 - acc: 1.0000\n",
      "50/1 [============================================================================================================================================================================================================================================================================================================================================================================================================================================================================================================================================================================================================================================================================================================================================================================================================================================================================================================================================================================================================================================================================================================================================================================================================================================================================================================================================================================================================================================================================================================================================================] - 0s 1ms/sample - loss: 4.5613 - acc: 0.0000e+00\n",
      "100/1 [========================================================================================================================================================================================================================================================================================================================================================================================================================================================================================================================================================================================================================================================================================================================================================================================================================================================================================================================================================================================================================================================================================================================================================================================================================================================================================================================================================================================================================================================================================================================================================================================================================================================================================================================================================================================================================================================================================================================================================================================================================================================================================================================================================================================================================================================================================================================================================================================================================================================================================================================================================================================================================================================================================================================================================================================================================================================================================================================================================================================================================================================================================================================] - 0s 90us/sample - loss: 0.3206 - acc: 1.0000\n"
     ]
    }
   ],
   "source": [
    "train_size, train_score, test_score = learning_curve(KerasClassifier(create_model, epochs = 5), data.data, data.target)"
   ]
  },
  {
   "cell_type": "code",
   "execution_count": 76,
   "metadata": {},
   "outputs": [],
   "source": [
    "# !pip install sklearn_evaluation"
   ]
  },
  {
   "cell_type": "code",
   "execution_count": 77,
   "metadata": {
    "scrolled": true
   },
   "outputs": [],
   "source": [
    "import sklearn_evaluation"
   ]
  },
  {
   "cell_type": "code",
   "execution_count": 78,
   "metadata": {},
   "outputs": [
    {
     "data": {
      "text/plain": [
       "<matplotlib.axes._subplots.AxesSubplot at 0x1121d205388>"
      ]
     },
     "execution_count": 78,
     "metadata": {},
     "output_type": "execute_result"
    },
    {
     "data": {
      "image/png": "[encoded data removed]",
      "text/plain": [
       "<Figure size 432x288 with 1 Axes>"
      ]
     },
     "metadata": {
      "needs_background": "light"
     },
     "output_type": "display_data"
    }
   ],
   "source": [
    "sklearn_evaluation.plot.learning_curve(train_score, test_score, train_size)"
   ]
  },
  {
   "cell_type": "markdown",
   "metadata": {},
   "source": [
    "그래프가 요동치면, 데이터가 부족하다는 것이다. validation score가 요동친다. 그러면 학습이 잘 안되었다는 것이다. 학습이 안되는 수많은 요인들이 있다. 그 중에서 제일 먼저 해결책은 데이터 늘리는 것이다. 위의 그래프는 데이터를 x축으로 삼는 그래프라서 그렇다. 그래서 어느정도 데이터를 모아야 하냐 그러면, 위에서 나오는 것처럼 그래프를 그려보라고 하면 끝이다.\n",
    "\n",
    "내가 어느정도 데이터가 필요한지 어떻게 아느냐? 학습되는 데이터에 따라 어떻게 성능이 바뀌는가 체크를 해봐야 한다. x축은 학습하는 데이터의 양이다. \n",
    "\n",
    "이처럼 사이킷런에서는 파이프라인, 그리드 서치 cv도 쓸 수 있당."
   ]
  },
  {
   "cell_type": "code",
   "execution_count": 79,
   "metadata": {},
   "outputs": [],
   "source": [
    "from sklearn.pipeline import Pipeline\n",
    "from sklearn.preprocessing import StandardScaler"
   ]
  },
  {
   "cell_type": "code",
   "execution_count": 80,
   "metadata": {},
   "outputs": [],
   "source": [
    "# 중요하다. gridsearch cv...\n",
    "sc = StandardScaler()\n",
    "pipe = Pipeline([('sc', sc), ('keras', KerasClassifier(create_model, epochs = 5))] )"
   ]
  },
  {
   "cell_type": "code",
   "execution_count": 81,
   "metadata": {
    "scrolled": true
   },
   "outputs": [
    {
     "name": "stdout",
     "output_type": "stream",
     "text": [
      "Train on 150 samples\n",
      "Epoch 1/5\n",
      "150/150 [==============================] - 0s 2ms/sample - loss: 1.2661 - acc: 0.6200\n",
      "Epoch 2/5\n",
      "150/150 [==============================] - 0s 113us/sample - loss: 1.1163 - acc: 0.8267\n",
      "Epoch 3/5\n",
      "150/150 [==============================] - 0s 113us/sample - loss: 0.9793 - acc: 0.8333\n",
      "Epoch 4/5\n",
      "150/150 [==============================] - 0s 119us/sample - loss: 0.8585 - acc: 0.8333\n",
      "Epoch 5/5\n",
      "150/150 [==============================] - 0s 113us/sample - loss: 0.7544 - acc: 0.8333\n"
     ]
    },
    {
     "data": {
      "text/plain": [
       "Pipeline(memory=None,\n",
       "         steps=[('sc',\n",
       "                 StandardScaler(copy=True, with_mean=True, with_std=True)),\n",
       "                ('keras',\n",
       "                 <tensorflow.python.keras.wrappers.scikit_learn.KerasClassifier object at 0x0000011226F84E88>)],\n",
       "         verbose=False)"
      ]
     },
     "execution_count": 81,
     "metadata": {},
     "output_type": "execute_result"
    }
   ],
   "source": [
    "pipe.fit(data.data, data.target)"
   ]
  },
  {
   "cell_type": "markdown",
   "metadata": {},
   "source": [
    "# CNN 개념\n",
    "\n",
    "https://www.tensorflow.org/tutorials/images/cnn\n",
    "\n",
    "특징을 추출해서 특징 자체를 학습시키는 기법이다. 그래서 어떤 이미지가 들어왔을 때, 그 특징이 있으면 특정 값으로 예측을 한다. 핵심은 특징을 학습시키는 것이라고 알고 있으면 된다. 1. 특징추출 2. 예측 이렇게 2파트로 구분된다고 보면 된다.\n",
    "\n",
    "컴볼루션 레이어를 계속 거치다 보면, 구체적인 특징에서 추상적인 특징을 잡아낸다. 추상적인 특징을 잘 잡아낼 수록 성능이 좋다고 한다. 그런데 추상적인 특징은 크기가 더 작아도 상관없다. 그 특징을 작게 잡아도, 그 특징은 유지되지만 계산복잡도는 훨씬 줄어든다. 그래서 어쩔 수 없이 크기를 줄이는 방법을 많이 사용했다. 그렇게 뽑아낸 특징으로 분류하는 것은 기계학습 알고리즘과 동일하다!\n",
    "\n",
    "CNN이란 결국 특징을 잘 잡아주는 컨볼루션들을 찾아내는 것이다. 조심해야 할 것은 이미지가 3차원이 되어야 한다는 것이다. 뎁스가 필요하다. 3차원 연산이 필요해서 차원도 3차원이 되어야 한다. 조심할 것."
   ]
  },
  {
   "cell_type": "code",
   "execution_count": 82,
   "metadata": {},
   "outputs": [],
   "source": [
    "from tensorflow.keras import datasets, layers, models"
   ]
  },
  {
   "cell_type": "code",
   "execution_count": 93,
   "metadata": {
    "scrolled": true
   },
   "outputs": [],
   "source": [
    "(train_images, train_labels), (test_images, test_labels) = datasets.mnist.load_data()\n",
    "\n",
    "train_images = train_images.reshape((60000, 28, 28, 1))\n",
    "test_images = test_images.reshape((10000, 28, 28, 1))\n",
    "\n",
    "# 픽셀 값을 0~1 사이로 정규화합니다.\n",
    "train_images, test_images = train_images / 255.0, test_images / 255.0"
   ]
  },
  {
   "cell_type": "markdown",
   "metadata": {},
   "source": [
    "### 합성곱 층 만들기\n",
    "\n",
    "특성을 뽑아낼 때, 연산복잡도 때문에 크기를 줄였었다. 그 때, 특성을 유지하는 방법을 pooling이라고 한다. 맥스 풀링은 그 중에서 가장 큰 것으로 잡아서 넣는 것이다. 뚜렷한 특성은 값이 크다. 그래서 특성 유지할 때, 가장 효율적인 방법은 맥스풀링인 것이다. 가끔 에버리지풀링을 쓰긴 하는데, 이건 논외로 한다. 맥스풀링을 쓰면, 크기는 줄여도 이미지의 고유 특징은 유지할 수 있다.\n",
    "\n",
    "레이어에 conv1D, conv2D가 있다. 자연어처리는 conv1D를 써야해서. 그런데 우리는 이미지 처리기 때문에 conv2D를 사용할 것이다."
   ]
  },
  {
   "cell_type": "code",
   "execution_count": 94,
   "metadata": {},
   "outputs": [],
   "source": [
    "from tensorflow.keras.models import Sequential\n",
    "from tensorflow.keras.layers import MaxPool2D, Conv2D, Flatten, Dense\n",
    "\n",
    "def create_model():\n",
    "    model = Sequential()\n",
    "    model.add(Conv2D(32, (3, 3), activation = 'relu', input_shape = (28, 28, 1)))\n",
    "    model.add(layers.MaxPooling2D((2, 2))) # 속도는 빠르게 하지만, 성능은 별로 차이 x\n",
    "    model.add(layers.Conv2D(64, (3, 3), activation='relu')) # 32개 특성을 세분화\n",
    "    model.add(layers.MaxPooling2D((2, 2)))\n",
    "    model.add(layers.Conv2D(64, (3, 3), activation='relu'))\n",
    "    \n",
    "    model.add(layers.Flatten())\n",
    "    model.add(layers.Dense(64, activation='relu'))\n",
    "    model.add(layers.Dense(10, activation='softmax'))\n",
    "    \n",
    "    return model"
   ]
  },
  {
   "cell_type": "code",
   "execution_count": 67,
   "metadata": {},
   "outputs": [],
   "source": [
    "model2 = models.Sequential()\n",
    "# input shape가 3차원인 것에 주목\n",
    "model2.add(layers.Conv2D(32, (3, 3), activation='relu', input_shape=(28, 28, 1)))\n",
    "model2.add(layers.MaxPooling2D((2, 2))) # 속도는 빠르게 하지만, 성능은 별로 차이 x\n",
    "model2.add(layers.Conv2D(64, (3, 3), activation='relu')) # 32개 특성을 세분화\n",
    "model2.add(layers.MaxPooling2D((2, 2)))\n",
    "model2.add(layers.Conv2D(64, (3, 3), activation='relu'))\n",
    "\n",
    "# 전통적인 머신러닝 방법에 쓰기 위해 flatten 시킴.\n",
    "model2.add(layers.Flatten())\n",
    "model2.add(layers.Dense(64, activation='relu'))\n",
    "model2.add(layers.Dense(10, activation='softmax'))"
   ]
  },
  {
   "cell_type": "code",
   "execution_count": 95,
   "metadata": {},
   "outputs": [
    {
     "name": "stdout",
     "output_type": "stream",
     "text": [
      "Model: \"sequential_56\"\n",
      "_________________________________________________________________\n",
      "Layer (type)                 Output Shape              Param #   \n",
      "=================================================================\n",
      "conv2d_3 (Conv2D)            (None, 26, 26, 32)        320       \n",
      "_________________________________________________________________\n",
      "max_pooling2d_2 (MaxPooling2 (None, 13, 13, 32)        0         \n",
      "_________________________________________________________________\n",
      "conv2d_4 (Conv2D)            (None, 11, 11, 64)        18496     \n",
      "_________________________________________________________________\n",
      "max_pooling2d_3 (MaxPooling2 (None, 5, 5, 64)          0         \n",
      "_________________________________________________________________\n",
      "conv2d_5 (Conv2D)            (None, 3, 3, 64)          36928     \n",
      "_________________________________________________________________\n",
      "flatten_1 (Flatten)          (None, 576)               0         \n",
      "_________________________________________________________________\n",
      "dense_167 (Dense)            (None, 64)                36928     \n",
      "_________________________________________________________________\n",
      "dense_168 (Dense)            (None, 10)                650       \n",
      "=================================================================\n",
      "Total params: 93,322\n",
      "Trainable params: 93,322\n",
      "Non-trainable params: 0\n",
      "_________________________________________________________________\n"
     ]
    }
   ],
   "source": [
    "model = create_model()\n",
    "model.summary()"
   ]
  },
  {
   "cell_type": "code",
   "execution_count": 98,
   "metadata": {},
   "outputs": [],
   "source": [
    "model.compile(optimizer='adam',\n",
    "              loss='sparse_categorical_crossentropy',\n",
    "              metrics=['accuracy'])"
   ]
  },
  {
   "cell_type": "code",
   "execution_count": 100,
   "metadata": {},
   "outputs": [
    {
     "name": "stdout",
     "output_type": "stream",
     "text": [
      "Train on 60000 samples\n",
      "Epoch 1/5\n",
      "60000/60000 [==============================] - 6s 103us/sample - loss: 0.0162 - accuracy: 0.9947\n",
      "Epoch 2/5\n",
      "60000/60000 [==============================] - ETA: 0s - loss: 0.0129 - accuracy: 0.99 - 6s 93us/sample - loss: 0.0129 - accuracy: 0.9958\n",
      "Epoch 3/5\n",
      "60000/60000 [==============================] - 6s 93us/sample - loss: 0.0117 - accuracy: 0.9964s - los\n",
      "Epoch 4/5\n",
      "60000/60000 [==============================] - 6s 93us/sample - loss: 0.0091 - accuracy: 0.9970\n",
      "Epoch 5/5\n",
      "60000/60000 [==============================] - 6s 93us/sample - loss: 0.0086 - accuracy: 0.9974\n"
     ]
    },
    {
     "data": {
      "text/plain": [
       "<tensorflow.python.keras.callbacks.History at 0x11058a10c48>"
      ]
     },
     "execution_count": 100,
     "metadata": {},
     "output_type": "execute_result"
    }
   ],
   "source": [
    "model.fit(train_images, train_labels, epochs=5)"
   ]
  },
  {
   "cell_type": "code",
   "execution_count": 102,
   "metadata": {},
   "outputs": [
    {
     "name": "stdout",
     "output_type": "stream",
     "text": [
      "10000/1 - 1s - loss: 0.0164 - accuracy: 0.9928\n"
     ]
    }
   ],
   "source": [
    "test_loss, test_acc = model.evaluate(test_images,  test_labels, verbose=2)"
   ]
  },
  {
   "cell_type": "code",
   "execution_count": 103,
   "metadata": {
    "scrolled": false
   },
   "outputs": [
    {
     "name": "stdout",
     "output_type": "stream",
     "text": [
      "0.9928\n"
     ]
    }
   ],
   "source": [
    "print(test_acc)"
   ]
  },
  {
   "cell_type": "markdown",
   "metadata": {},
   "source": [
    "### 컨볼루션 종류\n",
    "\n",
    "활성화 함수에 렐루를 쓰는 이유는 오버피팅 막을려고 그런다."
   ]
  },
  {
   "cell_type": "code",
   "execution_count": 40,
   "metadata": {},
   "outputs": [
    {
     "data": {
      "text/plain": [
       "True"
      ]
     },
     "execution_count": 40,
     "metadata": {},
     "output_type": "execute_result"
    }
   ],
   "source": [
    "from tensorflow.keras.layers import Conv2D, Convolution2D\n",
    "\n",
    "Conv2D is Convolution2D # 똑같은거다."
   ]
  },
  {
   "cell_type": "markdown",
   "metadata": {},
   "source": [
    "feature를 잘 못뽑는다면, 레이어를 늘려서 성능을 높이는 경우도 있다. (딥) "
   ]
  },
  {
   "cell_type": "markdown",
   "metadata": {},
   "source": [
    "# 오버피팅에 관하여\n",
    "\n",
    "딥러닝의 가장 무서운 적이 오버피팅이다. 오버피팅은 왜 생기냐? 모델이 복잡하면 복잡할 수록 잘 생긴다. 노드 개수, 깊이가 많아지면 많아질수록 오버피팅이 잘 생긴다. 노드가 많을 수록, 레이어가 많을 수록, 에폭을 많이 돌릴수록 오버피팅이 잘 생긴다. 그래서 오버피팅을 막기 위한 수많은 방법을 써야 한다.\n",
    "\n",
    "첫번째 방법은 가장 좋은 방법은 패털티를 주는 것이다. l1, l2 패털티를 레이어에 줘서 오버피팅을 막을 수 있다. 이건 Dense에 있다. \n",
    "\n",
    "두번째 방법은 드롭아웃을 쓰는 것이다. 상당히 유명함! 에폭을 많이 돌릴수록 성능이 좋아지는데, 그 성능이 오버피팅 되어버린다. 그 공부를 랜덤하게 대충 못하도록 막아버린다. 모델이 너무 복잡해지는 것을 방지해버린다. 케라스에서 드랍아웃은 레이어 뒤에 추가하면 된다. 이 방법은 스테이트 머신 개념이다. matplotlib에서 나온 것이다. 이렇게 하면 공부를 많이 안하니까 오버피팅이 작게 생긴다.\n",
    "\n",
    "세번째 방법은 얼리스탑핑\n",
    "\n",
    "네번째는 앙상블 시켜서, 오버피팅 막을 수 있다.\n",
    "\n",
    "---\n",
    "\n",
    "컨볼루션의 장점\n",
    "\n",
    "1. 공간적인 정보를 가지고 한다.\n",
    "2. 에폭을 적게 돌려도 된다."
   ]
  },
  {
   "cell_type": "code",
   "execution_count": null,
   "metadata": {},
   "outputs": [],
   "source": [
    "Dense()"
   ]
  }
 ],
 "metadata": {
  "kernelspec": {
   "display_name": "Tensorflow2.0-GPU",
   "language": "python",
   "name": "tf2.0-gpu"
  },
  "language_info": {
   "codemirror_mode": {
    "name": "ipython",
    "version": 3
   },
   "file_extension": ".py",
   "mimetype": "text/x-python",
   "name": "python",
   "nbconvert_exporter": "python",
   "pygments_lexer": "ipython3",
   "version": "3.7.5"
  }
 },
 "nbformat": 4,
 "nbformat_minor": 2
}
