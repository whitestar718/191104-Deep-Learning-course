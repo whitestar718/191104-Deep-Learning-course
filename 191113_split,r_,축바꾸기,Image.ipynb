{
 "cells": [
  {
   "cell_type": "code",
   "execution_count": 2,
   "metadata": {},
   "outputs": [],
   "source": [
    "import numpy as np"
   ]
  },
  {
   "cell_type": "code",
   "execution_count": 2,
   "metadata": {},
   "outputs": [
    {
     "data": {
      "text/plain": [
       "array([[ 0,  1,  2,  3,  4,  5,  6,  7,  8,  9],\n",
       "       [10, 11, 12, 13, 14, 15, 16, 17, 18, 19],\n",
       "       [20, 21, 22, 23, 24, 25, 26, 27, 28, 29],\n",
       "       [30, 31, 32, 33, 34, 35, 36, 37, 38, 39],\n",
       "       [40, 41, 42, 43, 44, 45, 46, 47, 48, 49],\n",
       "       [50, 51, 52, 53, 54, 55, 56, 57, 58, 59],\n",
       "       [60, 61, 62, 63, 64, 65, 66, 67, 68, 69],\n",
       "       [70, 71, 72, 73, 74, 75, 76, 77, 78, 79],\n",
       "       [80, 81, 82, 83, 84, 85, 86, 87, 88, 89],\n",
       "       [90, 91, 92, 93, 94, 95, 96, 97, 98, 99]])"
      ]
     },
     "execution_count": 2,
     "metadata": {},
     "output_type": "execute_result"
    }
   ],
   "source": [
    "a = np.arange(100).reshape(10,10)\n",
    "a"
   ]
  },
  {
   "cell_type": "markdown",
   "metadata": {},
   "source": [
    "# 차원에 관하여\n",
    "\n",
    "1. split (h, v, d)\n",
    "2. raval: view / flatten (copy)\n",
    "3. r_, c_, s_\n",
    "\n",
    "### 피처 셀렉션 방식 3가지 (참고)\n",
    "\n",
    "필터방식, 렛 방식, 임베디드 방식"
   ]
  },
  {
   "cell_type": "code",
   "execution_count": 3,
   "metadata": {},
   "outputs": [],
   "source": [
    "np.newaxis # output이 안나온다. None하고 똑같다."
   ]
  },
  {
   "cell_type": "code",
   "execution_count": 4,
   "metadata": {},
   "outputs": [
    {
     "data": {
      "text/plain": [
       "array([[1, 2, 3]])"
      ]
     },
     "execution_count": 4,
     "metadata": {},
     "output_type": "execute_result"
    }
   ],
   "source": [
    "a = np.array([1, 2, 3])\n",
    "a[np.newaxis] # 차원을 하나 추가시킨다."
   ]
  },
  {
   "cell_type": "code",
   "execution_count": 5,
   "metadata": {},
   "outputs": [
    {
     "data": {
      "text/plain": [
       "array([[1, 2, 3]])"
      ]
     },
     "execution_count": 5,
     "metadata": {},
     "output_type": "execute_result"
    }
   ],
   "source": [
    "a = np.array([1, 2, 3])\n",
    "a[None] # 이렇게 해도 상관없다."
   ]
  },
  {
   "cell_type": "markdown",
   "metadata": {},
   "source": [
    "새로운 연산자를 추가하는것 -> 연산자 오버로딩이라고 한다. 원래는 [None]이 기본이었는데, 사람들이 이해를 잘 못해가지고 np.newaxis라는 걸 새로 만들어 둔 것이다.\n",
    "\n",
    "주로 4차원 텐서를 쓰게 되는데, (개수, input_shape, 채널) 이렇게 된다. 그런데 원래 이미지는 3차원이기 때문에 이를 4차원으로 변경하기 위해서, 이 newaxis를 추가하게 된다."
   ]
  },
  {
   "cell_type": "code",
   "execution_count": 6,
   "metadata": {},
   "outputs": [
    {
     "name": "stdout",
     "output_type": "stream",
     "text": [
      "(3,)\n",
      "(1, 3)\n"
     ]
    }
   ],
   "source": [
    "print(a.shape)\n",
    "print(a[None].shape) # 제일 큰 곳부터 shape가 생긴다."
   ]
  },
  {
   "cell_type": "markdown",
   "metadata": {},
   "source": [
    "근데 어제 공백이 출력되는걸 봤는데, 그건 도대체 뭔가"
   ]
  },
  {
   "cell_type": "code",
   "execution_count": 7,
   "metadata": {},
   "outputs": [
    {
     "data": {
      "text/plain": [
       "array([[[1, 2],\n",
       "        [3, 4]],\n",
       "\n",
       "       [[1, 2],\n",
       "        [3, 4]]])"
      ]
     },
     "execution_count": 7,
     "metadata": {},
     "output_type": "execute_result"
    }
   ],
   "source": [
    "b = np.array([[[1, 2], [3, 4]], [[1, 2], [3, 4]]])\n",
    "b"
   ]
  },
  {
   "cell_type": "code",
   "execution_count": 8,
   "metadata": {},
   "outputs": [
    {
     "data": {
      "text/plain": [
       "(2, 2, 2)"
      ]
     },
     "execution_count": 8,
     "metadata": {},
     "output_type": "execute_result"
    }
   ],
   "source": [
    "b.shape"
   ]
  },
  {
   "cell_type": "code",
   "execution_count": 10,
   "metadata": {},
   "outputs": [
    {
     "data": {
      "text/plain": [
       "(3, 1)"
      ]
     },
     "execution_count": 10,
     "metadata": {},
     "output_type": "execute_result"
    }
   ],
   "source": [
    "a[:, np.newaxis]\n",
    "a[:, np.newaxis].shape"
   ]
  },
  {
   "cell_type": "code",
   "execution_count": 11,
   "metadata": {},
   "outputs": [
    {
     "data": {
      "text/plain": [
       "array([[0, 1, 2],\n",
       "       [3, 4, 5]])"
      ]
     },
     "execution_count": 11,
     "metadata": {},
     "output_type": "execute_result"
    }
   ],
   "source": [
    "x = np.arange(6).reshape(2,3)\n",
    "x"
   ]
  },
  {
   "cell_type": "code",
   "execution_count": 12,
   "metadata": {},
   "outputs": [
    {
     "data": {
      "text/plain": [
       "(1, 2, 3)"
      ]
     },
     "execution_count": 12,
     "metadata": {},
     "output_type": "execute_result"
    }
   ],
   "source": [
    "x[np.newaxis].shape # 예측할 때, 좀 쓴다."
   ]
  },
  {
   "cell_type": "code",
   "execution_count": 13,
   "metadata": {
    "scrolled": true
   },
   "outputs": [
    {
     "data": {
      "text/plain": [
       "(2, 1, 3)"
      ]
     },
     "execution_count": 13,
     "metadata": {},
     "output_type": "execute_result"
    }
   ],
   "source": [
    "x[:,np.newaxis].shape"
   ]
  },
  {
   "cell_type": "code",
   "execution_count": 14,
   "metadata": {
    "scrolled": false
   },
   "outputs": [
    {
     "data": {
      "text/plain": [
       "(2, 3, 1)"
      ]
     },
     "execution_count": 14,
     "metadata": {},
     "output_type": "execute_result"
    }
   ],
   "source": [
    "x[:, :, np.newaxis].shape # ...을 쓸 수도 있지만, 이것 쓰면 실수가 많아진다고 한다."
   ]
  },
  {
   "cell_type": "markdown",
   "metadata": {},
   "source": [
    "이렇게 새로운 차원이 추가가 된다.\n",
    "\n",
    "머신러닝에서는 SVM 빼고는 차원 늘리는 일이 거의 없다. 차원의 저주 때문에."
   ]
  },
  {
   "cell_type": "code",
   "execution_count": 15,
   "metadata": {},
   "outputs": [
    {
     "data": {
      "text/plain": [
       "array([[0, 1, 2],\n",
       "       [3, 4, 5]])"
      ]
     },
     "execution_count": 15,
     "metadata": {},
     "output_type": "execute_result"
    }
   ],
   "source": [
    "x"
   ]
  },
  {
   "cell_type": "code",
   "execution_count": 16,
   "metadata": {},
   "outputs": [
    {
     "name": "stdout",
     "output_type": "stream",
     "text": [
      "(1, 2, 3)\n"
     ]
    }
   ],
   "source": [
    "np.expand_dims(x, axis = 0)\n",
    "print(np.expand_dims(x, axis = 0).shape) # 이렇게도 쓸 수 있다. 근데 newaxis가 더 짧아서 그거 쓰는 사람도 많다."
   ]
  },
  {
   "cell_type": "markdown",
   "metadata": {},
   "source": [
    "## 브이스택 알바!!\n",
    "## 브이스택 알바!!\n",
    "## 브이스택 알바!!"
   ]
  },
  {
   "cell_type": "code",
   "execution_count": 17,
   "metadata": {
    "scrolled": false
   },
   "outputs": [
    {
     "data": {
      "text/plain": [
       "array([[0, 1, 2],\n",
       "       [3, 4, 5],\n",
       "       [0, 1, 2],\n",
       "       [3, 4, 5]])"
      ]
     },
     "execution_count": 17,
     "metadata": {},
     "output_type": "execute_result"
    }
   ],
   "source": [
    "np.vstack([x, x]) # np.r_와 동일하다."
   ]
  },
  {
   "cell_type": "code",
   "execution_count": 18,
   "metadata": {
    "scrolled": false
   },
   "outputs": [
    {
     "data": {
      "text/plain": [
       "array([[0, 1, 2],\n",
       "       [3, 4, 5],\n",
       "       [0, 1, 2],\n",
       "       [3, 4, 5]])"
      ]
     },
     "execution_count": 18,
     "metadata": {},
     "output_type": "execute_result"
    }
   ],
   "source": [
    "np.r_[x,x] # vstack하고 비슷하지만, row 언더바라고 한다."
   ]
  },
  {
   "cell_type": "code",
   "execution_count": 19,
   "metadata": {},
   "outputs": [
    {
     "data": {
      "text/plain": [
       "array([[0, 1, 2, 0, 1, 2],\n",
       "       [3, 4, 5, 3, 4, 5]])"
      ]
     },
     "execution_count": 19,
     "metadata": {},
     "output_type": "execute_result"
    }
   ],
   "source": [
    "np.c_[x, x] # colunm 언더바이다."
   ]
  },
  {
   "cell_type": "code",
   "execution_count": 20,
   "metadata": {},
   "outputs": [
    {
     "data": {
      "text/plain": [
       "[2, 3]"
      ]
     },
     "execution_count": 20,
     "metadata": {},
     "output_type": "execute_result"
    }
   ],
   "source": [
    "y  = [1, 2, 3, 4, 5]\n",
    "y[1:3] # y[slice(1, 3)] 이렇게도 쓸 수 있다."
   ]
  },
  {
   "cell_type": "code",
   "execution_count": 21,
   "metadata": {},
   "outputs": [
    {
     "data": {
      "text/plain": [
       "(array([[0, 1, 2],\n",
       "        [3, 4, 5]]), array([[0, 1, 2],\n",
       "        [3, 4, 5]]))"
      ]
     },
     "execution_count": 21,
     "metadata": {},
     "output_type": "execute_result"
    }
   ],
   "source": [
    "np.s_[x,x] # 넘파이에서는 이렇게 붙이기도 한다."
   ]
  },
  {
   "cell_type": "markdown",
   "metadata": {},
   "source": [
    "이렇게 연산자를 만들어서 쓰는 이유는 많이 쓰이기 때문이다. \n",
    "\n",
    "참고: [ ]를 인덱서라고 한다."
   ]
  },
  {
   "cell_type": "code",
   "execution_count": 22,
   "metadata": {},
   "outputs": [
    {
     "data": {
      "text/plain": [
       "array([[[0, 1, 2],\n",
       "        [3, 4, 5]]])"
      ]
     },
     "execution_count": 22,
     "metadata": {},
     "output_type": "execute_result"
    }
   ],
   "source": [
    "x = np.arange(6).reshape(2, 3)\n",
    "x[np.newaxis]"
   ]
  },
  {
   "cell_type": "code",
   "execution_count": 23,
   "metadata": {
    "scrolled": true
   },
   "outputs": [
    {
     "data": {
      "text/plain": [
       "array([[[0, 0],\n",
       "        [1, 1],\n",
       "        [2, 2]],\n",
       "\n",
       "       [[3, 3],\n",
       "        [4, 4],\n",
       "        [5, 5]]])"
      ]
     },
     "execution_count": 23,
     "metadata": {},
     "output_type": "execute_result"
    }
   ],
   "source": [
    "np.dstack([x,x]) # 나란히 쌓고 위에서 본다고 생각하면 된다."
   ]
  },
  {
   "cell_type": "code",
   "execution_count": 24,
   "metadata": {
    "scrolled": true
   },
   "outputs": [
    {
     "data": {
      "text/plain": [
       "(2, 3, 2)"
      ]
     },
     "execution_count": 24,
     "metadata": {},
     "output_type": "execute_result"
    }
   ],
   "source": [
    "np.dstack([x,x]).shape"
   ]
  },
  {
   "cell_type": "code",
   "execution_count": 25,
   "metadata": {},
   "outputs": [
    {
     "data": {
      "text/plain": [
       "array([[0, 1, 2],\n",
       "       [3, 4, 5],\n",
       "       [0, 1, 2],\n",
       "       [3, 4, 5]])"
      ]
     },
     "execution_count": 25,
     "metadata": {},
     "output_type": "execute_result"
    }
   ],
   "source": [
    "np.append(x, x, axis = 0) # 이렇게 추가하는 것도 가능하다."
   ]
  },
  {
   "cell_type": "markdown",
   "metadata": {},
   "source": [
    "항상 벡터 연산은 모양 맞춰주는게 기본이기 때문에, 이렇게 많은 기법들이 있다."
   ]
  },
  {
   "cell_type": "markdown",
   "metadata": {},
   "source": [
    "# 트레인 테스트 나누기"
   ]
  },
  {
   "cell_type": "code",
   "execution_count": 27,
   "metadata": {
    "scrolled": true
   },
   "outputs": [
    {
     "name": "stdout",
     "output_type": "stream",
     "text": [
      "def train_test_split(*arrays, **options):\n",
      "    \"\"\"Split arrays or matrices into random train and test subsets\n",
      "\n",
      "    Quick utility that wraps input validation and\n",
      "    ``next(ShuffleSplit().split(X, y))`` and application to input data\n",
      "    into a single call for splitting (and optionally subsampling) data in a\n",
      "    oneliner.\n",
      "\n",
      "    Read more in the :ref:`User Guide <cross_validation>`.\n",
      "\n",
      "    Parameters\n",
      "    ----------\n",
      "    *arrays : sequence of indexables with same length / shape[0]\n",
      "        Allowed inputs are lists, numpy arrays, scipy-sparse\n",
      "        matrices or pandas dataframes.\n",
      "\n",
      "    test_size : float, int or None, optional (default=None)\n",
      "        If float, should be between 0.0 and 1.0 and represent the proportion\n",
      "        of the dataset to include in the test split. If int, represents the\n",
      "        absolute number of test samples. If None, the value is set to the\n",
      "        complement of the train size. If ``train_size`` is also None, it will\n",
      "        be set to 0.25.\n",
      "\n",
      "    train_size : float, int, or None, (default=None)\n",
      "        If float, should be between 0.0 and 1.0 and represent the\n",
      "        proportion of the dataset to include in the train split. If\n",
      "        int, represents the absolute number of train samples. If None,\n",
      "        the value is automatically set to the complement of the test size.\n",
      "\n",
      "    random_state : int, RandomState instance or None, optional (default=None)\n",
      "        If int, random_state is the seed used by the random number generator;\n",
      "        If RandomState instance, random_state is the random number generator;\n",
      "        If None, the random number generator is the RandomState instance used\n",
      "        by `np.random`.\n",
      "\n",
      "    shuffle : boolean, optional (default=True)\n",
      "        Whether or not to shuffle the data before splitting. If shuffle=False\n",
      "        then stratify must be None.\n",
      "\n",
      "    stratify : array-like or None (default=None)\n",
      "        If not None, data is split in a stratified fashion, using this as\n",
      "        the class labels.\n",
      "\n",
      "    Returns\n",
      "    -------\n",
      "    splitting : list, length=2 * len(arrays)\n",
      "        List containing train-test split of inputs.\n",
      "\n",
      "        .. versionadded:: 0.16\n",
      "            If the input is sparse, the output will be a\n",
      "            ``scipy.sparse.csr_matrix``. Else, output type is the same as the\n",
      "            input type.\n",
      "\n",
      "    Examples\n",
      "    --------\n",
      "    >>> import numpy as np\n",
      "    >>> from sklearn.model_selection import train_test_split\n",
      "    >>> X, y = np.arange(10).reshape((5, 2)), range(5)\n",
      "    >>> X\n",
      "    array([[0, 1],\n",
      "           [2, 3],\n",
      "           [4, 5],\n",
      "           [6, 7],\n",
      "           [8, 9]])\n",
      "    >>> list(y)\n",
      "    [0, 1, 2, 3, 4]\n",
      "\n",
      "    >>> X_train, X_test, y_train, y_test = train_test_split(\n",
      "    ...     X, y, test_size=0.33, random_state=42)\n",
      "    ...\n",
      "    >>> X_train\n",
      "    array([[4, 5],\n",
      "           [0, 1],\n",
      "           [6, 7]])\n",
      "    >>> y_train\n",
      "    [2, 0, 3]\n",
      "    >>> X_test\n",
      "    array([[2, 3],\n",
      "           [8, 9]])\n",
      "    >>> y_test\n",
      "    [1, 4]\n",
      "\n",
      "    >>> train_test_split(y, shuffle=False)\n",
      "    [[0, 1, 2], [3, 4]]\n",
      "\n",
      "    \"\"\"\n",
      "    n_arrays = len(arrays)\n",
      "    if n_arrays == 0:\n",
      "        raise ValueError(\"At least one array required as input\")\n",
      "    test_size = options.pop('test_size', None)\n",
      "    train_size = options.pop('train_size', None)\n",
      "    random_state = options.pop('random_state', None)\n",
      "    stratify = options.pop('stratify', None)\n",
      "    shuffle = options.pop('shuffle', True)\n",
      "\n",
      "    if options:\n",
      "        raise TypeError(\"Invalid parameters passed: %s\" % str(options))\n",
      "\n",
      "    arrays = indexable(*arrays)\n",
      "\n",
      "    n_samples = _num_samples(arrays[0])\n",
      "    n_train, n_test = _validate_shuffle_split(n_samples, test_size, train_size,\n",
      "                                              default_test_size=0.25)\n",
      "\n",
      "    if shuffle is False:\n",
      "        if stratify is not None:\n",
      "            raise ValueError(\n",
      "                \"Stratified train/test split is not implemented for \"\n",
      "                \"shuffle=False\")\n",
      "\n",
      "        train = np.arange(n_train)\n",
      "        test = np.arange(n_train, n_train + n_test)\n",
      "\n",
      "    else:\n",
      "        if stratify is not None:\n",
      "            CVClass = StratifiedShuffleSplit\n",
      "        else:\n",
      "            CVClass = ShuffleSplit\n",
      "\n",
      "        cv = CVClass(test_size=n_test,\n",
      "                     train_size=n_train,\n",
      "                     random_state=random_state)\n",
      "\n",
      "        train, test = next(cv.split(X=arrays[0], y=stratify))\n",
      "\n",
      "    return list(chain.from_iterable((safe_indexing(a, train),\n",
      "                                     safe_indexing(a, test)) for a in arrays))\n",
      "\n"
     ]
    }
   ],
   "source": [
    "from sklearn.model_selection import train_test_split # 우리는 안 쓴다.\n",
    "import inspect\n",
    "\n",
    "print(inspect.getsource(train_test_split))"
   ]
  },
  {
   "cell_type": "markdown",
   "metadata": {},
   "source": [
    "# 축바꾸기"
   ]
  },
  {
   "cell_type": "code",
   "execution_count": 28,
   "metadata": {},
   "outputs": [
    {
     "data": {
      "text/plain": [
       "array([[0, 1, 2],\n",
       "       [3, 4, 5]])"
      ]
     },
     "execution_count": 28,
     "metadata": {},
     "output_type": "execute_result"
    }
   ],
   "source": [
    "x"
   ]
  },
  {
   "cell_type": "code",
   "execution_count": 29,
   "metadata": {
    "scrolled": true
   },
   "outputs": [
    {
     "data": {
      "text/plain": [
       "array([[0, 3],\n",
       "       [1, 4],\n",
       "       [2, 5]])"
      ]
     },
     "execution_count": 29,
     "metadata": {},
     "output_type": "execute_result"
    }
   ],
   "source": [
    "np.transpose(x)"
   ]
  },
  {
   "cell_type": "code",
   "execution_count": 62,
   "metadata": {},
   "outputs": [
    {
     "data": {
      "text/plain": [
       "array([[0, 3],\n",
       "       [1, 4],\n",
       "       [2, 5]])"
      ]
     },
     "execution_count": 62,
     "metadata": {},
     "output_type": "execute_result"
    }
   ],
   "source": [
    "np.swapaxes(x, 0, 1) # transpose는 다차원 개념이라서 더 많은 축들을 바꿀 수 있다."
   ]
  },
  {
   "cell_type": "code",
   "execution_count": 63,
   "metadata": {},
   "outputs": [
    {
     "data": {
      "text/plain": [
       "array([[0, 3],\n",
       "       [1, 4],\n",
       "       [2, 5]])"
      ]
     },
     "execution_count": 63,
     "metadata": {},
     "output_type": "execute_result"
    }
   ],
   "source": [
    "np.moveaxis(x, 0, 1) # transpose와 비슷하다 이것도."
   ]
  },
  {
   "cell_type": "markdown",
   "metadata": {},
   "source": [
    "이런 것에도 다 스트라이드 개념이 들어가서 빠르게 처리된다."
   ]
  },
  {
   "cell_type": "markdown",
   "metadata": {},
   "source": [
    "# Descriptive vs Imperative"
   ]
  },
  {
   "cell_type": "markdown",
   "metadata": {},
   "source": [
    " - Descriptive: 함수형 패러다임. 텐서플로 세션 방식 (포기)\n",
    " - Imperative: 파이토치."
   ]
  },
  {
   "cell_type": "markdown",
   "metadata": {},
   "source": [
    "# 벡터라이즈\n",
    "\n",
    "싹 다 어레이로 실행한다."
   ]
  },
  {
   "cell_type": "code",
   "execution_count": 30,
   "metadata": {},
   "outputs": [],
   "source": [
    "@np.vectorize\n",
    "def x(a, b):\n",
    "    return a+b # 이걸 내부적으로 벡터라이즈 방식으로 처리한다. 그래서 데코레이터로 처리한다."
   ]
  },
  {
   "cell_type": "code",
   "execution_count": 31,
   "metadata": {},
   "outputs": [
    {
     "data": {
      "text/plain": [
       "array([4, 6])"
      ]
     },
     "execution_count": 31,
     "metadata": {},
     "output_type": "execute_result"
    }
   ],
   "source": [
    "a = np.array([1, 2])\n",
    "b = np.array([3, 4])\n",
    "\n",
    "x(a, b)"
   ]
  },
  {
   "cell_type": "markdown",
   "metadata": {},
   "source": [
    "# 이미지를 처리하는 2가지 방식\n",
    "\n",
    "1. 비트맵 방식 (픽셀방식): 점으로 다 표현한다.\n",
    "2. 벡터라이즈 방식 (파워포인트)\n",
    "\n",
    " - 비트맵 방식은 어레이로 처리한다.\n",
    " - RGB는 합치면 합칠수록 하앟게 된다. 빛의 방식으로 표현하기 때문. 그레이 스케일은 강도만 표현하면 되기 때문에 0-1사이로 표현한다."
   ]
  },
  {
   "cell_type": "markdown",
   "metadata": {},
   "source": [
    "# 이미지 표현방식"
   ]
  },
  {
   "cell_type": "markdown",
   "metadata": {},
   "source": [
    " - (h, w): gray scale\n",
    " - channel first 방식: channel, h, w\n",
    " - channle last 방식(RGB): h, w, channel\n",
    " \n",
    "CNN 옛날 논문은 채널퍼스트가 아주 많다. 텐서플로는 채널 라스트이다. 최신 기법들은 채널라스트가 많다."
   ]
  },
  {
   "cell_type": "code",
   "execution_count": 27,
   "metadata": {},
   "outputs": [],
   "source": [
    "from tensorflow.keras.datasets import mnist"
   ]
  },
  {
   "cell_type": "code",
   "execution_count": 28,
   "metadata": {},
   "outputs": [
    {
     "data": {
      "text/plain": [
       "['__builtins__',\n",
       " '__cached__',\n",
       " '__doc__',\n",
       " '__file__',\n",
       " '__loader__',\n",
       " '__name__',\n",
       " '__package__',\n",
       " '__path__',\n",
       " '__spec__',\n",
       " '_sys',\n",
       " 'load_data']"
      ]
     },
     "execution_count": 28,
     "metadata": {},
     "output_type": "execute_result"
    }
   ],
   "source": [
    "dir(mnist) # 객체에 쓰는 명령어인데, package에 주목. 이게 있으면 모듈이라는 뜻이다."
   ]
  },
  {
   "cell_type": "code",
   "execution_count": 29,
   "metadata": {},
   "outputs": [
    {
     "data": {
      "text/plain": [
       "module"
      ]
     },
     "execution_count": 29,
     "metadata": {},
     "output_type": "execute_result"
    }
   ],
   "source": [
    "type(mnist) # module (하나의 파일) 즉, 모듈도 객체로 만들어 둔 것이다."
   ]
  },
  {
   "cell_type": "code",
   "execution_count": 30,
   "metadata": {},
   "outputs": [],
   "source": [
    "(train_input, train_label), (test_input, test_label) = mnist.load_data()"
   ]
  },
  {
   "cell_type": "code",
   "execution_count": 36,
   "metadata": {},
   "outputs": [
    {
     "name": "stdout",
     "output_type": "stream",
     "text": [
      "train_input: (60000, 28, 28)\n",
      "train_label: (60000,)\n",
      "test_input: (10000, 28, 28)\n",
      "test_label: (10000,)\n"
     ]
    }
   ],
   "source": [
    "print('train_input:', train_input.shape) # 개수, 가로, 세로\n",
    "print('train_label:', train_label.shape)\n",
    "print('test_input:', test_input.shape)\n",
    "print('test_label:', test_label.shape)"
   ]
  },
  {
   "cell_type": "markdown",
   "metadata": {},
   "source": [
    "CNN은 dimension 정보가 필요하기 때문에, 반드시 차원을 하나 추가해줘야 한다."
   ]
  },
  {
   "cell_type": "code",
   "execution_count": 31,
   "metadata": {
    "scrolled": true
   },
   "outputs": [
    {
     "data": {
      "text/plain": [
       "array([[  0,   0,   0,   0,   0,   0,   0,   0,   0,   0,   0,   0,   0,\n",
       "          0,   0,   0,   0,   0,   0,   0,   0,   0,   0,   0,   0,   0,\n",
       "          0,   0],\n",
       "       [  0,   0,   0,   0,   0,   0,   0,   0,   0,   0,   0,   0,   0,\n",
       "          0,   0,   0,   0,   0,   0,   0,   0,   0,   0,   0,   0,   0,\n",
       "          0,   0],\n",
       "       [  0,   0,   0,   0,   0,   0,   0,   0,   0,   0,   0,   0,   0,\n",
       "          0,   0,   0,   0,   0,   0,   0,   0,   0,   0,   0,   0,   0,\n",
       "          0,   0],\n",
       "       [  0,   0,   0,   0,   0,   0,   0,   0,   0,   0,   0,   0,   0,\n",
       "          0,   0,   0,   0,   0,   0,   0,   0,   0,   0,   0,   0,   0,\n",
       "          0,   0],\n",
       "       [  0,   0,   0,   0,   0,   0,   0,   0,   0,   0,   0,   0,   0,\n",
       "          0,   0,   0,   0,   0,   0,   0,   0,   0,   0,   0,   0,   0,\n",
       "          0,   0],\n",
       "       [  0,   0,   0,   0,   0,   0,   0,   0,   0,   0,   0,   0,   3,\n",
       "         18,  18,  18, 126, 136, 175,  26, 166, 255, 247, 127,   0,   0,\n",
       "          0,   0],\n",
       "       [  0,   0,   0,   0,   0,   0,   0,   0,  30,  36,  94, 154, 170,\n",
       "        253, 253, 253, 253, 253, 225, 172, 253, 242, 195,  64,   0,   0,\n",
       "          0,   0],\n",
       "       [  0,   0,   0,   0,   0,   0,   0,  49, 238, 253, 253, 253, 253,\n",
       "        253, 253, 253, 253, 251,  93,  82,  82,  56,  39,   0,   0,   0,\n",
       "          0,   0],\n",
       "       [  0,   0,   0,   0,   0,   0,   0,  18, 219, 253, 253, 253, 253,\n",
       "        253, 198, 182, 247, 241,   0,   0,   0,   0,   0,   0,   0,   0,\n",
       "          0,   0],\n",
       "       [  0,   0,   0,   0,   0,   0,   0,   0,  80, 156, 107, 253, 253,\n",
       "        205,  11,   0,  43, 154,   0,   0,   0,   0,   0,   0,   0,   0,\n",
       "          0,   0],\n",
       "       [  0,   0,   0,   0,   0,   0,   0,   0,   0,  14,   1, 154, 253,\n",
       "         90,   0,   0,   0,   0,   0,   0,   0,   0,   0,   0,   0,   0,\n",
       "          0,   0],\n",
       "       [  0,   0,   0,   0,   0,   0,   0,   0,   0,   0,   0, 139, 253,\n",
       "        190,   2,   0,   0,   0,   0,   0,   0,   0,   0,   0,   0,   0,\n",
       "          0,   0],\n",
       "       [  0,   0,   0,   0,   0,   0,   0,   0,   0,   0,   0,  11, 190,\n",
       "        253,  70,   0,   0,   0,   0,   0,   0,   0,   0,   0,   0,   0,\n",
       "          0,   0],\n",
       "       [  0,   0,   0,   0,   0,   0,   0,   0,   0,   0,   0,   0,  35,\n",
       "        241, 225, 160, 108,   1,   0,   0,   0,   0,   0,   0,   0,   0,\n",
       "          0,   0],\n",
       "       [  0,   0,   0,   0,   0,   0,   0,   0,   0,   0,   0,   0,   0,\n",
       "         81, 240, 253, 253, 119,  25,   0,   0,   0,   0,   0,   0,   0,\n",
       "          0,   0],\n",
       "       [  0,   0,   0,   0,   0,   0,   0,   0,   0,   0,   0,   0,   0,\n",
       "          0,  45, 186, 253, 253, 150,  27,   0,   0,   0,   0,   0,   0,\n",
       "          0,   0],\n",
       "       [  0,   0,   0,   0,   0,   0,   0,   0,   0,   0,   0,   0,   0,\n",
       "          0,   0,  16,  93, 252, 253, 187,   0,   0,   0,   0,   0,   0,\n",
       "          0,   0],\n",
       "       [  0,   0,   0,   0,   0,   0,   0,   0,   0,   0,   0,   0,   0,\n",
       "          0,   0,   0,   0, 249, 253, 249,  64,   0,   0,   0,   0,   0,\n",
       "          0,   0],\n",
       "       [  0,   0,   0,   0,   0,   0,   0,   0,   0,   0,   0,   0,   0,\n",
       "          0,  46, 130, 183, 253, 253, 207,   2,   0,   0,   0,   0,   0,\n",
       "          0,   0],\n",
       "       [  0,   0,   0,   0,   0,   0,   0,   0,   0,   0,   0,   0,  39,\n",
       "        148, 229, 253, 253, 253, 250, 182,   0,   0,   0,   0,   0,   0,\n",
       "          0,   0],\n",
       "       [  0,   0,   0,   0,   0,   0,   0,   0,   0,   0,  24, 114, 221,\n",
       "        253, 253, 253, 253, 201,  78,   0,   0,   0,   0,   0,   0,   0,\n",
       "          0,   0],\n",
       "       [  0,   0,   0,   0,   0,   0,   0,   0,  23,  66, 213, 253, 253,\n",
       "        253, 253, 198,  81,   2,   0,   0,   0,   0,   0,   0,   0,   0,\n",
       "          0,   0],\n",
       "       [  0,   0,   0,   0,   0,   0,  18, 171, 219, 253, 253, 253, 253,\n",
       "        195,  80,   9,   0,   0,   0,   0,   0,   0,   0,   0,   0,   0,\n",
       "          0,   0],\n",
       "       [  0,   0,   0,   0,  55, 172, 226, 253, 253, 253, 253, 244, 133,\n",
       "         11,   0,   0,   0,   0,   0,   0,   0,   0,   0,   0,   0,   0,\n",
       "          0,   0],\n",
       "       [  0,   0,   0,   0, 136, 253, 253, 253, 212, 135, 132,  16,   0,\n",
       "          0,   0,   0,   0,   0,   0,   0,   0,   0,   0,   0,   0,   0,\n",
       "          0,   0],\n",
       "       [  0,   0,   0,   0,   0,   0,   0,   0,   0,   0,   0,   0,   0,\n",
       "          0,   0,   0,   0,   0,   0,   0,   0,   0,   0,   0,   0,   0,\n",
       "          0,   0],\n",
       "       [  0,   0,   0,   0,   0,   0,   0,   0,   0,   0,   0,   0,   0,\n",
       "          0,   0,   0,   0,   0,   0,   0,   0,   0,   0,   0,   0,   0,\n",
       "          0,   0],\n",
       "       [  0,   0,   0,   0,   0,   0,   0,   0,   0,   0,   0,   0,   0,\n",
       "          0,   0,   0,   0,   0,   0,   0,   0,   0,   0,   0,   0,   0,\n",
       "          0,   0]], dtype=uint8)"
      ]
     },
     "execution_count": 31,
     "metadata": {},
     "output_type": "execute_result"
    }
   ],
   "source": [
    "train_input[0,:,:] # train_input[0,...], train_input[0] 동일하다."
   ]
  },
  {
   "cell_type": "code",
   "execution_count": 33,
   "metadata": {
    "scrolled": false
   },
   "outputs": [
    {
     "data": {
      "image/png": "[encoded data removed]",
      "text/plain": [
       "<Figure size 360x360 with 1 Axes>"
      ]
     },
     "metadata": {
      "needs_background": "light"
     },
     "output_type": "display_data"
    }
   ],
   "source": [
    "import  matplotlib.pyplot as plt\n",
    "plt.figure(figsize = (5, 5))\n",
    "plt.imshow(train_input[0], cmap='gray') # 값이 크면 클수록 밝으니까 이게 맞다.\n",
    "plt.axis(False)\n",
    "plt.show()"
   ]
  },
  {
   "cell_type": "code",
   "execution_count": 40,
   "metadata": {},
   "outputs": [
    {
     "data": {
      "text/plain": [
       "matrix([[1, 2],\n",
       "        [3, 4]])"
      ]
     },
     "execution_count": 40,
     "metadata": {},
     "output_type": "execute_result"
    }
   ],
   "source": [
    "np.matrix([[1, 2, ], [3, 4, ]]) # 매트릭스 기반도 있다. matlab이라는 프레임워크는 기본 프레임워크가 매트릭스다.\n",
    "# R은 벡터기반이다. 넘파이도 벡터를 더 좋아한다. 넘파이는 두개 다 지원한다."
   ]
  },
  {
   "cell_type": "code",
   "execution_count": 34,
   "metadata": {},
   "outputs": [
    {
     "data": {
      "image/png": "[encoded data removed]",
      "text/plain": [
       "<Figure size 288x288 with 1 Axes>"
      ]
     },
     "metadata": {
      "needs_background": "light"
     },
     "output_type": "display_data"
    }
   ],
   "source": [
    "plt.matshow(train_input[0], cmap = 'gray') # 이것도 가능하긴 하다.\n",
    "plt.axis(False)\n",
    "plt.show()"
   ]
  },
  {
   "cell_type": "markdown",
   "metadata": {},
   "source": [
    "인공지능은 돈이 많이 들어간다. 전통적인 방식도 배울건데, 이런 건 굳이 인공지능기법으로 할 필요 없기 때문에 그냥 전통적인 방법으로 배우는 것이다. 그럼에도 전통저인 방식을 배우는 이유는, 인공지능에 들어가기 전에 전처리하기 때문이다."
   ]
  },
  {
   "cell_type": "code",
   "execution_count": 35,
   "metadata": {},
   "outputs": [],
   "source": [
    "import PIL # 가장 많이 쓰는 패키지 중 하나이다. 케라스에 이 기능이 들어가있다.\n",
    "# 컴포지션 방식으로 기똥차게 만들어놨다. 자동화시키기에도 아주 좋다."
   ]
  },
  {
   "cell_type": "code",
   "execution_count": 36,
   "metadata": {
    "collapsed": true
   },
   "outputs": [
    {
     "data": {
      "text/plain": [
       "['Image',\n",
       " 'ImageEnhance',\n",
       " 'ImageFilter',\n",
       " 'ImageMode',\n",
       " 'ImageStat',\n",
       " 'PILLOW_VERSION',\n",
       " 'TiffTags',\n",
       " '__builtins__',\n",
       " '__cached__',\n",
       " '__doc__',\n",
       " '__file__',\n",
       " '__loader__',\n",
       " '__name__',\n",
       " '__package__',\n",
       " '__path__',\n",
       " '__spec__',\n",
       " '__version__',\n",
       " '_binary',\n",
       " '_imaging',\n",
       " '_plugins',\n",
       " '_util']"
      ]
     },
     "execution_count": 36,
     "metadata": {},
     "output_type": "execute_result"
    }
   ],
   "source": [
    "dir(PIL) # sorting해서 Ascending 방식이기 때문에, 대문자가 먼저 나온다."
   ]
  },
  {
   "cell_type": "code",
   "execution_count": 38,
   "metadata": {},
   "outputs": [
    {
     "data": {
      "text/plain": [
       "module"
      ]
     },
     "execution_count": 38,
     "metadata": {},
     "output_type": "execute_result"
    }
   ],
   "source": [
    "from PIL import Image\n",
    "type(Image) # module"
   ]
  },
  {
   "cell_type": "code",
   "execution_count": 39,
   "metadata": {
    "collapsed": true
   },
   "outputs": [
    {
     "data": {
      "text/plain": [
       "['ADAPTIVE',\n",
       " 'AFFINE',\n",
       " 'ANTIALIAS',\n",
       " 'BICUBIC',\n",
       " 'BILINEAR',\n",
       " 'BOX',\n",
       " 'CONTAINER',\n",
       " 'CUBIC',\n",
       " 'Callable',\n",
       " 'DECODERS',\n",
       " 'DEFAULT_STRATEGY',\n",
       " 'DecompressionBombError',\n",
       " 'DecompressionBombWarning',\n",
       " 'ENCODERS',\n",
       " 'EXTENSION',\n",
       " 'EXTENT',\n",
       " 'Exif',\n",
       " 'FASTOCTREE',\n",
       " 'FILTERED',\n",
       " 'FIXED',\n",
       " 'FLIP_LEFT_RIGHT',\n",
       " 'FLIP_TOP_BOTTOM',\n",
       " 'FLOYDSTEINBERG',\n",
       " 'HAMMING',\n",
       " 'HAS_PATHLIB',\n",
       " 'HUFFMAN_ONLY',\n",
       " 'ID',\n",
       " 'Image',\n",
       " 'ImageMode',\n",
       " 'ImagePointHandler',\n",
       " 'ImageTransformHandler',\n",
       " 'LANCZOS',\n",
       " 'LIBIMAGEQUANT',\n",
       " 'LINEAR',\n",
       " 'MAXCOVERAGE',\n",
       " 'MAX_IMAGE_PIXELS',\n",
       " 'MEDIANCUT',\n",
       " 'MESH',\n",
       " 'MIME',\n",
       " 'MODES',\n",
       " 'MutableMapping',\n",
       " 'NEAREST',\n",
       " 'NONE',\n",
       " 'NORMAL',\n",
       " 'OPEN',\n",
       " 'ORDERED',\n",
       " 'PERSPECTIVE',\n",
       " 'PILLOW_VERSION',\n",
       " 'Path',\n",
       " 'QUAD',\n",
       " 'RASTERIZE',\n",
       " 'RLE',\n",
       " 'ROTATE_180',\n",
       " 'ROTATE_270',\n",
       " 'ROTATE_90',\n",
       " 'SAVE',\n",
       " 'SAVE_ALL',\n",
       " 'SEQUENCE',\n",
       " 'TRANSPOSE',\n",
       " 'TRANSVERSE',\n",
       " 'TiffTags',\n",
       " 'USE_CFFI_ACCESS',\n",
       " 'WEB',\n",
       " '_E',\n",
       " '_ENDIAN',\n",
       " '_MAPMODES',\n",
       " '_MODEINFO',\n",
       " '_MODE_CONV',\n",
       " '__builtins__',\n",
       " '__cached__',\n",
       " '__doc__',\n",
       " '__file__',\n",
       " '__loader__',\n",
       " '__name__',\n",
       " '__package__',\n",
       " '__spec__',\n",
       " '__version__',\n",
       " '_apply_env_variables',\n",
       " '_check_size',\n",
       " '_conv_type_shape',\n",
       " '_decompression_bomb_check',\n",
       " '_fromarray_typemap',\n",
       " '_getdecoder',\n",
       " '_getencoder',\n",
       " '_getscaleoffset',\n",
       " '_imaging_not_installed',\n",
       " '_initialized',\n",
       " '_plugins',\n",
       " '_show',\n",
       " '_showxv',\n",
       " '_wedge',\n",
       " 'alpha_composite',\n",
       " 'atexit',\n",
       " 'blend',\n",
       " 'builtins',\n",
       " 'cffi',\n",
       " 'coerce_e',\n",
       " 'composite',\n",
       " 'core',\n",
       " 'deferred_error',\n",
       " 'effect_mandelbrot',\n",
       " 'effect_noise',\n",
       " 'eval',\n",
       " 'fromarray',\n",
       " 'frombuffer',\n",
       " 'frombytes',\n",
       " 'fromqimage',\n",
       " 'fromqpixmap',\n",
       " 'fromstring',\n",
       " 'getmodebandnames',\n",
       " 'getmodebands',\n",
       " 'getmodebase',\n",
       " 'getmodetype',\n",
       " 'i32le',\n",
       " 'i8',\n",
       " 'init',\n",
       " 'io',\n",
       " 'isImageType',\n",
       " 'isPath',\n",
       " 'isStringType',\n",
       " 'linear_gradient',\n",
       " 'logger',\n",
       " 'logging',\n",
       " 'math',\n",
       " 'merge',\n",
       " 'new',\n",
       " 'numbers',\n",
       " 'open',\n",
       " 'os',\n",
       " 'preinit',\n",
       " 'py3',\n",
       " 'radial_gradient',\n",
       " 'register_decoder',\n",
       " 'register_encoder',\n",
       " 'register_extension',\n",
       " 'register_extensions',\n",
       " 'register_mime',\n",
       " 'register_open',\n",
       " 'register_save',\n",
       " 'register_save_all',\n",
       " 'registered_extensions',\n",
       " 'struct',\n",
       " 'sys',\n",
       " 'warnings']"
      ]
     },
     "execution_count": 39,
     "metadata": {},
     "output_type": "execute_result"
    }
   ],
   "source": [
    "dir(Image) # 싹다 대문자인 애는 상수이다.\n",
    "# open같은 애들은 함수이다."
   ]
  },
  {
   "cell_type": "code",
   "execution_count": 44,
   "metadata": {},
   "outputs": [
    {
     "name": "stdout",
     "output_type": "stream",
     "text": [
      "Overwriting sun.txt\n"
     ]
    }
   ],
   "source": [
    "%%writefile sun.txt\n",
    "asdfasdfasdf\n",
    "asdfsdffff\n",
    "sefsffaf"
   ]
  },
  {
   "cell_type": "markdown",
   "metadata": {},
   "source": [
    "### 파이썬 open"
   ]
  },
  {
   "cell_type": "code",
   "execution_count": 118,
   "metadata": {},
   "outputs": [],
   "source": [
    "with open('sun.txt') as f: # 파이썬은 텍스트형태와 바이너리 형태를 기본적으로 불러올 수 있다.\n",
    "    pass"
   ]
  },
  {
   "cell_type": "code",
   "execution_count": 45,
   "metadata": {},
   "outputs": [],
   "source": [
    "f = open('sun.txt') # 경로, 이름, 확장자가 3요소이다. 경로가 없으면 현재 디렉토리를 가리킨다."
   ]
  },
  {
   "cell_type": "code",
   "execution_count": 46,
   "metadata": {
    "collapsed": true
   },
   "outputs": [
    {
     "data": {
      "text/plain": [
       "['_CHUNK_SIZE',\n",
       " '__class__',\n",
       " '__del__',\n",
       " '__delattr__',\n",
       " '__dict__',\n",
       " '__dir__',\n",
       " '__doc__',\n",
       " '__enter__',\n",
       " '__eq__',\n",
       " '__exit__',\n",
       " '__format__',\n",
       " '__ge__',\n",
       " '__getattribute__',\n",
       " '__getstate__',\n",
       " '__gt__',\n",
       " '__hash__',\n",
       " '__init__',\n",
       " '__init_subclass__',\n",
       " '__iter__',\n",
       " '__le__',\n",
       " '__lt__',\n",
       " '__ne__',\n",
       " '__new__',\n",
       " '__next__',\n",
       " '__reduce__',\n",
       " '__reduce_ex__',\n",
       " '__repr__',\n",
       " '__setattr__',\n",
       " '__sizeof__',\n",
       " '__str__',\n",
       " '__subclasshook__',\n",
       " '_checkClosed',\n",
       " '_checkReadable',\n",
       " '_checkSeekable',\n",
       " '_checkWritable',\n",
       " '_finalizing',\n",
       " 'buffer',\n",
       " 'close',\n",
       " 'closed',\n",
       " 'detach',\n",
       " 'encoding',\n",
       " 'errors',\n",
       " 'fileno',\n",
       " 'flush',\n",
       " 'isatty',\n",
       " 'line_buffering',\n",
       " 'mode',\n",
       " 'name',\n",
       " 'newlines',\n",
       " 'read',\n",
       " 'readable',\n",
       " 'readline',\n",
       " 'readlines',\n",
       " 'reconfigure',\n",
       " 'seek',\n",
       " 'seekable',\n",
       " 'tell',\n",
       " 'truncate',\n",
       " 'writable',\n",
       " 'write',\n",
       " 'write_through',\n",
       " 'writelines']"
      ]
     },
     "execution_count": 46,
     "metadata": {},
     "output_type": "execute_result"
    }
   ],
   "source": [
    "dir(f) # __enter__, __exit__가 중요하다."
   ]
  },
  {
   "cell_type": "code",
   "execution_count": 47,
   "metadata": {
    "scrolled": true
   },
   "outputs": [
    {
     "data": {
      "text/plain": [
       "'asdfasdfasdf\\n'"
      ]
     },
     "execution_count": 47,
     "metadata": {},
     "output_type": "execute_result"
    }
   ],
   "source": [
    "next(f) # 이터레이터, 제너레이터 개념이 튀어나온다."
   ]
  },
  {
   "cell_type": "markdown",
   "metadata": {},
   "source": [
    "오픈하면 항상 클로즈 해줘야 한다. 안 그러면 메모리 뻑난다. 그래서 with 구문을 써주는거다.\n",
    "\n",
    "이런걸 컨텍스트 매니저라고 한다."
   ]
  },
  {
   "cell_type": "code",
   "execution_count": 41,
   "metadata": {},
   "outputs": [
    {
     "data": {
      "text/plain": [
       "<_io.TextIOWrapper name='sun.txt' mode='r' encoding='cp949'>"
      ]
     },
     "execution_count": 41,
     "metadata": {},
     "output_type": "execute_result"
    }
   ],
   "source": [
    "with open('sun.txt') as f: # __enter__가 실행, 이건 또 할당의 개념이다. 문은 문끼리 중첩이 안되지만, as 구문으로 할당할 수 있다.\n",
    "    pass # __exit__ 이 실행\n",
    "# 자동으로 파일을 열고 닫아주기 때문에 좋다."
   ]
  },
  {
   "cell_type": "markdown",
   "metadata": {},
   "source": [
    "이 f는 with를 벗어나도 유지가 된다. for문 밖에서 변수가 살아남는 것과 동일하다. (컴프리헨션은 죽는다)"
   ]
  },
  {
   "cell_type": "code",
   "execution_count": 49,
   "metadata": {
    "scrolled": true
   },
   "outputs": [
    {
     "data": {
      "image/png": "[encoded data removed]",
      "text/plain": [
       "<PIL.PngImagePlugin.PngImageFile image mode=RGBA size=194x217 at 0x265FFD8EDC8>"
      ]
     },
     "execution_count": 49,
     "metadata": {},
     "output_type": "execute_result"
    }
   ],
   "source": [
    "im = Image.open(fp = 'C:/Users/white/OneDrive/사진/카메라 앨범/꼬마돌.png')\n",
    "im # 이미지가 튀어나온다."
   ]
  },
  {
   "cell_type": "code",
   "execution_count": 126,
   "metadata": {
    "scrolled": true
   },
   "outputs": [
    {
     "data": {
      "text/plain": [
       "['_Image__transformer',\n",
       " '_PngImageFile__idat',\n",
       " '_PngImageFile__prepare_idat',\n",
       " '__array_interface__',\n",
       " '__class__',\n",
       " '__copy__',\n",
       " '__del__',\n",
       " '__delattr__',\n",
       " '__dict__',\n",
       " '__dir__',\n",
       " '__doc__',\n",
       " '__enter__',\n",
       " '__eq__',\n",
       " '__exit__',\n",
       " '__format__',\n",
       " '__ge__',\n",
       " '__getattribute__',\n",
       " '__getstate__',\n",
       " '__gt__',\n",
       " '__hash__',\n",
       " '__init__',\n",
       " '__init_subclass__',\n",
       " '__le__',\n",
       " '__lt__',\n",
       " '__module__',\n",
       " '__ne__',\n",
       " '__new__',\n",
       " '__reduce__',\n",
       " '__reduce_ex__',\n",
       " '__repr__',\n",
       " '__setattr__',\n",
       " '__setstate__',\n",
       " '__sizeof__',\n",
       " '__str__',\n",
       " '__subclasshook__',\n",
       " '__weakref__',\n",
       " '_close_exclusive_fp_after_loading',\n",
       " '_copy',\n",
       " '_crop',\n",
       " '_dump',\n",
       " '_ensure_mutable',\n",
       " '_exclusive_fp',\n",
       " '_exif',\n",
       " '_expand',\n",
       " '_getexif',\n",
       " '_min_frame',\n",
       " '_new',\n",
       " '_open',\n",
       " '_repr_png_',\n",
       " '_seek_check',\n",
       " '_size',\n",
       " '_text',\n",
       " 'alpha_composite',\n",
       " 'category',\n",
       " 'close',\n",
       " 'convert',\n",
       " 'copy',\n",
       " 'crop',\n",
       " 'custom_mimetype',\n",
       " 'decoderconfig',\n",
       " 'decodermaxblock',\n",
       " 'draft',\n",
       " 'effect_spread',\n",
       " 'encoderconfig',\n",
       " 'encoderinfo',\n",
       " 'entropy',\n",
       " 'filename',\n",
       " 'filter',\n",
       " 'format',\n",
       " 'format_description',\n",
       " 'fp',\n",
       " 'frombytes',\n",
       " 'fromstring',\n",
       " 'get_format_mimetype',\n",
       " 'getbands',\n",
       " 'getbbox',\n",
       " 'getchannel',\n",
       " 'getcolors',\n",
       " 'getdata',\n",
       " 'getexif',\n",
       " 'getextrema',\n",
       " 'getim',\n",
       " 'getpalette',\n",
       " 'getpixel',\n",
       " 'getprojection',\n",
       " 'height',\n",
       " 'histogram',\n",
       " 'im',\n",
       " 'info',\n",
       " 'load',\n",
       " 'load_end',\n",
       " 'load_prepare',\n",
       " 'load_read',\n",
       " 'map',\n",
       " 'mode',\n",
       " 'offset',\n",
       " 'palette',\n",
       " 'paste',\n",
       " 'png',\n",
       " 'point',\n",
       " 'putalpha',\n",
       " 'putdata',\n",
       " 'putpalette',\n",
       " 'putpixel',\n",
       " 'pyaccess',\n",
       " 'quantize',\n",
       " 'readonly',\n",
       " 'remap_palette',\n",
       " 'resize',\n",
       " 'rotate',\n",
       " 'save',\n",
       " 'seek',\n",
       " 'show',\n",
       " 'size',\n",
       " 'split',\n",
       " 'tell',\n",
       " 'text',\n",
       " 'thumbnail',\n",
       " 'tile',\n",
       " 'tobitmap',\n",
       " 'tobytes',\n",
       " 'toqimage',\n",
       " 'toqpixmap',\n",
       " 'tostring',\n",
       " 'transform',\n",
       " 'transpose',\n",
       " 'verify',\n",
       " 'width']"
      ]
     },
     "execution_count": 126,
     "metadata": {},
     "output_type": "execute_result"
    }
   ],
   "source": [
    "type(im)\n",
    "dir(im)"
   ]
  },
  {
   "cell_type": "code",
   "execution_count": 129,
   "metadata": {},
   "outputs": [
    {
     "name": "stdout",
     "output_type": "stream",
     "text": [
      "    def __exit__(self, *args):\n",
      "        if hasattr(self, \"fp\") and getattr(self, \"_exclusive_fp\", False):\n",
      "            if hasattr(self, \"_close__fp\"):\n",
      "                self._close__fp()\n",
      "            if self.fp:\n",
      "                self.fp.close()\n",
      "        self.fp = None\n",
      "\n"
     ]
    }
   ],
   "source": [
    "import inspect\n",
    "\n",
    "print(inspect.getsource(im.__exit__)) # repr 때문에 print를 썼다."
   ]
  },
  {
   "cell_type": "code",
   "execution_count": 130,
   "metadata": {},
   "outputs": [
    {
     "ename": "ValueError",
     "evalue": "I/O operation on closed file.",
     "output_type": "error",
     "traceback": [
      "\u001b[1;31m---------------------------------------------------------------------------\u001b[0m",
      "\u001b[1;31mValueError\u001b[0m                                Traceback (most recent call last)",
      "\u001b[1;32m<ipython-input-130-14aed1a9ea84>\u001b[0m in \u001b[0;36m<module>\u001b[1;34m\u001b[0m\n\u001b[0;32m      1\u001b[0m \u001b[0mf\u001b[0m \u001b[1;33m=\u001b[0m \u001b[0mopen\u001b[0m\u001b[1;33m(\u001b[0m\u001b[1;34m'sun.txt'\u001b[0m\u001b[1;33m,\u001b[0m \u001b[1;34m'w'\u001b[0m\u001b[1;33m)\u001b[0m\u001b[1;33m\u001b[0m\u001b[1;33m\u001b[0m\u001b[0m\n\u001b[0;32m      2\u001b[0m \u001b[0mf\u001b[0m\u001b[1;33m.\u001b[0m\u001b[0mclose\u001b[0m\u001b[1;33m(\u001b[0m\u001b[1;33m)\u001b[0m\u001b[1;33m\u001b[0m\u001b[1;33m\u001b[0m\u001b[0m\n\u001b[1;32m----> 3\u001b[1;33m \u001b[0mf\u001b[0m\u001b[1;33m.\u001b[0m\u001b[0mwrite\u001b[0m\u001b[1;33m(\u001b[0m\u001b[1;34m'111'\u001b[0m\u001b[1;33m)\u001b[0m\u001b[1;33m\u001b[0m\u001b[1;33m\u001b[0m\u001b[0m\n\u001b[0m",
      "\u001b[1;31mValueError\u001b[0m: I/O operation on closed file."
     ]
    }
   ],
   "source": [
    "f = open('sun.txt', 'w')\n",
    "f.close()\n",
    "f.write('111') # 닫으면 조작을 못 한다. 우리는 편의상 안 닫아준다."
   ]
  },
  {
   "cell_type": "code",
   "execution_count": 52,
   "metadata": {},
   "outputs": [
    {
     "data": {
      "text/plain": [
       "['ADAPTIVE',\n",
       " 'AFFINE',\n",
       " 'ANTIALIAS',\n",
       " 'BICUBIC',\n",
       " 'BILINEAR',\n",
       " 'BOX',\n",
       " 'CONTAINER',\n",
       " 'CUBIC',\n",
       " 'Callable',\n",
       " 'DECODERS',\n",
       " 'DEFAULT_STRATEGY',\n",
       " 'DecompressionBombError',\n",
       " 'DecompressionBombWarning',\n",
       " 'ENCODERS',\n",
       " 'EXTENSION',\n",
       " 'EXTENT',\n",
       " 'Exif',\n",
       " 'FASTOCTREE',\n",
       " 'FILTERED',\n",
       " 'FIXED',\n",
       " 'FLIP_LEFT_RIGHT',\n",
       " 'FLIP_TOP_BOTTOM',\n",
       " 'FLOYDSTEINBERG',\n",
       " 'HAMMING',\n",
       " 'HAS_PATHLIB',\n",
       " 'HUFFMAN_ONLY',\n",
       " 'ID',\n",
       " 'Image',\n",
       " 'ImageMode',\n",
       " 'ImagePointHandler',\n",
       " 'ImageTransformHandler',\n",
       " 'LANCZOS',\n",
       " 'LIBIMAGEQUANT',\n",
       " 'LINEAR',\n",
       " 'MAXCOVERAGE',\n",
       " 'MAX_IMAGE_PIXELS',\n",
       " 'MEDIANCUT',\n",
       " 'MESH',\n",
       " 'MIME',\n",
       " 'MODES',\n",
       " 'MutableMapping',\n",
       " 'NEAREST',\n",
       " 'NONE',\n",
       " 'NORMAL',\n",
       " 'OPEN',\n",
       " 'ORDERED',\n",
       " 'PERSPECTIVE',\n",
       " 'PILLOW_VERSION',\n",
       " 'Path',\n",
       " 'QUAD',\n",
       " 'RASTERIZE',\n",
       " 'RLE',\n",
       " 'ROTATE_180',\n",
       " 'ROTATE_270',\n",
       " 'ROTATE_90',\n",
       " 'SAVE',\n",
       " 'SAVE_ALL',\n",
       " 'SEQUENCE',\n",
       " 'TRANSPOSE',\n",
       " 'TRANSVERSE',\n",
       " 'TiffTags',\n",
       " 'USE_CFFI_ACCESS',\n",
       " 'WEB',\n",
       " '_E',\n",
       " '_ENDIAN',\n",
       " '_MAPMODES',\n",
       " '_MODEINFO',\n",
       " '_MODE_CONV',\n",
       " '__builtins__',\n",
       " '__cached__',\n",
       " '__doc__',\n",
       " '__file__',\n",
       " '__loader__',\n",
       " '__name__',\n",
       " '__package__',\n",
       " '__spec__',\n",
       " '__version__',\n",
       " '_apply_env_variables',\n",
       " '_check_size',\n",
       " '_conv_type_shape',\n",
       " '_decompression_bomb_check',\n",
       " '_fromarray_typemap',\n",
       " '_getdecoder',\n",
       " '_getencoder',\n",
       " '_getscaleoffset',\n",
       " '_imaging_not_installed',\n",
       " '_initialized',\n",
       " '_plugins',\n",
       " '_show',\n",
       " '_showxv',\n",
       " '_wedge',\n",
       " 'alpha_composite',\n",
       " 'atexit',\n",
       " 'blend',\n",
       " 'builtins',\n",
       " 'cffi',\n",
       " 'coerce_e',\n",
       " 'composite',\n",
       " 'core',\n",
       " 'deferred_error',\n",
       " 'effect_mandelbrot',\n",
       " 'effect_noise',\n",
       " 'eval',\n",
       " 'fromarray',\n",
       " 'frombuffer',\n",
       " 'frombytes',\n",
       " 'fromqimage',\n",
       " 'fromqpixmap',\n",
       " 'fromstring',\n",
       " 'getmodebandnames',\n",
       " 'getmodebands',\n",
       " 'getmodebase',\n",
       " 'getmodetype',\n",
       " 'i32le',\n",
       " 'i8',\n",
       " 'init',\n",
       " 'io',\n",
       " 'isImageType',\n",
       " 'isPath',\n",
       " 'isStringType',\n",
       " 'linear_gradient',\n",
       " 'logger',\n",
       " 'logging',\n",
       " 'math',\n",
       " 'merge',\n",
       " 'new',\n",
       " 'numbers',\n",
       " 'open',\n",
       " 'os',\n",
       " 'preinit',\n",
       " 'py3',\n",
       " 'radial_gradient',\n",
       " 'register_decoder',\n",
       " 'register_encoder',\n",
       " 'register_extension',\n",
       " 'register_extensions',\n",
       " 'register_mime',\n",
       " 'register_open',\n",
       " 'register_save',\n",
       " 'register_save_all',\n",
       " 'registered_extensions',\n",
       " 'struct',\n",
       " 'sys',\n",
       " 'warnings']"
      ]
     },
     "execution_count": 52,
     "metadata": {},
     "output_type": "execute_result"
    }
   ],
   "source": [
    "dir(Image)\n",
    "# __array__interface__ -> 쉽게 넘파이로 변화시킬 수 있는 인터페이스가 있다는 뜻이다.\n",
    "# "
   ]
  },
  {
   "cell_type": "code",
   "execution_count": 50,
   "metadata": {},
   "outputs": [
    {
     "name": "stdout",
     "output_type": "stream",
     "text": [
      "PNG\n",
      "194\n",
      "217\n"
     ]
    }
   ],
   "source": [
    "print(im.format)\n",
    "print(im.width)\n",
    "print(im.height)"
   ]
  },
  {
   "cell_type": "code",
   "execution_count": null,
   "metadata": {},
   "outputs": [],
   "source": [
    "im.save() # 이걸 통해 포맷을 변경할 수 있다."
   ]
  },
  {
   "cell_type": "code",
   "execution_count": 135,
   "metadata": {
    "scrolled": true
   },
   "outputs": [
    {
     "data": {
      "image/png": "[encoded data removed]",
      "text/plain": [
       "<PIL.Image.Image image mode=RGBA size=194x217 at 0x19D0E708A48>"
      ]
     },
     "execution_count": 135,
     "metadata": {},
     "output_type": "execute_result"
    }
   ],
   "source": [
    "im.transpose(Image.FLIP_TOP_BOTTOM) # 0부터 6까지 할당할 수 있다."
   ]
  },
  {
   "cell_type": "code",
   "execution_count": 139,
   "metadata": {},
   "outputs": [
    {
     "data": {
      "text/plain": [
       "1"
      ]
     },
     "execution_count": 139,
     "metadata": {},
     "output_type": "execute_result"
    }
   ],
   "source": [
    "Image.FLIP_TOP_BOTTOM # 다 대문자니까 상수다."
   ]
  },
  {
   "cell_type": "code",
   "execution_count": null,
   "metadata": {},
   "outputs": [],
   "source": []
  }
 ],
 "metadata": {
  "kernelspec": {
   "display_name": "Tensorflow2.0-GPU",
   "language": "python",
   "name": "tf2.0-gpu"
  },
  "language_info": {
   "codemirror_mode": {
    "name": "ipython",
    "version": 3
   },
   "file_extension": ".py",
   "mimetype": "text/x-python",
   "name": "python",
   "nbconvert_exporter": "python",
   "pygments_lexer": "ipython3",
   "version": "3.7.5"
  }
 },
 "nbformat": 4,
 "nbformat_minor": 2
}
