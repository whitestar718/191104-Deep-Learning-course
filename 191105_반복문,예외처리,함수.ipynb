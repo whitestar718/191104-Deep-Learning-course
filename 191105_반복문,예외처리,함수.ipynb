{
 "cells": [
  {
   "cell_type": "markdown",
   "metadata": {},
   "source": [
    "# 반복문\n",
    "\n",
    "반복문에 붙이는 else에 관하여\n",
    "\n",
    "\n",
    "else에 관하여\n",
    "1. 반복문에 쓰이는 else\n",
    "2. 조건문에 쓰이는 else\n",
    "3. try에 쓰이는 else"
   ]
  },
  {
   "cell_type": "code",
   "execution_count": 1,
   "metadata": {
    "scrolled": true
   },
   "outputs": [
    {
     "name": "stdout",
     "output_type": "stream",
     "text": [
      "0\n",
      "1\n",
      "2\n",
      "3\n",
      "4\n",
      "5\n",
      "6\n",
      "7\n",
      "8\n",
      "9\n",
      "T\n"
     ]
    }
   ],
   "source": [
    "for i in range(10):\n",
    "    print(i) # 공백 조심\n",
    "else:\n",
    "    print('T') # 올바르게 반복문을 실행했을 때 실행된다."
   ]
  },
  {
   "cell_type": "code",
   "execution_count": 1,
   "metadata": {},
   "outputs": [
    {
     "name": "stdout",
     "output_type": "stream",
     "text": [
      "5\n"
     ]
    }
   ],
   "source": [
    "for i in range(10):\n",
    "    if i == 5:\n",
    "        print(i) # 공백 조심\n",
    "        break\n",
    "else:\n",
    "    print('T') # 다 돌지 않았기 때문에 T가 출력이 안된다."
   ]
  },
  {
   "cell_type": "markdown",
   "metadata": {},
   "source": [
    "텐서플로에서 에폭돌리는 방식이 for 방식으로 바뀌었기 때문에 이 기법이 쓰일 수 있다."
   ]
  },
  {
   "cell_type": "code",
   "execution_count": 2,
   "metadata": {},
   "outputs": [
    {
     "name": "stdout",
     "output_type": "stream",
     "text": [
      "5\n",
      "T\n"
     ]
    }
   ],
   "source": [
    "for i in range(10): # 컨테이너면 다 올 수 있다.\n",
    "    if i == 5:\n",
    "        print(i) # 공백 조심\n",
    "        continue\n",
    "else:\n",
    "    print('T') # 컨티뉴는 출력이 된다."
   ]
  },
  {
   "cell_type": "markdown",
   "metadata": {},
   "source": [
    "set같은 경우 자신이 솔팅해서 정해주고, 딕셔너리는 좀 차이가 있다."
   ]
  },
  {
   "cell_type": "code",
   "execution_count": 3,
   "metadata": {
    "scrolled": true
   },
   "outputs": [
    {
     "data": {
      "text/plain": [
       "['__bool__',\n",
       " '__class__',\n",
       " '__contains__',\n",
       " '__delattr__',\n",
       " '__dir__',\n",
       " '__doc__',\n",
       " '__eq__',\n",
       " '__format__',\n",
       " '__ge__',\n",
       " '__getattribute__',\n",
       " '__getitem__',\n",
       " '__gt__',\n",
       " '__hash__',\n",
       " '__init__',\n",
       " '__init_subclass__',\n",
       " '__iter__',\n",
       " '__le__',\n",
       " '__len__',\n",
       " '__lt__',\n",
       " '__ne__',\n",
       " '__new__',\n",
       " '__reduce__',\n",
       " '__reduce_ex__',\n",
       " '__repr__',\n",
       " '__reversed__',\n",
       " '__setattr__',\n",
       " '__sizeof__',\n",
       " '__str__',\n",
       " '__subclasshook__',\n",
       " 'count',\n",
       " 'index',\n",
       " 'start',\n",
       " 'step',\n",
       " 'stop']"
      ]
     },
     "execution_count": 3,
     "metadata": {},
     "output_type": "execute_result"
    }
   ],
   "source": [
    "dir(range) # __iter__에 주목 -> 순회반복이 가능하다.★★★"
   ]
  },
  {
   "cell_type": "markdown",
   "metadata": {},
   "source": [
    "__iter__라는 얘가 잇으면 for뒤에 쓸 수가 있는 것이다. 이것을 두고 iterable이라고 한다.\n",
    "\n",
    "iterator라는 게 있다. 어떤 집합에서 데이터가 하나하나 나오는 구조를 말한다. 빅데이터, 인공지능에서 필요할 때 하나씩 올라가는 기법이기 때문에 좋다. 메모리 효율을 극대화한다. 이걸 레이지 기법이라고도 한다. 이걸 쓰면 메모리에 필요할 때마다 쓰기 때문에 효율이 좋다. 파이썬은 내부적으로 다 iterator 구조로 되어 있다. \n",
    "\n",
    "아래는 참고"
   ]
  },
  {
   "cell_type": "code",
   "execution_count": 5,
   "metadata": {
    "scrolled": true
   },
   "outputs": [
    {
     "name": "stdout",
     "output_type": "stream",
     "text": [
      "  2           0 SETUP_LOOP              42 (to 44)\n",
      "              2 LOAD_GLOBAL              0 (range)\n",
      "              4 LOAD_CONST               1 (10)\n",
      "              6 CALL_FUNCTION            1\n",
      "              8 GET_ITER\n",
      "        >>   10 FOR_ITER                22 (to 34)\n",
      "             12 STORE_FAST               0 (i)\n",
      "\n",
      "  3          14 LOAD_FAST                0 (i)\n",
      "             16 LOAD_CONST               2 (5)\n",
      "             18 COMPARE_OP               2 (==)\n",
      "             20 POP_JUMP_IF_FALSE       10\n",
      "\n",
      "  4          22 LOAD_GLOBAL              1 (print)\n",
      "             24 LOAD_FAST                0 (i)\n",
      "             26 CALL_FUNCTION            1\n",
      "             28 POP_TOP\n",
      "\n",
      "  5          30 JUMP_ABSOLUTE           10\n",
      "             32 JUMP_ABSOLUTE           10\n",
      "        >>   34 POP_BLOCK\n",
      "\n",
      "  7          36 LOAD_GLOBAL              1 (print)\n",
      "             38 LOAD_CONST               3 ('T')\n",
      "             40 CALL_FUNCTION            1\n",
      "             42 POP_TOP\n",
      "        >>   44 LOAD_CONST               0 (None)\n",
      "             46 RETURN_VALUE\n"
     ]
    }
   ],
   "source": [
    "def x():\n",
    "    for i in range(10):\n",
    "        if i == 5:\n",
    "            print(i) \n",
    "            continue\n",
    "    else:\n",
    "        print('T') \n",
    "\n",
    "import dis\n",
    "\n",
    "dis.dis(x)"
   ]
  },
  {
   "cell_type": "code",
   "execution_count": 5,
   "metadata": {},
   "outputs": [
    {
     "data": {
      "text/plain": [
       "<function all(iterable, /)>"
      ]
     },
     "execution_count": 5,
     "metadata": {},
     "output_type": "execute_result"
    }
   ],
   "source": [
    "all # shift + tab 해보면 sum, any 등등 모두 iterable이 나온다. 아주 잘 이해해야 한다."
   ]
  },
  {
   "cell_type": "markdown",
   "metadata": {},
   "source": [
    "여러개를 동시에 처리하는 얘들은 분산처리라는 것이 있다. 요즘에는 다 분산환경이다. 이게 어떻게 되는지 알고 싶으면 pythontutor.com 에 들어가봐라. 내부적으로 어떻게 처리되는지 알 수 있다.\n",
    "\n",
    "우리가 배우는 컨테이너는 싹 다 iterable이다. 그런데 때에 따라서 우리가 직접 iterator를 만들기도 한다."
   ]
  },
  {
   "cell_type": "markdown",
   "metadata": {},
   "source": [
    "# while\n",
    "\n",
    "while은 인덱스 베이스이다. 근데 보통 조건이 있다. 객체지향하고는 좀 안 어울린다. \n",
    "\n",
    "어떨 때 while을 쓸까? 무한루프를 걸어야 할 경우가 있는 것이다. 사용자 입력을 기다리거나 할 때. 이럴 때 while을 쓴다."
   ]
  },
  {
   "cell_type": "code",
   "execution_count": 6,
   "metadata": {
    "scrolled": true
   },
   "outputs": [
    {
     "name": "stdout",
     "output_type": "stream",
     "text": [
      "ㅁ\n",
      "a\n"
     ]
    }
   ],
   "source": [
    "i = 10\n",
    "while 1:\n",
    "    a= input()\n",
    "    if a == 'a':\n",
    "        break"
   ]
  },
  {
   "cell_type": "code",
   "execution_count": 7,
   "metadata": {},
   "outputs": [
    {
     "name": "stdout",
     "output_type": "stream",
     "text": [
      "T\n"
     ]
    }
   ],
   "source": [
    "i = 10\n",
    "while i > 10:\n",
    "    print(i)\n",
    "    i -= 1\n",
    "else:\n",
    "    print('T')"
   ]
  },
  {
   "cell_type": "markdown",
   "metadata": {},
   "source": [
    "위의 문제는 while이 한번도 안돌았지만, else가 실행된다. 그래서 어떤 책에서는 break의 유무로 else의 실행여부를 말해주기도 한다. 텐서플로도 for 문이 들어가는데, 여기서 else를 써서 제대로 돌아가는지 체크하는 테크닉이 있다.\n",
    "\n",
    "try ~ catch를 써도 되고, 딥러닝을 할 때는 else를 써야하는 경우가 많다. 메모리 문제 때문이다."
   ]
  },
  {
   "cell_type": "markdown",
   "metadata": {},
   "source": [
    "# scope의 문제\n",
    "\n",
    "for 문 밖에서 x가 살아난다. 나도 이거 최근에 알았지...근데 또 웃긴건  컴프리헨션 안에서는 못살아남는다."
   ]
  },
  {
   "cell_type": "code",
   "execution_count": 8,
   "metadata": {
    "scrolled": false
   },
   "outputs": [
    {
     "name": "stdout",
     "output_type": "stream",
     "text": [
      "0\n",
      "1\n",
      "2\n",
      "3\n",
      "4\n",
      "5\n",
      "6\n",
      "7\n",
      "8\n",
      "9\n"
     ]
    },
    {
     "data": {
      "text/plain": [
       "9"
      ]
     },
     "execution_count": 8,
     "metadata": {},
     "output_type": "execute_result"
    }
   ],
   "source": [
    "for x in range(10):\n",
    "    print(x)\n",
    "    \n",
    "x"
   ]
  },
  {
   "cell_type": "code",
   "execution_count": 9,
   "metadata": {},
   "outputs": [
    {
     "ename": "NameError",
     "evalue": "name 'uuu' is not defined",
     "output_type": "error",
     "traceback": [
      "\u001b[1;31m---------------------------------------------------------------------------\u001b[0m",
      "\u001b[1;31mNameError\u001b[0m                                 Traceback (most recent call last)",
      "\u001b[1;32m<ipython-input-9-03860bc0f4cf>\u001b[0m in \u001b[0;36m<module>\u001b[1;34m\u001b[0m\n\u001b[0;32m      1\u001b[0m \u001b[0mt\u001b[0m \u001b[1;33m=\u001b[0m \u001b[1;33m[\u001b[0m\u001b[0muuu\u001b[0m \u001b[1;32mfor\u001b[0m \u001b[0muuu\u001b[0m \u001b[1;32min\u001b[0m \u001b[0mrange\u001b[0m\u001b[1;33m(\u001b[0m\u001b[1;36m10\u001b[0m\u001b[1;33m)\u001b[0m\u001b[1;33m]\u001b[0m\u001b[1;33m\u001b[0m\u001b[1;33m\u001b[0m\u001b[0m\n\u001b[1;32m----> 2\u001b[1;33m \u001b[0muuu\u001b[0m\u001b[1;33m\u001b[0m\u001b[1;33m\u001b[0m\u001b[0m\n\u001b[0m",
      "\u001b[1;31mNameError\u001b[0m: name 'uuu' is not defined"
     ]
    }
   ],
   "source": [
    "t = [uuu for uuu in range(10)]\n",
    "uuu"
   ]
  },
  {
   "cell_type": "markdown",
   "metadata": {},
   "source": [
    "# 예외처리\n",
    "\n",
    "syntex에러를 방지하는 것이다. 내가 원하는 결과가 제대로 돌아가는지 확인해보려면 print로 확인하는 경우가 많은데, 파이썬에서는 에러를 발생시키는 것을 더 선호한다. \n",
    "\n",
    " - EAFP: 먼저 저질러놓고 용서를 구해라 ★\n",
    " - LBYL: 돌다리도 두드려 보고 건너라\n",
    " \n",
    "그러니 에러를 발생시키면서 프로그래밍을 진행시켜라. 에러를 적극적으로 발생시켜라. 파이썬은 느린 언어기 때문에 프린트해가면서 디버깅하면 속도 저하 문제가 난다."
   ]
  },
  {
   "cell_type": "code",
   "execution_count": 10,
   "metadata": {},
   "outputs": [
    {
     "ename": "AssertionError",
     "evalue": "",
     "output_type": "error",
     "traceback": [
      "\u001b[1;31m---------------------------------------------------------------------------\u001b[0m",
      "\u001b[1;31mAssertionError\u001b[0m                            Traceback (most recent call last)",
      "\u001b[1;32m<ipython-input-10-1a2b45067339>\u001b[0m in \u001b[0;36m<module>\u001b[1;34m\u001b[0m\n\u001b[0;32m      1\u001b[0m \u001b[0mi\u001b[0m \u001b[1;33m=\u001b[0m \u001b[1;36m9\u001b[0m\u001b[1;33m\u001b[0m\u001b[1;33m\u001b[0m\u001b[0m\n\u001b[1;32m----> 2\u001b[1;33m \u001b[1;32massert\u001b[0m \u001b[0mi\u001b[0m \u001b[1;33m==\u001b[0m \u001b[1;36m10\u001b[0m\u001b[1;33m\u001b[0m\u001b[1;33m\u001b[0m\u001b[0m\n\u001b[0m",
      "\u001b[1;31mAssertionError\u001b[0m: "
     ]
    }
   ],
   "source": [
    "i = 9\n",
    "assert i == 10"
   ]
  },
  {
   "cell_type": "markdown",
   "metadata": {},
   "source": [
    "그래서 디버깅 할때 assert를 써서 에러를 발생시켜라. 프린트는 이제 버려.\n",
    "\n",
    "또 내가 억지로 에러를 발생시킬수도 있다."
   ]
  },
  {
   "cell_type": "code",
   "execution_count": 11,
   "metadata": {},
   "outputs": [
    {
     "ename": "Exception",
     "evalue": "",
     "output_type": "error",
     "traceback": [
      "\u001b[1;31m---------------------------------------------------------------------------\u001b[0m",
      "\u001b[1;31mException\u001b[0m                                 Traceback (most recent call last)",
      "\u001b[1;32m<ipython-input-11-2a78ca6ea951>\u001b[0m in \u001b[0;36m<module>\u001b[1;34m\u001b[0m\n\u001b[0;32m      1\u001b[0m \u001b[0mi\u001b[0m \u001b[1;33m=\u001b[0m \u001b[1;36m10\u001b[0m\u001b[1;33m\u001b[0m\u001b[1;33m\u001b[0m\u001b[0m\n\u001b[0;32m      2\u001b[0m \u001b[1;32mif\u001b[0m \u001b[0mi\u001b[0m \u001b[1;33m>\u001b[0m \u001b[1;36m9\u001b[0m\u001b[1;33m:\u001b[0m\u001b[1;33m\u001b[0m\u001b[1;33m\u001b[0m\u001b[0m\n\u001b[1;32m----> 3\u001b[1;33m     \u001b[1;32mraise\u001b[0m \u001b[0mException\u001b[0m\u001b[1;33m\u001b[0m\u001b[1;33m\u001b[0m\u001b[0m\n\u001b[0m",
      "\u001b[1;31mException\u001b[0m: "
     ]
    }
   ],
   "source": [
    "i = 10\n",
    "if i > 9:\n",
    "    raise Exception"
   ]
  },
  {
   "cell_type": "markdown",
   "metadata": {},
   "source": [
    "근데 위의 에러도 내가 맘대로 만들 수 있다. 이건 4일 뒤에 할 수 있다. \n",
    "\n",
    "에러를 잡아내기 위한 구조는 크게 try ~ except가 있다. 에러가 나면 이게 실행되는 것이다."
   ]
  },
  {
   "cell_type": "code",
   "execution_count": 26,
   "metadata": {},
   "outputs": [
    {
     "name": "stdout",
     "output_type": "stream",
     "text": [
      "else\n",
      "finally\n"
     ]
    }
   ],
   "source": [
    "try:\n",
    "    a = 10 # 1/0\n",
    "except ZeroDivisionError: # 여러 익셉션에 대해서 이런식으로 조건을 줄 수 있다.\n",
    "    print('a')\n",
    "except: # 여러 익셉션에 대해서 이런식으로 조건을 줄 수 있다.\n",
    "    print('a')\n",
    "else:\n",
    "    print('else') # except가 실행되지 않으면 else r구문이 실행된다.\n",
    "finally:\n",
    "    print('finally') # except 실행여부에 상관없이 무조건 실행된다."
   ]
  },
  {
   "cell_type": "code",
   "execution_count": 27,
   "metadata": {
    "scrolled": true
   },
   "outputs": [
    {
     "ename": "SyntaxError",
     "evalue": "default 'except:' must be last (<ipython-input-27-e7fa174d32a1>, line 5)",
     "output_type": "error",
     "traceback": [
      "\u001b[1;36m  File \u001b[1;32m\"<ipython-input-27-e7fa174d32a1>\"\u001b[1;36m, line \u001b[1;32m5\u001b[0m\n\u001b[1;33m    except ZeroDivisionError: # 여러 익셉션에 대해서 이런식으로 조건을 줄 수 있다.\u001b[0m\n\u001b[1;37m               ^\u001b[0m\n\u001b[1;31mSyntaxError\u001b[0m\u001b[1;31m:\u001b[0m default 'except:' must be last\n"
     ]
    }
   ],
   "source": [
    "try:\n",
    "    a = 10 # 1/0\n",
    "except: # 여러 익셉션에 대해서 이런식으로 조건을 줄 수 있다.\n",
    "    print('a')\n",
    "except ZeroDivisionError: # 여러 익셉션에 대해서 이런식으로 조건을 줄 수 있다.\n",
    "    print('a')\n",
    "else:\n",
    "    print('else') # except가 실행되지 않으면 else r구문이 실행된다.\n",
    "finally:\n",
    "    print('finally') # except 실행여부에 상관없이 무조건 실행된다."
   ]
  },
  {
   "cell_type": "markdown",
   "metadata": {},
   "source": [
    "위의 코드가 안돌아간다. 그래서 모든 에러를 잡은 except는 마지막에 쓰는 것이 좋다. <br>\n",
    "\n",
    "as 3가지.\n",
    "\n",
    "1. import as\n",
    "2. except as\n",
    "3. with as"
   ]
  },
  {
   "cell_type": "code",
   "execution_count": 11,
   "metadata": {},
   "outputs": [
    {
     "name": "stdout",
     "output_type": "stream",
     "text": [
      "division by zero\n"
     ]
    }
   ],
   "source": [
    "try:\n",
    "    1/0 # 1/0\n",
    "except ZeroDivisionError as e: # 여러 익셉션에 대해서 이런식으로 조건을 줄 수 있다.\n",
    "    print(e) # division by zero"
   ]
  },
  {
   "cell_type": "markdown",
   "metadata": {},
   "source": [
    "함수 설명\n",
    "1. doc\n",
    "2. repr: 그냥 x라 했을 때 나오는 것\n",
    "3. str: 프린트 했을 때 하는 것.\n",
    "\n",
    "근데 "
   ]
  },
  {
   "cell_type": "code",
   "execution_count": 13,
   "metadata": {},
   "outputs": [
    {
     "data": {
      "text/plain": [
       "'test'"
      ]
     },
     "execution_count": 13,
     "metadata": {},
     "output_type": "execute_result"
    }
   ],
   "source": [
    "class X:\n",
    "    '''test''' # doc string\n",
    "    \n",
    "    def __repr__(self):\n",
    "        return 'REPR'\n",
    "    \n",
    "    def __str__(self):\n",
    "        return 'STR'\n",
    "    pass\n",
    "\n",
    "X() # shift tab하면 설명이 나온다.\n",
    "X.__doc__ # test"
   ]
  },
  {
   "cell_type": "code",
   "execution_count": 19,
   "metadata": {},
   "outputs": [
    {
     "data": {
      "text/plain": [
       "REPR"
      ]
     },
     "execution_count": 19,
     "metadata": {},
     "output_type": "execute_result"
    }
   ],
   "source": [
    "x = X()\n",
    "x"
   ]
  },
  {
   "cell_type": "code",
   "execution_count": 21,
   "metadata": {},
   "outputs": [
    {
     "name": "stdout",
     "output_type": "stream",
     "text": [
      "STR\n"
     ]
    }
   ],
   "source": [
    "print(x)"
   ]
  },
  {
   "cell_type": "markdown",
   "metadata": {},
   "source": [
    "as는 이 3개 이외에 설명이 필요할 때 나온다.\n",
    "\n",
    "REPR 개발환경은 어떤걸 해주냐? 특별히 프린트문 안해줘도 x 이렇게 해줬을 때 뭔가 나오는 것. 이게 repr이다."
   ]
  },
  {
   "cell_type": "code",
   "execution_count": 53,
   "metadata": {
    "scrolled": true
   },
   "outputs": [
    {
     "data": {
      "text/plain": [
       "True"
      ]
     },
     "execution_count": 53,
     "metadata": {},
     "output_type": "execute_result"
    }
   ],
   "source": [
    "issubclass(bool, int) # is가 붙어있는 함수를 프레디케이트 함수라고 한다.\n",
    "issubclass(ZeroDivisionError, Exception) # True"
   ]
  },
  {
   "cell_type": "markdown",
   "metadata": {},
   "source": [
    "int 상속받아서 bool을 만들었다는 뜻이다. 식은 하나의 결과값으로 나오는 것을 말한다. 식은 함수 인자로 올 수 있고, 할당할 수 있다. \n",
    "\n",
    "1. 식은 식끼리 중첩 가능\n",
    "2. 식은 하나의 결과값이 나오는 것\n",
    "3. 식은 함수의 인자로 올 수 있음."
   ]
  },
  {
   "cell_type": "code",
   "execution_count": 15,
   "metadata": {},
   "outputs": [
    {
     "data": {
      "text/plain": [
       "3"
      ]
     },
     "execution_count": 15,
     "metadata": {},
     "output_type": "execute_result"
    }
   ],
   "source": [
    "a  = 3\n",
    "t = 3 if a > 2 else 4  if a > 2 else 5# 조건식이 올 수 있다. 무한정 중첩시킬 수 있다.\n",
    "t # 참이라서 앞에게 나온다."
   ]
  },
  {
   "cell_type": "markdown",
   "metadata": {},
   "source": [
    "# 함수\n",
    "\n",
    "파라미터와 아규먼트의 차이를 알아야 한다.\n",
    "\n",
    " - Parameter: 매개변수\n",
    " - argument: 인자\n",
    " \n",
    "선언문: 나중에 재사용하기 위해서 어떤 특정한 것을 정의하는 문을 말한다. (재사용이 포인트) declation 함수 선언, 클래스 선언 2가지가 있다.\n",
    "\n",
    "매개변수(파라미터)는 5가지있지만 선생님은 7가지가 있다고 한다. (외워라)<br>\n",
    " 3가지 키워드\n",
    "1. positional 방식 # 입력한 순서대로 들어간다. 딱히 명시하지 않아도.\n",
    "2. 키워드 방식 # a=1 처럼 명시해서 사용하는 것. 순서없이 써도 된다는 장점이 있다.\n",
    "3. 가변방식\n",
    "\n",
    "매개변수와 인자(아규먼트)의 개수는 같아야 한다. 매개변수에는 디폴트 값을 지정할 수 있다. 왜 이런 테크닉이 필요한가? 파이썬은 오버로딩을 지정하지 않기 때문이다. 오버로딩이란, 이름이 똑같은데 매개변수가 다른 함수를 같은 것으로 보는 것을 말한다. 그래서 x()처럼 아무것도 안넣어도 되게, 디폴트 값을 지정해둔다. 오버로딩을 지정할수 없기 때문에 다 디폴트 값이 있는 것이다."
   ]
  },
  {
   "cell_type": "code",
   "execution_count": 16,
   "metadata": {},
   "outputs": [
    {
     "data": {
      "text/plain": [
       "1"
      ]
     },
     "execution_count": 16,
     "metadata": {},
     "output_type": "execute_result"
    }
   ],
   "source": [
    "def x(a=2): # snake 방식 # a는 매개변수(파라미터)라고 한다.\n",
    "    return 1\n",
    "\n",
    "x(2) # 2는 argument라고 한다. (인자)\n",
    "x()"
   ]
  },
  {
   "cell_type": "code",
   "execution_count": 62,
   "metadata": {
    "scrolled": true
   },
   "outputs": [
    {
     "ename": "SyntaxError",
     "evalue": "non-default argument follows default argument (<ipython-input-62-7ce2a4be7b61>, line 1)",
     "output_type": "error",
     "traceback": [
      "\u001b[1;36m  File \u001b[1;32m\"<ipython-input-62-7ce2a4be7b61>\"\u001b[1;36m, line \u001b[1;32m1\u001b[0m\n\u001b[1;33m    def x(a = 3, b): # snake 방식 # a는 매개변수(파라미터)라고 한다.\u001b[0m\n\u001b[1;37m         ^\u001b[0m\n\u001b[1;31mSyntaxError\u001b[0m\u001b[1;31m:\u001b[0m non-default argument follows default argument\n"
     ]
    }
   ],
   "source": [
    "def x(a = 3, b): # 안된다. 디폴트값은 뒤에서부터 채워야 한다.\n",
    "    return 1"
   ]
  },
  {
   "cell_type": "code",
   "execution_count": 65,
   "metadata": {},
   "outputs": [
    {
     "data": {
      "text/plain": [
       "1"
      ]
     },
     "execution_count": 65,
     "metadata": {},
     "output_type": "execute_result"
    }
   ],
   "source": [
    "def x(a, b=2, c=4): # 한번 키워드 방식을 쓰면 그 다음 파라미터는 다 키워드 방식이다.\n",
    "    return 1\n",
    "x(2)"
   ]
  },
  {
   "cell_type": "markdown",
   "metadata": {},
   "source": [
    "어떤 함수는 무조건 키워드 방식을 써야 하는 경우가 있다.\n",
    "\n",
    "함수선언 *은 3번 나온다.\n",
    "\n",
    "1. def(*, a): 키워드 온니 방식. * 다음엔 무조건 키워드 방식 매개변수만 쓴다.\n",
    "2. def(*a) : 가변 포지셔녈 방식. 여러개 인자를 받을 수 있다.\n",
    "3. def(**a): 가변 키워드 방식. 키워드 방식 인자를 여러개 받을 수 있다.\n",
    "4. def(* a, ** b): 가변 포지셔닝 + 키워드 방식. 둘을 섞어 쓴다. 하지만 마지막은 역시 키워드.\n",
    "\n",
    "---\n",
    "\n",
    "함수 인자 관련해서\n",
    "\n",
    "5. x(*t): 언패킹 기법. 리스트를 넣으면 리스트를 벗겨준다.\n",
    "6. x(**t): 딕셔너리를 통째로 넣을 때 쓴다."
   ]
  },
  {
   "cell_type": "code",
   "execution_count": 26,
   "metadata": {},
   "outputs": [
    {
     "data": {
      "text/plain": [
       "3"
      ]
     },
     "execution_count": 26,
     "metadata": {},
     "output_type": "execute_result"
    }
   ],
   "source": [
    "def y(*, a): # * 다음에 무조건 키워드 방식을 써야 한다. (키워드 온니 방식이라고도 한다.)\n",
    "    return a\n",
    "\n",
    "y(a = 3)"
   ]
  },
  {
   "cell_type": "code",
   "execution_count": 17,
   "metadata": {
    "scrolled": true
   },
   "outputs": [
    {
     "data": {
      "text/plain": [
       "<function matplotlib.pyplot.barh(y, width, height=0.8, left=None, *, align='center', **kwargs)>"
      ]
     },
     "execution_count": 17,
     "metadata": {},
     "output_type": "execute_result"
    }
   ],
   "source": [
    "import matplotlib.pyplot as plt\n",
    "\n",
    "plt.barh # shift tab 하면 중간부터 *가 나오는데, *은 아무거나 해도 되지만, * 다음은 무조건 키워드 방식을 쓴다."
   ]
  },
  {
   "cell_type": "code",
   "execution_count": 18,
   "metadata": {},
   "outputs": [
    {
     "data": {
      "text/plain": [
       "(1, 2, 3)"
      ]
     },
     "execution_count": 18,
     "metadata": {},
     "output_type": "execute_result"
    }
   ],
   "source": [
    "def y(*a): # 가변 포지셔널 방식. 개수 안 맞춰도 상관없이 쓸 수 있다. 별표에 이름 붙인 것이다.\n",
    "    return a\n",
    "\n",
    "y(1, 2, 3)"
   ]
  },
  {
   "cell_type": "code",
   "execution_count": 19,
   "metadata": {},
   "outputs": [
    {
     "data": {
      "text/plain": [
       "{'a': 1, 'b': 3, 'c': 4}"
      ]
     },
     "execution_count": 19,
     "metadata": {},
     "output_type": "execute_result"
    }
   ],
   "source": [
    "def y(**a): # 가변 키워드 방식\n",
    "    return a\n",
    "\n",
    "y(a = 1, b = 3, c = 4)"
   ]
  },
  {
   "cell_type": "code",
   "execution_count": 20,
   "metadata": {},
   "outputs": [
    {
     "data": {
      "text/plain": [
       "((3, 4, 5), {'a': 1, 'b': 3, 'c': 4})"
      ]
     },
     "execution_count": 20,
     "metadata": {},
     "output_type": "execute_result"
    }
   ],
   "source": [
    "def y(*b, **a): # 가변 포지셔널 + 가변 키워드 방식\n",
    "    return b,a\n",
    "\n",
    "y(3, 4, 5, a = 1, b = 3, c = 4)"
   ]
  },
  {
   "cell_type": "code",
   "execution_count": 78,
   "metadata": {
    "scrolled": true
   },
   "outputs": [
    {
     "data": {
      "text/plain": [
       "[<matplotlib.lines.Line2D at 0x1be12af5288>]"
      ]
     },
     "execution_count": 78,
     "metadata": {},
     "output_type": "execute_result"
    },
    {
     "data": {
      "image/png": "[encoded data removed]",
      "text/plain": [
       "<Figure size 432x288 with 1 Axes>"
      ]
     },
     "metadata": {
      "needs_background": "light"
     },
     "output_type": "display_data"
    }
   ],
   "source": [
    "plt.plot([1, 2, 3], # 4. x\n",
    "        [4, 5, 6]) # shitf tab을 해보면, [x]라고 되어 있는데, 이것은 옵션이라는 뜻이다. (shift tab)"
   ]
  },
  {
   "cell_type": "code",
   "execution_count": 21,
   "metadata": {
    "collapsed": true
   },
   "outputs": [
    {
     "ename": "TypeError",
     "evalue": "hist() missing 1 required positional argument: 'x'",
     "output_type": "error",
     "traceback": [
      "\u001b[1;31m---------------------------------------------------------------------------\u001b[0m",
      "\u001b[1;31mTypeError\u001b[0m                                 Traceback (most recent call last)",
      "\u001b[1;32m<ipython-input-21-85881ad87f6d>\u001b[0m in \u001b[0;36m<module>\u001b[1;34m\u001b[0m\n\u001b[1;32m----> 1\u001b[1;33m \u001b[0mplt\u001b[0m\u001b[1;33m.\u001b[0m\u001b[0mhist\u001b[0m\u001b[1;33m(\u001b[0m\u001b[1;33m)\u001b[0m\u001b[1;33m\u001b[0m\u001b[1;33m\u001b[0m\u001b[0m\n\u001b[0m",
      "\u001b[1;31mTypeError\u001b[0m: hist() missing 1 required positional argument: 'x'"
     ]
    }
   ],
   "source": [
    "plt.hist()"
   ]
  },
  {
   "cell_type": "code",
   "execution_count": 22,
   "metadata": {},
   "outputs": [
    {
     "data": {
      "text/plain": [
       "(1, 2, 3, 4)"
      ]
     },
     "execution_count": 22,
     "metadata": {},
     "output_type": "execute_result"
    }
   ],
   "source": [
    "def x(*a):\n",
    "    return a\n",
    "\n",
    "x(*[1, 2, 3, 4]) # 5. 이렇게 벗기는건 unpacking 기법이라고 한다."
   ]
  },
  {
   "cell_type": "code",
   "execution_count": 23,
   "metadata": {},
   "outputs": [
    {
     "data": {
      "text/plain": [
       "{'a': 3, 'b': 4, 'c': 5}"
      ]
     },
     "execution_count": 23,
     "metadata": {},
     "output_type": "execute_result"
    }
   ],
   "source": [
    "def x(**a):\n",
    "    return a\n",
    "\n",
    "t = {'a': 3, 'b':4, 'c':5}\n",
    "x(**t) # 딕셔너리를 넣고 싶을 때 별 두개를 쓴다."
   ]
  },
  {
   "cell_type": "code",
   "execution_count": 24,
   "metadata": {
    "scrolled": true
   },
   "outputs": [
    {
     "data": {
      "text/plain": [
       "('a', 'b', 'c')"
      ]
     },
     "execution_count": 24,
     "metadata": {},
     "output_type": "execute_result"
    }
   ],
   "source": [
    "def x(*a):\n",
    "    return a\n",
    "\n",
    "t = {'a': 3, 'b':4, 'c':5}\n",
    "x(*t) # 언패킹된다."
   ]
  },
  {
   "cell_type": "code",
   "execution_count": 25,
   "metadata": {},
   "outputs": [
    {
     "data": {
      "text/plain": [
       "8"
      ]
     },
     "execution_count": 25,
     "metadata": {},
     "output_type": "execute_result"
    }
   ],
   "source": [
    "sum([1, 2, 3], 2) # shift tab -> sum(iterable, start=0, /) -> /는 무조건 포지셔널 방식만 쓸 수 있다는 것이다.\n",
    "# start = 2부터 시작해서 1, 2, 3, 차례로 더하는 방식이다."
   ]
  },
  {
   "cell_type": "code",
   "execution_count": 26,
   "metadata": {
    "scrolled": true
   },
   "outputs": [
    {
     "ename": "TypeError",
     "evalue": "sum() takes no keyword arguments",
     "output_type": "error",
     "traceback": [
      "\u001b[1;31m---------------------------------------------------------------------------\u001b[0m",
      "\u001b[1;31mTypeError\u001b[0m                                 Traceback (most recent call last)",
      "\u001b[1;32m<ipython-input-26-b01163568a89>\u001b[0m in \u001b[0;36m<module>\u001b[1;34m\u001b[0m\n\u001b[1;32m----> 1\u001b[1;33m \u001b[0msum\u001b[0m\u001b[1;33m(\u001b[0m\u001b[1;33m[\u001b[0m\u001b[1;36m1\u001b[0m\u001b[1;33m,\u001b[0m \u001b[1;36m2\u001b[0m\u001b[1;33m,\u001b[0m \u001b[1;36m3\u001b[0m\u001b[1;33m]\u001b[0m\u001b[1;33m,\u001b[0m \u001b[0mstart\u001b[0m \u001b[1;33m=\u001b[0m \u001b[1;36m2\u001b[0m\u001b[1;33m)\u001b[0m \u001b[1;31m# /가 있기 때문에 키워드 방식이 안되는 것이다.\u001b[0m\u001b[1;33m\u001b[0m\u001b[1;33m\u001b[0m\u001b[0m\n\u001b[0m",
      "\u001b[1;31mTypeError\u001b[0m: sum() takes no keyword arguments"
     ]
    }
   ],
   "source": [
    "sum([1, 2, 3], start = 2) # /가 있기 때문에 키워드 방식이 안되는 것이다."
   ]
  },
  {
   "cell_type": "code",
   "execution_count": 27,
   "metadata": {},
   "outputs": [
    {
     "data": {
      "text/plain": [
       "<function all(iterable, /)>"
      ]
     },
     "execution_count": 27,
     "metadata": {},
     "output_type": "execute_result"
    }
   ],
   "source": [
    "all"
   ]
  },
  {
   "cell_type": "code",
   "execution_count": 29,
   "metadata": {},
   "outputs": [
    {
     "data": {
      "text/plain": [
       "2"
      ]
     },
     "execution_count": 29,
     "metadata": {},
     "output_type": "execute_result"
    }
   ],
   "source": [
    "def xxx(a:int) -> int : #x에 정수값 넣으라는 뜻이다.\n",
    "    return a\n",
    "xxx(2) # "
   ]
  },
  {
   "cell_type": "markdown",
   "metadata": {},
   "source": [
    "파이썬은 다이나믹언어이기 때문에 위의 함수는 별로 권장하지 않는다."
   ]
  },
  {
   "cell_type": "code",
   "execution_count": 30,
   "metadata": {},
   "outputs": [
    {
     "data": {
      "text/plain": [
       "{'a': int, 'return': int}"
      ]
     },
     "execution_count": 30,
     "metadata": {},
     "output_type": "execute_result"
    }
   ],
   "source": [
    "dir(xxx)\n",
    "xxx.__annotations__ # 강제는 아니다."
   ]
  },
  {
   "cell_type": "markdown",
   "metadata": {},
   "source": [
    "# higer order function"
   ]
  },
  {
   "cell_type": "markdown",
   "metadata": {},
   "source": [
    "함수 고급들어가기 전에 용어를 알아야 함.\n",
    "\n",
    "1. higher order function\n",
    "\n",
    "아래 2개가 동시에 되면 higer order function이라고 한다.\n",
    "\n",
    " - argument를 fuction으로 받을 수 있음\n",
    " - return을 function으로 돌릴 수 있음\n",
    " \n",
    "파이썬에서는 return이 "
   ]
  },
  {
   "cell_type": "code",
   "execution_count": 31,
   "metadata": {},
   "outputs": [],
   "source": [
    "def x(f):\n",
    "    f() # 함수를 실행시킨다는 뜻"
   ]
  },
  {
   "cell_type": "markdown",
   "metadata": {},
   "source": [
    "x는 함수라하고, x()는 함수의 리턴값이라고 한다.\n",
    "\n",
    "괄호를 붙일 수 있는 3가지 (callable)\n",
    "\n",
    "1. 함수\n",
    "2. 클래스\n",
    "3. 클래스에 __call__이 지정된 인스턴스 -> callable x 로 확인할 수 있다."
   ]
  },
  {
   "cell_type": "code",
   "execution_count": 32,
   "metadata": {},
   "outputs": [
    {
     "data": {
      "text/plain": [
       "True"
      ]
     },
     "execution_count": 32,
     "metadata": {},
     "output_type": "execute_result"
    }
   ],
   "source": [
    "callable(x)"
   ]
  },
  {
   "cell_type": "code",
   "execution_count": 33,
   "metadata": {},
   "outputs": [],
   "source": [
    "def x(f):\n",
    "    f('김지우')"
   ]
  },
  {
   "cell_type": "code",
   "execution_count": 34,
   "metadata": {
    "scrolled": true
   },
   "outputs": [
    {
     "name": "stdout",
     "output_type": "stream",
     "text": [
      "김지우\n"
     ]
    }
   ],
   "source": [
    "x(print) # ㅅㅂ 이게 되네."
   ]
  },
  {
   "cell_type": "code",
   "execution_count": 35,
   "metadata": {},
   "outputs": [],
   "source": [
    "def x(f):\n",
    "    return f"
   ]
  },
  {
   "cell_type": "code",
   "execution_count": 36,
   "metadata": {},
   "outputs": [
    {
     "name": "stdout",
     "output_type": "stream",
     "text": [
      "피카츄\n"
     ]
    }
   ],
   "source": [
    "x(print)('피카츄') # 와 ㅅㅂ 이게 되네"
   ]
  },
  {
   "cell_type": "markdown",
   "metadata": {},
   "source": [
    "우리가 많이 사용할 3총사\n",
    "\n",
    "1. map\n",
    "2. filter\n",
    "3. reduce\n",
    "\n",
    "이 3개는 달달 알고 있어야 한다."
   ]
  },
  {
   "cell_type": "code",
   "execution_count": 37,
   "metadata": {},
   "outputs": [
    {
     "data": {
      "text/plain": [
       "[3, 4, 5, 6]"
      ]
     },
     "execution_count": 37,
     "metadata": {},
     "output_type": "execute_result"
    }
   ],
   "source": [
    "map # /는 여기 앞까지만 포지셔널 방식으로 넣는다는 것이다.\n",
    "list(map(lambda x: x+1, [2, 3, 4, 5]))"
   ]
  },
  {
   "cell_type": "markdown",
   "metadata": {},
   "source": [
    "iterable이 들어가는 얘들은 기본적으로 for를 집어넣지 않아도 되는 애들이다. 아주 중요하다. "
   ]
  },
  {
   "cell_type": "code",
   "execution_count": 38,
   "metadata": {},
   "outputs": [
    {
     "data": {
      "text/plain": [
       "[5]"
      ]
     },
     "execution_count": 38,
     "metadata": {},
     "output_type": "execute_result"
    }
   ],
   "source": [
    "list(filter(lambda x: x>4, [2, 3, 4, 5]))"
   ]
  },
  {
   "cell_type": "code",
   "execution_count": 39,
   "metadata": {},
   "outputs": [
    {
     "data": {
      "text/plain": [
       "15"
      ]
     },
     "execution_count": 39,
     "metadata": {},
     "output_type": "execute_result"
    }
   ],
   "source": [
    "from functools import reduce # 함수\n",
    "\n",
    "reduce(lambda x, y: x+y, [1, 2, 3, 4, 5]) # 이것을 리덕션 테크닉이라고 한다."
   ]
  },
  {
   "cell_type": "code",
   "execution_count": 42,
   "metadata": {},
   "outputs": [
    {
     "name": "stdout",
     "output_type": "stream",
     "text": [
      "8.3 ms ± 109 µs per loop (mean ± std. dev. of 7 runs, 100 loops each)\n"
     ]
    }
   ],
   "source": [
    "%%timeit\n",
    "temp = []\n",
    "for i in range(100000):\n",
    "    temp.append(i+1)"
   ]
  },
  {
   "cell_type": "markdown",
   "metadata": {},
   "source": [
    "# first-class function\n",
    "\n",
    "fuction을 데이터(객체)처럼 사용할 수 있다. 함수를 값으로 사용하는 것.\n",
    "\n",
    "expression은 하나의 값으로 축약할 수 있는 놈. reduction 할 수 있는 놈.\n",
    "\n",
    "자바의 경우 higer order function은 맞지만, first-class function은 아니다."
   ]
  },
  {
   "cell_type": "code",
   "execution_count": 127,
   "metadata": {
    "scrolled": true
   },
   "outputs": [
    {
     "name": "stdout",
     "output_type": "stream",
     "text": [
      "김지우\n"
     ]
    }
   ],
   "source": [
    "x = print\n",
    "x('김지우')"
   ]
  },
  {
   "cell_type": "markdown",
   "metadata": {},
   "source": [
    "데코레이터: @ 클래스에 함수를 추가한다.\n",
    "\n",
    "컨테이너를 나누는 방식에서 오쏘고널이라는 것을 배움. "
   ]
  },
  {
   "cell_type": "code",
   "execution_count": 129,
   "metadata": {
    "scrolled": true
   },
   "outputs": [
    {
     "name": "stdout",
     "output_type": "stream",
     "text": [
      "문근영\n"
     ]
    }
   ],
   "source": [
    "x = [print, sum] # 이런것도 됨\n",
    "x[0]('문근영')"
   ]
  },
  {
   "cell_type": "markdown",
   "metadata": {},
   "source": [
    "함수를 사용하는 이유? 캡슐화. 밖에서 안으로 접근을 못한다.\n",
    "이러한 성질을 이용해서 이너함수를 만들 수 있다."
   ]
  },
  {
   "cell_type": "code",
   "execution_count": 43,
   "metadata": {},
   "outputs": [
    {
     "data": {
      "text/plain": [
       "3"
      ]
     },
     "execution_count": 43,
     "metadata": {},
     "output_type": "execute_result"
    }
   ],
   "source": [
    "aaa = 3\n",
    "def t():\n",
    "    bbb = 4\n",
    "    return aaa\n",
    "t() # name error\n",
    "# 함수 안에서는 함수 밖에 있는 값에 접근할 수 있다."
   ]
  },
  {
   "cell_type": "code",
   "execution_count": 44,
   "metadata": {
    "scrolled": true
   },
   "outputs": [
    {
     "ename": "NameError",
     "evalue": "name 'bbb' is not defined",
     "output_type": "error",
     "traceback": [
      "\u001b[1;31m---------------------------------------------------------------------------\u001b[0m",
      "\u001b[1;31mNameError\u001b[0m                                 Traceback (most recent call last)",
      "\u001b[1;32m<ipython-input-44-1f5a312fa714>\u001b[0m in \u001b[0;36m<module>\u001b[1;34m\u001b[0m\n\u001b[1;32m----> 1\u001b[1;33m \u001b[0mbbb\u001b[0m \u001b[1;31m# 캡술안에 있기 때문에 그렇다.\u001b[0m\u001b[1;33m\u001b[0m\u001b[1;33m\u001b[0m\u001b[0m\n\u001b[0m\u001b[0;32m      2\u001b[0m \u001b[0mt\u001b[0m\u001b[1;33m.\u001b[0m\u001b[0mbbb\u001b[0m\u001b[1;33m\u001b[0m\u001b[1;33m\u001b[0m\u001b[0m\n\u001b[0;32m      3\u001b[0m \u001b[0mt\u001b[0m\u001b[1;33m(\u001b[0m\u001b[1;33m)\u001b[0m\u001b[1;33m.\u001b[0m\u001b[0mbbb\u001b[0m \u001b[1;31m# 다 안된다.\u001b[0m\u001b[1;33m\u001b[0m\u001b[1;33m\u001b[0m\u001b[0m\n",
      "\u001b[1;31mNameError\u001b[0m: name 'bbb' is not defined"
     ]
    }
   ],
   "source": [
    "bbb # 캡술안에 있기 때문에 그렇다.\n",
    "t.bbb \n",
    "t().bbb # 다 안된다."
   ]
  },
  {
   "cell_type": "code",
   "execution_count": 46,
   "metadata": {},
   "outputs": [
    {
     "data": {
      "text/plain": [
       "5"
      ]
     },
     "execution_count": 46,
     "metadata": {},
     "output_type": "execute_result"
    }
   ],
   "source": [
    "aaa = 3\n",
    "def t():\n",
    "    aaa = 5 # Local에서 먼저 찾기 때문에 이게 출력된다.\n",
    "    bbb = 4\n",
    "    return aaa\n",
    "t() # name error\n",
    "# 함수 안에서는 함수 밖에 있는 값에 접근할 수 있다."
   ]
  },
  {
   "cell_type": "markdown",
   "metadata": {},
   "source": [
    "재사용 + 은닉을 시킬 수 있다. 그래서 함수 안에 함수를 만들어두면 그 함수 안에서만 실행시킬 수 있다."
   ]
  },
  {
   "cell_type": "markdown",
   "metadata": {},
   "source": [
    "값을 찾을 때는 LEBG 방식으로 찾는다.\n",
    "\n",
    "LEGB: Local - Enclosed - Global - Built-in"
   ]
  },
  {
   "cell_type": "code",
   "execution_count": 45,
   "metadata": {
    "scrolled": true
   },
   "outputs": [
    {
     "ename": "UnboundLocalError",
     "evalue": "local variable 'aaa' referenced before assignment",
     "output_type": "error",
     "traceback": [
      "\u001b[1;31m---------------------------------------------------------------------------\u001b[0m",
      "\u001b[1;31mUnboundLocalError\u001b[0m                         Traceback (most recent call last)",
      "\u001b[1;32m<ipython-input-45-98bc1dcf027f>\u001b[0m in \u001b[0;36m<module>\u001b[1;34m\u001b[0m\n\u001b[0;32m      3\u001b[0m     \u001b[0maaa\u001b[0m \u001b[1;33m+=\u001b[0m \u001b[1;36m1\u001b[0m \u001b[1;31m# 접근할 수는 있지만 값을 바꿀 수는 없다.\u001b[0m\u001b[1;33m\u001b[0m\u001b[1;33m\u001b[0m\u001b[0m\n\u001b[0;32m      4\u001b[0m     \u001b[1;32mreturn\u001b[0m \u001b[0maaa\u001b[0m\u001b[1;33m\u001b[0m\u001b[1;33m\u001b[0m\u001b[0m\n\u001b[1;32m----> 5\u001b[1;33m \u001b[0mt\u001b[0m\u001b[1;33m(\u001b[0m\u001b[1;33m)\u001b[0m \u001b[1;31m# name error\u001b[0m\u001b[1;33m\u001b[0m\u001b[1;33m\u001b[0m\u001b[0m\n\u001b[0m\u001b[0;32m      6\u001b[0m \u001b[1;31m# 함수 안에서는 함수 밖에 있는 값에 접근할 수 있다.\u001b[0m\u001b[1;33m\u001b[0m\u001b[1;33m\u001b[0m\u001b[1;33m\u001b[0m\u001b[0m\n",
      "\u001b[1;32m<ipython-input-45-98bc1dcf027f>\u001b[0m in \u001b[0;36mt\u001b[1;34m()\u001b[0m\n\u001b[0;32m      1\u001b[0m \u001b[0maaa\u001b[0m \u001b[1;33m=\u001b[0m \u001b[1;36m3\u001b[0m\u001b[1;33m\u001b[0m\u001b[1;33m\u001b[0m\u001b[0m\n\u001b[0;32m      2\u001b[0m \u001b[1;32mdef\u001b[0m \u001b[0mt\u001b[0m\u001b[1;33m(\u001b[0m\u001b[1;33m)\u001b[0m\u001b[1;33m:\u001b[0m\u001b[1;33m\u001b[0m\u001b[1;33m\u001b[0m\u001b[0m\n\u001b[1;32m----> 3\u001b[1;33m     \u001b[0maaa\u001b[0m \u001b[1;33m+=\u001b[0m \u001b[1;36m1\u001b[0m \u001b[1;31m# 접근할 수는 있지만 값을 바꿀 수는 없다.\u001b[0m\u001b[1;33m\u001b[0m\u001b[1;33m\u001b[0m\u001b[0m\n\u001b[0m\u001b[0;32m      4\u001b[0m     \u001b[1;32mreturn\u001b[0m \u001b[0maaa\u001b[0m\u001b[1;33m\u001b[0m\u001b[1;33m\u001b[0m\u001b[0m\n\u001b[0;32m      5\u001b[0m \u001b[0mt\u001b[0m\u001b[1;33m(\u001b[0m\u001b[1;33m)\u001b[0m \u001b[1;31m# name error\u001b[0m\u001b[1;33m\u001b[0m\u001b[1;33m\u001b[0m\u001b[0m\n",
      "\u001b[1;31mUnboundLocalError\u001b[0m: local variable 'aaa' referenced before assignment"
     ]
    }
   ],
   "source": [
    "aaa = 3\n",
    "def t():\n",
    "    aaa += 1 # 접근할 수는 있지만 값을 바꿀 수는 없다.\n",
    "    return aaa\n",
    "t() # name error\n",
    "# 함수 안에서는 함수 밖에 있는 값에 접근할 수 있다."
   ]
  },
  {
   "cell_type": "code",
   "execution_count": 49,
   "metadata": {},
   "outputs": [
    {
     "data": {
      "text/plain": [
       "4"
      ]
     },
     "execution_count": 49,
     "metadata": {},
     "output_type": "execute_result"
    }
   ],
   "source": [
    "aaa = 3\n",
    "def t():\n",
    "    global aaa \n",
    "    aaa += 1 # 글로벌로 싱크로나이징해주면 가능하다. 밖의 값도 바뀐다.\n",
    "    return aaa\n",
    "t() # name error\n",
    "# 함수 안에서는 함수 밖에 있는 값에 접근할 수 있다."
   ]
  },
  {
   "cell_type": "code",
   "execution_count": 48,
   "metadata": {
    "scrolled": true
   },
   "outputs": [
    {
     "data": {
      "text/plain": [
       "4"
      ]
     },
     "execution_count": 48,
     "metadata": {},
     "output_type": "execute_result"
    }
   ],
   "source": [
    "aaa # 이것이 글로벌 할당이다. "
   ]
  },
  {
   "cell_type": "code",
   "execution_count": 52,
   "metadata": {},
   "outputs": [
    {
     "data": {
      "text/plain": [
       "2"
      ]
     },
     "execution_count": 52,
     "metadata": {},
     "output_type": "execute_result"
    }
   ],
   "source": [
    "xxx= 3 # 글로벌 변수\n",
    "def t():\n",
    "    xxx = 1 # 인크로징 변수, non-local 변수\n",
    "    def s():\n",
    "        xxx = 2\n",
    "        return xxx # 로컬 변수\n",
    "    return s()\n",
    "t()"
   ]
  },
  {
   "cell_type": "code",
   "execution_count": 50,
   "metadata": {},
   "outputs": [
    {
     "data": {
      "text/plain": [
       "1"
      ]
     },
     "execution_count": 50,
     "metadata": {},
     "output_type": "execute_result"
    }
   ],
   "source": [
    "xxx= 3 # 글로벌 변수\n",
    "def t():\n",
    "    xxx = 1 # 인크로징 변수, nonlocal변수\n",
    "    def s():\n",
    "        nonlocal xxx #global\n",
    "        return xxx # 로컬 변수\n",
    "    return s()\n",
    "t()"
   ]
  }
 ],
 "metadata": {
  "kernelspec": {
   "display_name": "Tensorflow2.0-GPU",
   "language": "python",
   "name": "tf2.0-gpu"
  },
  "language_info": {
   "codemirror_mode": {
    "name": "ipython",
    "version": 3
   },
   "file_extension": ".py",
   "mimetype": "text/x-python",
   "name": "python",
   "nbconvert_exporter": "python",
   "pygments_lexer": "ipython3",
   "version": "3.7.5"
  }
 },
 "nbformat": 4,
 "nbformat_minor": 2
}
