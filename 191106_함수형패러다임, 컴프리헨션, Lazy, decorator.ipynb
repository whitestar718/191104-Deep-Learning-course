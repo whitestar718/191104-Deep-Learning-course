{
 "cells": [
  {
   "cell_type": "markdown",
   "metadata": {},
   "source": [
    "# 함수형 패러다임\n",
    "\n",
    "https://docs.python.org/ko/3/howto/functional.html\n",
    "\n",
    "만만치 않다. 오렐리 책에 있는 50페이지 가까이에 있는 것을 풀어 쓴 것이다. 주말에 시간내서 꼭 공부하고 와야 한다. 함수만 가지고 프로그래밍 하는 방식을 말한다. 함수의 정의 자체가 조금 다르다. higer order function, first class function, 수학함수이다. 특히 수학함수의 경우, 파이썬의 함수와는 조금 다른 성질을 가진다.\n",
    "\n",
    "### 형식적 증명 가능성\n",
    "이론적 바탕을 가진 얘들을 프로그래밍 할 때, 자주 쓰일 수 있다는 말이다. 코드가 간결한 대신 우리가 이해를 못한다 ㅋ \n",
    "\n",
    "함수형 패러다임은 FP Functional Programming이라고 한다. 왜 중요할까? 분산처리 개념과 연관되기 때문이다. 함수를 여러개 동시에 실행하면 분산환경이 된다. 디버깅할 때 쉽다. 인풋 아웃풋이 정확하니까 함수만 보면 되니까.\n",
    "\n",
    " - 퍼스트 클래스 함수이다.\n",
    " - 리스트 프로그래밍: 여러개의 데이터를 동시에 다룬다.\n",
    " - 코드양이 작아서 빨리 개발할 수 있다.\n",
    " - 디버깅도 빠르다.\n",
    " - 모듈화 되어있다."
   ]
  },
  {
   "cell_type": "markdown",
   "metadata": {},
   "source": [
    "### for를 쓰면 안좋은 점\n",
    "\n",
    "1. 코드가 길어질 때, 흐름찾기가 어렵다. \n",
    "2. 명령이 많아져서, 속도가 느려진다.\n",
    " \n",
    "### for를 안쓰는 방법\n",
    "\n",
    "1. iterator/generator\n",
    "2. comprehension\n",
    "3. map, filter, reduce\n",
    "4. recursion"
   ]
  },
  {
   "cell_type": "markdown",
   "metadata": {},
   "source": [
    "# comprehension\n",
    "\n",
    "listp 같은 언어는 리스트를 기반으로 한다."
   ]
  },
  {
   "cell_type": "code",
   "execution_count": 1,
   "metadata": {},
   "outputs": [
    {
     "name": "stdout",
     "output_type": "stream",
     "text": [
      "965 ns ± 105 ns per loop (mean ± std. dev. of 7 runs, 1000000 loops each)\n"
     ]
    }
   ],
   "source": [
    "%%timeit\n",
    "temp = []\n",
    "for i in range(10):\n",
    "    temp.append(i+1)\n",
    "\n",
    "temp"
   ]
  },
  {
   "cell_type": "code",
   "execution_count": 2,
   "metadata": {
    "scrolled": true
   },
   "outputs": [
    {
     "name": "stdout",
     "output_type": "stream",
     "text": [
      "737 ns ± 73 ns per loop (mean ± std. dev. of 7 runs, 1000000 loops each)\n"
     ]
    }
   ],
   "source": [
    "%%timeit\n",
    "[i+1 for i in range(10)]"
   ]
  },
  {
   "cell_type": "code",
   "execution_count": 6,
   "metadata": {},
   "outputs": [
    {
     "data": {
      "text/plain": [
       "[1, 2, 3, 4, 5, 6, 7, 8, 9, 10]"
      ]
     },
     "execution_count": 6,
     "metadata": {},
     "output_type": "execute_result"
    }
   ],
   "source": [
    "# %%timeit\n",
    "\n",
    "map(lambda x: x+1, range(10))"
   ]
  },
  {
   "cell_type": "markdown",
   "metadata": {},
   "source": [
    "map이 엄청빠르기 때문에, 빅데이터 하는 사람들은 map을 많이 사용한다.\n",
    "\n",
    "### 컴프리헨션 종류\n",
    "\n",
    "1. 리스트\n",
    "2. 셋\n",
    "3. 딕셔너리\n",
    "\n",
    "너무 컴프리헨션이 이름이 길어서 그냥 컴프라고 한다. (comp)"
   ]
  },
  {
   "cell_type": "code",
   "execution_count": 1,
   "metadata": {
    "scrolled": true
   },
   "outputs": [
    {
     "data": {
      "text/plain": [
       "['0',\n",
       " '2',\n",
       " '4',\n",
       " '6',\n",
       " '8',\n",
       " '10',\n",
       " '12',\n",
       " '14',\n",
       " '16',\n",
       " '18',\n",
       " '20',\n",
       " '22',\n",
       " '24',\n",
       " '26',\n",
       " '28',\n",
       " '30',\n",
       " '32',\n",
       " '34',\n",
       " '36',\n",
       " '38',\n",
       " '40',\n",
       " '42',\n",
       " '44',\n",
       " '46',\n",
       " '48',\n",
       " '50',\n",
       " '52',\n",
       " '54',\n",
       " '56',\n",
       " '58',\n",
       " '60',\n",
       " '62',\n",
       " '64',\n",
       " '66',\n",
       " '68',\n",
       " '70',\n",
       " '72',\n",
       " '74',\n",
       " '76',\n",
       " '78',\n",
       " '80',\n",
       " '82',\n",
       " '84',\n",
       " '86',\n",
       " '88',\n",
       " '90',\n",
       " '92',\n",
       " '94',\n",
       " '96',\n",
       " '98']"
      ]
     },
     "execution_count": 1,
     "metadata": {},
     "output_type": "execute_result"
    }
   ],
   "source": [
    "[str(i) for i in range(100) if i%2 == 0] # 속도도 빠르고 식 중첩도 가능하다."
   ]
  },
  {
   "cell_type": "markdown",
   "metadata": {},
   "source": [
    "많은 것을 한꺼번에 만들거나, 한꺼번에 많은 데이터를 변환시킬 때 컴프리헨션을 쓴다."
   ]
  },
  {
   "cell_type": "markdown",
   "metadata": {},
   "source": [
    "### 튜플 컴프리헨션은 좀 애매하다.\n",
    "\n",
    "튜플로 컴프리헨션을 하면 제너레이터가 나온다. 이터러블이 포뒤에 올수 있는 것이라고 말했다."
   ]
  },
  {
   "cell_type": "code",
   "execution_count": 2,
   "metadata": {
    "scrolled": true
   },
   "outputs": [
    {
     "data": {
      "text/plain": [
       "<generator object <genexpr> at 0x000001F9E33B9D48>"
      ]
     },
     "execution_count": 2,
     "metadata": {},
     "output_type": "execute_result"
    }
   ],
   "source": [
    "(i+1 for i in range(10))"
   ]
  },
  {
   "cell_type": "code",
   "execution_count": 3,
   "metadata": {},
   "outputs": [],
   "source": [
    "x = iter(range(10)) # iteragle은 iter의 인자로 들어갈 수 있다."
   ]
  },
  {
   "cell_type": "code",
   "execution_count": 14,
   "metadata": {},
   "outputs": [
    {
     "ename": "StopIteration",
     "evalue": "",
     "output_type": "error",
     "traceback": [
      "\u001b[1;31m---------------------------------------------------------------------------\u001b[0m",
      "\u001b[1;31mStopIteration\u001b[0m                             Traceback (most recent call last)",
      "\u001b[1;32m<ipython-input-14-5da42d916e13>\u001b[0m in \u001b[0;36m<module>\u001b[1;34m\u001b[0m\n\u001b[1;32m----> 1\u001b[1;33m \u001b[0mnext\u001b[0m\u001b[1;33m(\u001b[0m\u001b[0mx\u001b[0m\u001b[1;33m)\u001b[0m \u001b[1;31m# 끝까지 돌리면 에러가 나는데, 에러가 안나게끔 파이썬에서 지원을 알아서 해준다.\u001b[0m\u001b[1;33m\u001b[0m\u001b[1;33m\u001b[0m\u001b[0m\n\u001b[0m",
      "\u001b[1;31mStopIteration\u001b[0m: "
     ]
    }
   ],
   "source": [
    "next(x) # 끝까지 돌리면 에러가 나는데, 에러가 안나게끔 파이썬에서 지원을 알아서 해준다."
   ]
  },
  {
   "cell_type": "markdown",
   "metadata": {},
   "source": [
    "이렇게 이터레이터는 하나씩 나오는 것이다. 항상 왜 이걸 쓰는지, 언제 쓰는지가 중요하다.\n",
    "\n",
    "메모리 관리 관점에서 매우 좋다. 이것을 레이지 기법이라고 한다. 이터레이터는 할 수 있는게 next 하나밖에 없다.\n",
    "\n",
    "이터레이터의 형제는 제너레이터이다.\n",
    "\n",
    " - 이터레이터 만드는 방식: iter로 만든다.\n",
    " - 제너레이터 만드는 방식: 튜플로 만든 컴프리헨션, yield(immutable 이다)\n",
    " \n",
    "똑같은 기능을 하는데 만드는 방법이 달라서 그렇다. 한개씩 뽑아내서 처리하는 기능도 필요하기 때문에, 이터레이터/제너레이터를 배우는 것이다. "
   ]
  },
  {
   "cell_type": "code",
   "execution_count": 25,
   "metadata": {},
   "outputs": [],
   "source": [
    "def t():\n",
    "    yield 1\n",
    "    yield 2\n",
    "    yield 3\n",
    "    \n",
    "a = t()\n",
    "\n",
    "def t2():\n",
    "    yield from [1, 2, 3]\n",
    "    \n",
    "def t3():\n",
    "    while True:\n",
    "        yield 1"
   ]
  },
  {
   "cell_type": "code",
   "execution_count": 23,
   "metadata": {},
   "outputs": [
    {
     "data": {
      "text/plain": [
       "1"
      ]
     },
     "execution_count": 23,
     "metadata": {},
     "output_type": "execute_result"
    }
   ],
   "source": [
    "next(a)"
   ]
  },
  {
   "cell_type": "code",
   "execution_count": 26,
   "metadata": {},
   "outputs": [
    {
     "name": "stdout",
     "output_type": "stream",
     "text": [
      "  2           0 LOAD_CONST               1 (1)\n",
      "              2 YIELD_VALUE\n",
      "              4 POP_TOP\n",
      "\n",
      "  3           6 LOAD_CONST               2 (2)\n",
      "              8 YIELD_VALUE\n",
      "             10 POP_TOP\n",
      "\n",
      "  4          12 LOAD_CONST               3 (3)\n",
      "             14 YIELD_VALUE\n",
      "             16 POP_TOP\n",
      "             18 LOAD_CONST               0 (None)\n",
      "             20 RETURN_VALUE\n"
     ]
    }
   ],
   "source": [
    "import dis\n",
    "\n",
    "dis.dis(t)"
   ]
  },
  {
   "cell_type": "markdown",
   "metadata": {},
   "source": [
    "from이 나오는 경우\n",
    "\n",
    "1. import\n",
    "2. yield\n",
    "3. exception"
   ]
  },
  {
   "cell_type": "code",
   "execution_count": 27,
   "metadata": {},
   "outputs": [
    {
     "name": "stdout",
     "output_type": "stream",
     "text": [
      "Overwriting sun.txt\n"
     ]
    }
   ],
   "source": [
    "%%writefile sun.txt\n",
    "\n",
    "asasdfasd\n",
    "asdfasdf\n",
    "asdfadsf"
   ]
  },
  {
   "cell_type": "code",
   "execution_count": 28,
   "metadata": {},
   "outputs": [
    {
     "data": {
      "text/plain": [
       "<_io.TextIOWrapper name='sun.txt' mode='r' encoding='cp949'>"
      ]
     },
     "execution_count": 28,
     "metadata": {},
     "output_type": "execute_result"
    }
   ],
   "source": [
    "x = open('sun.txt')\n",
    "x"
   ]
  },
  {
   "cell_type": "code",
   "execution_count": 31,
   "metadata": {},
   "outputs": [
    {
     "data": {
      "text/plain": [
       "'\\n'"
      ]
     },
     "execution_count": 31,
     "metadata": {},
     "output_type": "execute_result"
    }
   ],
   "source": [
    "next(x)"
   ]
  },
  {
   "cell_type": "markdown",
   "metadata": {},
   "source": [
    "즉, 내부파일 구조는 다 이터레이터, 제너레이터로 만들어져있다. 다 레이지 구조로 만들어져 있는 것이다."
   ]
  },
  {
   "cell_type": "markdown",
   "metadata": {},
   "source": [
    "### recursion\n",
    "\n",
    "일반항을 만들 수 있는 얘들은 모두 recursion으로 만들 수 있다. 형식적 증명 가능성!"
   ]
  },
  {
   "cell_type": "code",
   "execution_count": 35,
   "metadata": {},
   "outputs": [
    {
     "data": {
      "text/plain": [
       "8"
      ]
     },
     "execution_count": 35,
     "metadata": {},
     "output_type": "execute_result"
    }
   ],
   "source": [
    "def fibo(n):\n",
    "    if n<2:\n",
    "        return 1\n",
    "    return fibo(n-1) + fibo(n-2)\n",
    "\n",
    "fibo(5)\n",
    "\n",
    "def fibo(n):\n",
    "    return fibo(n-1) + fibo(n-2) if n>=2 else 1\n",
    "\n",
    "fibo(5)"
   ]
  },
  {
   "cell_type": "markdown",
   "metadata": {},
   "source": [
    "꼬리 재귀 (tail recursion)\n",
    "\n",
    "최적화가 안되어 있어서, 파이썬 쓰는 사람들은 잘 안 쓴다. 너무 비효율적이라서. (메모리 속도가 너무 느리다)\n",
    "\n",
    "이걸 극복하는 방법들을 수업 자료실에 올려두실 것이다. 그 중 하나가 다이나믹 프로그램인데, 취준생은 이걸 잘해야 한다.\n",
    "\n",
    "식으로 표현할 수 있으면, 다 재귀함수로 만들 수 있다."
   ]
  },
  {
   "cell_type": "markdown",
   "metadata": {},
   "source": [
    "함수형 프로그래밍 모듈\n",
    "\n",
    " - itertools --- Functions creating iterators for efficient looping\n",
    " - functools --- Higher-order functions and operations on callable objects\n",
    " - operator --- 함수로서의 표준 연산자\n",
    " \n",
    "함수형 패러다임으로 프로그래밍을 한다는 것은, 문을 쓰지 않고 합성함수로 변환시키는 것이다. 수학적 함수기 때문에 문이 아니라 식을 더 좋아한다. 그 함수는 보통 식으로 구현해서, for를 가능한 사용하지 않고 개발하는 프로그래밍 기법인 것이다.\n",
    "\n",
    "이는 일반적인 함수의 정의와 다르다. 인풋, 아웃풋이 명확해야하고 global 있으면 안 좋다. 이제부터는 골치아픈 얘들을 배워본다."
   ]
  },
  {
   "cell_type": "code",
   "execution_count": 15,
   "metadata": {},
   "outputs": [],
   "source": [
    "import time\n",
    "\n",
    "time.time() # 현재 시간을 1975년도부터 나노밀리세컨드초 단위로 더해준다.\n",
    "\n",
    "def x(a = time.time()):\n",
    "    return a"
   ]
  },
  {
   "cell_type": "code",
   "execution_count": 20,
   "metadata": {},
   "outputs": [
    {
     "data": {
      "text/plain": [
       "1573376324.1841576"
      ]
     },
     "execution_count": 20,
     "metadata": {},
     "output_type": "execute_result"
    }
   ],
   "source": [
    "x() # 단점 1. 실행할 때마다 바뀌지 않는다. 디폴트값은 한 번 들어가면 바꿀 수가 없다. 디폴트 값은 동적으로 만들 수 없다."
   ]
  },
  {
   "cell_type": "code",
   "execution_count": 63,
   "metadata": {},
   "outputs": [],
   "source": [
    "def x(a = []):\n",
    "    return a.append(3) # 단점2. append의 결과는 none이기 때문에 결과가 없을 수 밖에 없다."
   ]
  },
  {
   "cell_type": "code",
   "execution_count": 21,
   "metadata": {},
   "outputs": [
    {
     "data": {
      "text/plain": [
       "1573376324.1841576"
      ]
     },
     "execution_count": 21,
     "metadata": {},
     "output_type": "execute_result"
    }
   ],
   "source": [
    "x()"
   ]
  },
  {
   "cell_type": "code",
   "execution_count": 22,
   "metadata": {},
   "outputs": [],
   "source": [
    "# 단점 2\n",
    "def x(a = []):\n",
    "    a.append(3)\n",
    "    return a # side-effect 이다. 인풋 아웃풋외 다른 결과를 초래할 수 있다."
   ]
  },
  {
   "cell_type": "code",
   "execution_count": 26,
   "metadata": {
    "scrolled": true
   },
   "outputs": [
    {
     "data": {
      "text/plain": [
       "[3, 3, 3, 3]"
      ]
     },
     "execution_count": 26,
     "metadata": {},
     "output_type": "execute_result"
    }
   ],
   "source": [
    "x()"
   ]
  },
  {
   "cell_type": "markdown",
   "metadata": {},
   "source": [
    "인풋이 들어가면 아웃풋이 나오는 형태의 함수를 만들어야 한다. 위의 2가지 처럼 코딩하면 안된다. (단점 2가지)\n",
    "\n",
    "함수형 패러다임은 뮤터블이 있으면 안 된다. 자기 자신이 바뀌면 안되기 때문. 하지만 우리는 취사선택해서 쓸 것이다."
   ]
  },
  {
   "cell_type": "code",
   "execution_count": 28,
   "metadata": {},
   "outputs": [],
   "source": [
    "class X():\n",
    "    def __call__(self):\n",
    "        print('CALL') # 인스턴스에 괄호를 붙일 수 있는\n",
    "        \n",
    "x = X()"
   ]
  },
  {
   "cell_type": "code",
   "execution_count": 31,
   "metadata": {},
   "outputs": [
    {
     "name": "stdout",
     "output_type": "stream",
     "text": [
      "CALL\n"
     ]
    }
   ],
   "source": [
    "x() # 인스턴스에 괄호 붙일 수 있는 얘"
   ]
  },
  {
   "cell_type": "code",
   "execution_count": 32,
   "metadata": {},
   "outputs": [
    {
     "name": "stdout",
     "output_type": "stream",
     "text": [
      "CALL\n"
     ]
    }
   ],
   "source": [
    "X()()"
   ]
  },
  {
   "cell_type": "code",
   "execution_count": 46,
   "metadata": {},
   "outputs": [
    {
     "name": "stdout",
     "output_type": "stream",
     "text": [
      "x\n",
      "<lambda>\n"
     ]
    }
   ],
   "source": [
    "def x():\n",
    "    print(1)\n",
    "print(x.__name__)\n",
    "\n",
    "a = lambda : print(1) # 식이다. 할당이 가능하다. 재사용하지 않을거면 람다가 효율적이다.\n",
    "print(a.__name__)"
   ]
  },
  {
   "cell_type": "code",
   "execution_count": 83,
   "metadata": {},
   "outputs": [
    {
     "data": {
      "text/plain": [
       "True"
      ]
     },
     "execution_count": 83,
     "metadata": {},
     "output_type": "execute_result"
    }
   ],
   "source": [
    "callable(a)"
   ]
  },
  {
   "cell_type": "code",
   "execution_count": 84,
   "metadata": {},
   "outputs": [],
   "source": [
    "class Adder(object):\n",
    "    def __init__(self, n):\n",
    "        self.n = n\n",
    "    def __call__(self, n):\n",
    "        return self.n + n\n",
    "add5_i = Adder(5)"
   ]
  },
  {
   "cell_type": "code",
   "execution_count": 88,
   "metadata": {},
   "outputs": [
    {
     "data": {
      "text/plain": [
       "6"
      ]
     },
     "execution_count": 88,
     "metadata": {},
     "output_type": "execute_result"
    }
   ],
   "source": [
    "add5_i(1)"
   ]
  },
  {
   "cell_type": "code",
   "execution_count": 89,
   "metadata": {
    "scrolled": true
   },
   "outputs": [
    {
     "data": {
      "text/plain": [
       "7"
      ]
     },
     "execution_count": 89,
     "metadata": {},
     "output_type": "execute_result"
    }
   ],
   "source": [
    "add5_i(2)"
   ]
  },
  {
   "cell_type": "code",
   "execution_count": 91,
   "metadata": {},
   "outputs": [
    {
     "data": {
      "text/plain": [
       "13"
      ]
     },
     "execution_count": 91,
     "metadata": {},
     "output_type": "execute_result"
    }
   ],
   "source": [
    "def mn(x):\n",
    "    def n(y):\n",
    "        return x + y\n",
    "    \n",
    "    return n\n",
    "\n",
    "mn(3)(10) # 이렇게 함수를 중첩해 쓰는 것을 클로저 기법이라고 한다."
   ]
  },
  {
   "cell_type": "markdown",
   "metadata": {},
   "source": [
    "클로저기법은 파셜이라는 얘가 있는데, 그럴 때도 많이 쓴다."
   ]
  },
  {
   "cell_type": "code",
   "execution_count": 55,
   "metadata": {},
   "outputs": [
    {
     "data": {
      "text/plain": [
       "20"
      ]
     },
     "execution_count": 55,
     "metadata": {},
     "output_type": "execute_result"
    }
   ],
   "source": [
    "from operator import mul\n",
    "\n",
    "mul(5, 4)"
   ]
  },
  {
   "cell_type": "code",
   "execution_count": 48,
   "metadata": {},
   "outputs": [
    {
     "ename": "NameError",
     "evalue": "name 'add' is not defined",
     "output_type": "error",
     "traceback": [
      "\u001b[1;31m---------------------------------------------------------------------------\u001b[0m",
      "\u001b[1;31mNameError\u001b[0m                                 Traceback (most recent call last)",
      "\u001b[1;32m<ipython-input-48-448857037f0d>\u001b[0m in \u001b[0;36m<module>\u001b[1;34m\u001b[0m\n\u001b[0;32m      1\u001b[0m \u001b[1;32mfrom\u001b[0m \u001b[0mfunctools\u001b[0m \u001b[1;32mimport\u001b[0m \u001b[0mpartial\u001b[0m\u001b[1;33m\u001b[0m\u001b[1;33m\u001b[0m\u001b[0m\n\u001b[0;32m      2\u001b[0m \u001b[1;33m\u001b[0m\u001b[0m\n\u001b[1;32m----> 3\u001b[1;33m \u001b[0madd3\u001b[0m \u001b[1;33m=\u001b[0m \u001b[0mpartial\u001b[0m\u001b[1;33m(\u001b[0m\u001b[0madd\u001b[0m\u001b[1;33m,\u001b[0m \u001b[1;36m3\u001b[0m\u001b[1;33m)\u001b[0m \u001b[1;31m# 이런식으로 남이 만든 함수를 바꿔서 쓸 수 있다. 이것도 일종의 클로저 기법이다.\u001b[0m\u001b[1;33m\u001b[0m\u001b[1;33m\u001b[0m\u001b[0m\n\u001b[0m\u001b[0;32m      4\u001b[0m \u001b[0madd3\u001b[0m\u001b[1;33m(\u001b[0m\u001b[1;36m5\u001b[0m\u001b[1;33m)\u001b[0m\u001b[1;33m\u001b[0m\u001b[1;33m\u001b[0m\u001b[0m\n",
      "\u001b[1;31mNameError\u001b[0m: name 'add' is not defined"
     ]
    }
   ],
   "source": [
    "from functools import partial\n",
    "\n",
    "add3 = partial(add, 3) # 이런식으로 남이 만든 함수를 바꿔서 쓸 수 있다. 이것도 일종의 클로저 기법이다.\n",
    "add3(5)"
   ]
  },
  {
   "cell_type": "code",
   "execution_count": 34,
   "metadata": {},
   "outputs": [
    {
     "ename": "NameError",
     "evalue": "name 'partial' is not defined",
     "output_type": "error",
     "traceback": [
      "\u001b[1;31m---------------------------------------------------------------------------\u001b[0m",
      "\u001b[1;31mNameError\u001b[0m                                 Traceback (most recent call last)",
      "\u001b[1;32m<ipython-input-34-4e6d303e1284>\u001b[0m in \u001b[0;36m<module>\u001b[1;34m\u001b[0m\n\u001b[0;32m      2\u001b[0m     \u001b[1;32mreturn\u001b[0m \u001b[0mstr\u001b[0m\u001b[1;33m(\u001b[0m\u001b[0ma\u001b[0m\u001b[1;33m)\u001b[0m\u001b[1;33m\u001b[0m\u001b[1;33m\u001b[0m\u001b[0m\n\u001b[0;32m      3\u001b[0m \u001b[1;33m\u001b[0m\u001b[0m\n\u001b[1;32m----> 4\u001b[1;33m \u001b[0mb\u001b[0m \u001b[1;33m=\u001b[0m \u001b[0mpartial\u001b[0m\u001b[1;33m(\u001b[0m\u001b[0mmul\u001b[0m\u001b[1;33m,\u001b[0m \u001b[1;36m4\u001b[0m\u001b[1;33m)\u001b[0m\u001b[1;33m\u001b[0m\u001b[1;33m\u001b[0m\u001b[0m\n\u001b[0m\u001b[0;32m      5\u001b[0m \u001b[0mb\u001b[0m\u001b[1;33m(\u001b[0m\u001b[1;36m5\u001b[0m\u001b[1;33m)\u001b[0m\u001b[1;33m\u001b[0m\u001b[1;33m\u001b[0m\u001b[0m\n",
      "\u001b[1;31mNameError\u001b[0m: name 'partial' is not defined"
     ]
    }
   ],
   "source": [
    "def x(a):\n",
    "    return str(a)\n",
    "\n",
    "b = partial(mul, 4)\n",
    "b(5)"
   ]
  },
  {
   "cell_type": "markdown",
   "metadata": {},
   "source": [
    "클로저 -> 중첩 ok, 리턴을 함수로 할 수 있다. 이 2가지다. 첫번째 인자에 따라서 리턴값이 바뀌는 것."
   ]
  },
  {
   "cell_type": "markdown",
   "metadata": {},
   "source": [
    "# Lazy Evaluation\n",
    "\n",
    "필요할 때마다 짐을 하나씩 꺼내오는 것이다. 짐을 전부 실으면 부지런... 하나씩 하면 게으른 것. 메모리가 아주 많을 때는 효율적이다. 근데 이건 큰 데이터에서는 유일한 대안이다.\n",
    "\n",
    "1. Haskell이라는 언어에서 가져온 것이다.\n",
    "2. \n",
    "\n",
    "시퀀스 타입 3가지 (인덱싱, 슬라이싱 가능)\n",
    "\n",
    "1. 리스트\n",
    "2. 튜플\n",
    "3. 레인지"
   ]
  },
  {
   "cell_type": "code",
   "execution_count": 37,
   "metadata": {},
   "outputs": [],
   "source": [
    "a = list([3, 3, ])\n",
    "b = 1"
   ]
  },
  {
   "cell_type": "code",
   "execution_count": 38,
   "metadata": {
    "scrolled": true
   },
   "outputs": [
    {
     "data": {
      "text/plain": [
       "['__add__',\n",
       " '__class__',\n",
       " '__contains__',\n",
       " '__delattr__',\n",
       " '__delitem__',\n",
       " '__dir__',\n",
       " '__doc__',\n",
       " '__eq__',\n",
       " '__format__',\n",
       " '__ge__',\n",
       " '__getattribute__',\n",
       " '__getitem__',\n",
       " '__gt__',\n",
       " '__hash__',\n",
       " '__iadd__',\n",
       " '__imul__',\n",
       " '__init__',\n",
       " '__init_subclass__',\n",
       " '__iter__',\n",
       " '__le__',\n",
       " '__len__',\n",
       " '__lt__',\n",
       " '__mul__',\n",
       " '__ne__',\n",
       " '__new__',\n",
       " '__reduce__',\n",
       " '__reduce_ex__',\n",
       " '__repr__',\n",
       " '__reversed__',\n",
       " '__rmul__',\n",
       " '__setattr__',\n",
       " '__setitem__',\n",
       " '__sizeof__',\n",
       " '__str__',\n",
       " '__subclasshook__',\n",
       " 'append',\n",
       " 'clear',\n",
       " 'copy',\n",
       " 'count',\n",
       " 'extend',\n",
       " 'index',\n",
       " 'insert',\n",
       " 'pop',\n",
       " 'remove',\n",
       " 'reverse',\n",
       " 'sort']"
      ]
     },
     "execution_count": 38,
     "metadata": {},
     "output_type": "execute_result"
    }
   ],
   "source": [
    "dir(a) \n",
    "\n",
    "# get_item -> []를 써서 인덱싱 할 수 있다."
   ]
  },
  {
   "cell_type": "code",
   "execution_count": 39,
   "metadata": {
    "scrolled": true
   },
   "outputs": [
    {
     "data": {
      "text/plain": [
       "['__abs__',\n",
       " '__add__',\n",
       " '__and__',\n",
       " '__bool__',\n",
       " '__ceil__',\n",
       " '__class__',\n",
       " '__delattr__',\n",
       " '__dir__',\n",
       " '__divmod__',\n",
       " '__doc__',\n",
       " '__eq__',\n",
       " '__float__',\n",
       " '__floor__',\n",
       " '__floordiv__',\n",
       " '__format__',\n",
       " '__ge__',\n",
       " '__getattribute__',\n",
       " '__getnewargs__',\n",
       " '__gt__',\n",
       " '__hash__',\n",
       " '__index__',\n",
       " '__init__',\n",
       " '__init_subclass__',\n",
       " '__int__',\n",
       " '__invert__',\n",
       " '__le__',\n",
       " '__lshift__',\n",
       " '__lt__',\n",
       " '__mod__',\n",
       " '__mul__',\n",
       " '__ne__',\n",
       " '__neg__',\n",
       " '__new__',\n",
       " '__or__',\n",
       " '__pos__',\n",
       " '__pow__',\n",
       " '__radd__',\n",
       " '__rand__',\n",
       " '__rdivmod__',\n",
       " '__reduce__',\n",
       " '__reduce_ex__',\n",
       " '__repr__',\n",
       " '__rfloordiv__',\n",
       " '__rlshift__',\n",
       " '__rmod__',\n",
       " '__rmul__',\n",
       " '__ror__',\n",
       " '__round__',\n",
       " '__rpow__',\n",
       " '__rrshift__',\n",
       " '__rshift__',\n",
       " '__rsub__',\n",
       " '__rtruediv__',\n",
       " '__rxor__',\n",
       " '__setattr__',\n",
       " '__sizeof__',\n",
       " '__str__',\n",
       " '__sub__',\n",
       " '__subclasshook__',\n",
       " '__truediv__',\n",
       " '__trunc__',\n",
       " '__xor__',\n",
       " 'bit_length',\n",
       " 'conjugate',\n",
       " 'denominator',\n",
       " 'from_bytes',\n",
       " 'imag',\n",
       " 'numerator',\n",
       " 'real',\n",
       " 'to_bytes']"
      ]
     },
     "execution_count": 39,
     "metadata": {},
     "output_type": "execute_result"
    }
   ],
   "source": [
    "dir(b)"
   ]
  },
  {
   "cell_type": "code",
   "execution_count": 100,
   "metadata": {},
   "outputs": [],
   "source": [
    "class Myint(int): # 이게 덕타이핑이다. int를 상속했는데, len을 정의하면 len을 쓸 수 있다!\n",
    "    def __len__(self):\n",
    "        return 1"
   ]
  },
  {
   "cell_type": "code",
   "execution_count": 101,
   "metadata": {
    "scrolled": false
   },
   "outputs": [
    {
     "data": {
      "text/plain": [
       "1"
      ]
     },
     "execution_count": 101,
     "metadata": {},
     "output_type": "execute_result"
    }
   ],
   "source": [
    "len(Myint(3))"
   ]
  },
  {
   "cell_type": "markdown",
   "metadata": {},
   "source": [
    "오버로딩... 다시 개념 알기."
   ]
  },
  {
   "cell_type": "code",
   "execution_count": 102,
   "metadata": {},
   "outputs": [],
   "source": [
    "a = [1, 2, 3]\n",
    "b = iter(a) # next가 있다."
   ]
  },
  {
   "cell_type": "code",
   "execution_count": 108,
   "metadata": {},
   "outputs": [
    {
     "data": {
      "text/plain": [
       "{'__length_hint__', '__next__', '__setstate__'}"
      ]
     },
     "execution_count": 108,
     "metadata": {},
     "output_type": "execute_result"
    }
   ],
   "source": [
    "set(dir(b)) - set(dir(a))"
   ]
  },
  {
   "cell_type": "code",
   "execution_count": 112,
   "metadata": {},
   "outputs": [
    {
     "data": {
      "text/plain": [
       "['_CHUNK_SIZE',\n",
       " '__class__',\n",
       " '__del__',\n",
       " '__delattr__',\n",
       " '__dict__',\n",
       " '__dir__',\n",
       " '__doc__',\n",
       " '__enter__',\n",
       " '__eq__',\n",
       " '__exit__',\n",
       " '__format__',\n",
       " '__ge__',\n",
       " '__getattribute__',\n",
       " '__getstate__',\n",
       " '__gt__',\n",
       " '__hash__',\n",
       " '__init__',\n",
       " '__init_subclass__',\n",
       " '__iter__',\n",
       " '__le__',\n",
       " '__lt__',\n",
       " '__ne__',\n",
       " '__new__',\n",
       " '__next__',\n",
       " '__reduce__',\n",
       " '__reduce_ex__',\n",
       " '__repr__',\n",
       " '__setattr__',\n",
       " '__sizeof__',\n",
       " '__str__',\n",
       " '__subclasshook__',\n",
       " '_checkClosed',\n",
       " '_checkReadable',\n",
       " '_checkSeekable',\n",
       " '_checkWritable',\n",
       " '_finalizing',\n",
       " 'buffer',\n",
       " 'close',\n",
       " 'closed',\n",
       " 'detach',\n",
       " 'encoding',\n",
       " 'errors',\n",
       " 'fileno',\n",
       " 'flush',\n",
       " 'isatty',\n",
       " 'line_buffering',\n",
       " 'mode',\n",
       " 'name',\n",
       " 'newlines',\n",
       " 'read',\n",
       " 'readable',\n",
       " 'readline',\n",
       " 'readlines',\n",
       " 'reconfigure',\n",
       " 'seek',\n",
       " 'seekable',\n",
       " 'tell',\n",
       " 'truncate',\n",
       " 'writable',\n",
       " 'write',\n",
       " 'write_through',\n",
       " 'writelines']"
      ]
     },
     "execution_count": 112,
     "metadata": {},
     "output_type": "execute_result"
    }
   ],
   "source": [
    "x = open('sun.txt')\n",
    "dir(x) # next가 있기 때문에 iter가 가능하고, 그래서 for 뒤에 쓸 수 있다."
   ]
  },
  {
   "cell_type": "markdown",
   "metadata": {},
   "source": [
    "# 데코레이터\n",
    "\n",
    "텐서플로의 tf.function이라는 것을 써야 하기 때문이다. 수업자료 준 거 다 쳐봐야 한다."
   ]
  },
  {
   "cell_type": "code",
   "execution_count": 114,
   "metadata": {},
   "outputs": [
    {
     "name": "stdout",
     "output_type": "stream",
     "text": [
      "foo\n"
     ]
    }
   ],
   "source": [
    "def foo(): # 객체지향에 맞지 않다.\n",
    "    print('foo')\n",
    "\n",
    "foo()"
   ]
  },
  {
   "cell_type": "code",
   "execution_count": 117,
   "metadata": {},
   "outputs": [],
   "source": [
    "def x(func):\n",
    "    def y():\n",
    "        func('문근영')\n",
    "    return y # () 유무 차이 알기"
   ]
  },
  {
   "cell_type": "code",
   "execution_count": 118,
   "metadata": {
    "scrolled": false
   },
   "outputs": [
    {
     "name": "stdout",
     "output_type": "stream",
     "text": [
      "문근영\n"
     ]
    }
   ],
   "source": [
    "x(print)()"
   ]
  },
  {
   "cell_type": "code",
   "execution_count": 119,
   "metadata": {},
   "outputs": [
    {
     "name": "stdout",
     "output_type": "stream",
     "text": [
      "-----\n",
      "문근영\n",
      "-----\n"
     ]
    }
   ],
   "source": [
    "def x(func):\n",
    "    def y(z):\n",
    "        print('-----')\n",
    "        func(z)\n",
    "        print('-----')\n",
    "    return y # () 유무 차이 알기\n",
    "\n",
    "x(print)('문근영') # 프린트의 기능에 다른 것을 추가시켰다."
   ]
  },
  {
   "cell_type": "code",
   "execution_count": 128,
   "metadata": {},
   "outputs": [],
   "source": [
    "@x\n",
    "def t(a):\n",
    "    print(a) # 이렇게 데코레이터를 붙이면, 기능을 추가하거나 변경할 수 있음."
   ]
  },
  {
   "cell_type": "code",
   "execution_count": 129,
   "metadata": {
    "scrolled": true
   },
   "outputs": [
    {
     "name": "stdout",
     "output_type": "stream",
     "text": [
      "-----\n",
      "5\n",
      "-----\n"
     ]
    }
   ],
   "source": [
    "t(5)"
   ]
  },
  {
   "cell_type": "markdown",
   "metadata": {},
   "source": [
    "꼭 함수를 인자로 받고,\n",
    "2중 구조로 되어 있어야 한다.\n",
    "\n",
    "데코레이터는 기능을 추가하거나 변경할 때 쓴다. 이걸 알아둬라."
   ]
  },
  {
   "cell_type": "code",
   "execution_count": 134,
   "metadata": {},
   "outputs": [],
   "source": [
    "def x(func):\n",
    "    def y(*args, **kwargs):\n",
    "        print('-----')\n",
    "        func(*args, **kwargs)\n",
    "        print('-----')\n",
    "    return y"
   ]
  },
  {
   "cell_type": "code",
   "execution_count": 135,
   "metadata": {},
   "outputs": [],
   "source": [
    "@x\n",
    "def s():\n",
    "    print('aaa')"
   ]
  },
  {
   "cell_type": "code",
   "execution_count": 136,
   "metadata": {
    "scrolled": true
   },
   "outputs": [
    {
     "name": "stdout",
     "output_type": "stream",
     "text": [
      "-----\n",
      "aaa\n",
      "-----\n"
     ]
    }
   ],
   "source": [
    "s()"
   ]
  },
  {
   "cell_type": "markdown",
   "metadata": {},
   "source": [
    "인자 맞출 필요 없고, 버전 업데이트가 용이하다."
   ]
  }
 ],
 "metadata": {
  "kernelspec": {
   "display_name": "Tensorflow2.0-GPU",
   "language": "python",
   "name": "tf2.0-gpu"
  },
  "language_info": {
   "codemirror_mode": {
    "name": "ipython",
    "version": 3
   },
   "file_extension": ".py",
   "mimetype": "text/x-python",
   "name": "python",
   "nbconvert_exporter": "python",
   "pygments_lexer": "ipython3",
   "version": "3.7.5"
  }
 },
 "nbformat": 4,
 "nbformat_minor": 2
}
