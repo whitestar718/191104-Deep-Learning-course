{
 "cells": [
  {
   "cell_type": "markdown",
   "metadata": {},
   "source": [
    "파이썬의 단점\n",
    "\n",
    "1. 속도가 느리고\n",
    "2. 모바일이 답이 없다.\n",
    "\n",
    "---\n",
    "\n",
    "SIMD: single instructor multi data 한번의 계산으로 다중의 데이터를 다룬다.\n",
    "\n",
    " - Just In Time: 파이썬에는 없다. tf.function에 데코레이터가 이런 방식으로 돌아간다.\n",
    " - Cython: C보다는 느리지만, 파이썬보다는 빠르다. 그런데 라이브러리가 별로 없다.\n",
    " - 넘파이는 1. 벡터와 2. 행렬 연산 하는 라이브러리라고 보면 된다.\n",
    " \n",
    " https://www.labri.fr/perso/nrougier/from-python-to-numpy/\n",
    " \n",
    " 이거 다 풀어봐라.. ㅜㅜ 숙제다.\n",
    "\n",
    "\n",
    "---\n",
    "\n",
    "총 3가지 방법을 이용해서 우리는 나아갈 것이다.\n",
    "\n",
    "1. 객체지향 프로그래밍\n",
    "2. 수학적 함수 프로그래밍\n",
    "3. 어레이 행렬 벡터를 이용하는 방식 (for 안쓰고!)\n",
    "\n",
    "---\n",
    "\n",
    "텐서라는 것은 ndarray를 말한다. 다차원 어레이를 말한다. flow라는 것은 컴퓨테이션 그래프를 만들어서 연산하는 흐름을 말한다.\n",
    " "
   ]
  }
 ],
 "metadata": {
  "kernelspec": {
   "display_name": "Tensorflow2.0-GPU",
   "language": "python",
   "name": "tf2.0-gpu"
  },
  "language_info": {
   "codemirror_mode": {
    "name": "ipython",
    "version": 3
   },
   "file_extension": ".py",
   "mimetype": "text/x-python",
   "name": "python",
   "nbconvert_exporter": "python",
   "pygments_lexer": "ipython3",
   "version": "3.7.5"
  }
 },
 "nbformat": 4,
 "nbformat_minor": 2
}
